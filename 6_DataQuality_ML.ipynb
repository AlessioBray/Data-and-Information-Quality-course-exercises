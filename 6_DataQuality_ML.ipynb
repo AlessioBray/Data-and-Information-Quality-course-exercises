{
  "nbformat": 4,
  "nbformat_minor": 0,
  "metadata": {
    "colab": {
      "name": "6_DataQuality_ML.ipynb",
      "provenance": []
    },
    "kernelspec": {
      "name": "python3",
      "display_name": "Python 3"
    },
    "language_info": {
      "name": "python"
    }
  },
  "cells": [
    {
      "cell_type": "markdown",
      "metadata": {
        "id": "lh6M4ZTNMx9y"
      },
      "source": [
        "# Sixth Exercise Session"
      ]
    },
    {
      "cell_type": "code",
      "metadata": {
        "id": "lfEIb5uOqWHF"
      },
      "source": [
        "from IPython.core.interactiveshell import InteractiveShell\n",
        "InteractiveShell.ast_node_interactivity = 'all'"
      ],
      "execution_count": 1,
      "outputs": []
    },
    {
      "cell_type": "code",
      "metadata": {
        "colab": {
          "base_uri": "https://localhost:8080/"
        },
        "id": "IU08l_44tQev",
        "outputId": "2e7fc7e3-ac82-4f1d-e5c7-51d86e03b885"
      },
      "source": [
        "import pandas as pd\n",
        "import numpy as np"
      ],
      "execution_count": 2,
      "outputs": [
        {
          "output_type": "stream",
          "name": "stdout",
          "text": [
            "Requirement already satisfied: recordlinkage in /home/alessio/anaconda3/envs/DataQuality/lib/python3.8/site-packages (0.14)\r\n",
            "Requirement already satisfied: numpy>=1.13.0 in /home/alessio/anaconda3/envs/DataQuality/lib/python3.8/site-packages (from recordlinkage) (1.20.1)\r\n",
            "Requirement already satisfied: pandas>=0.23 in /home/alessio/anaconda3/envs/DataQuality/lib/python3.8/site-packages (from recordlinkage) (1.2.4)\r\n",
            "Requirement already satisfied: jellyfish>=0.5.4 in /home/alessio/anaconda3/envs/DataQuality/lib/python3.8/site-packages (from recordlinkage) (0.8.9)\r\n",
            "Requirement already satisfied: joblib in /home/alessio/anaconda3/envs/DataQuality/lib/python3.8/site-packages (from recordlinkage) (1.0.1)\r\n",
            "Requirement already satisfied: scipy>=1 in /home/alessio/anaconda3/envs/DataQuality/lib/python3.8/site-packages (from recordlinkage) (1.6.2)\r\n",
            "Requirement already satisfied: scikit-learn>=0.19.0 in /home/alessio/anaconda3/envs/DataQuality/lib/python3.8/site-packages (from recordlinkage) (0.24.1)\r\n",
            "Requirement already satisfied: python-dateutil>=2.7.3 in /home/alessio/anaconda3/envs/DataQuality/lib/python3.8/site-packages (from pandas>=0.23->recordlinkage) (2.8.1)\n",
            "Requirement already satisfied: pytz>=2017.3 in /home/alessio/anaconda3/envs/DataQuality/lib/python3.8/site-packages (from pandas>=0.23->recordlinkage) (2021.1)\n",
            "Requirement already satisfied: six>=1.5 in /home/alessio/anaconda3/envs/DataQuality/lib/python3.8/site-packages (from python-dateutil>=2.7.3->pandas>=0.23->recordlinkage) (1.15.0)\n",
            "Requirement already satisfied: threadpoolctl>=2.0.0 in /home/alessio/anaconda3/envs/DataQuality/lib/python3.8/site-packages (from scikit-learn>=0.19.0->recordlinkage) (2.1.0)\n"
          ]
        }
      ]
    },
    {
      "cell_type": "markdown",
      "metadata": {
        "id": "HN_a2ZKOM6HH"
      },
      "source": [
        "## Data Quality in Machine Learning\n",
        "\n",
        "The basics checks that must be done during the data cleaning process in a ML pipeline are:\n",
        "\n",
        "* delete the columns with a unique value (constant value for each tuple).\n",
        "* observe the columns with a low entropy of values, i.e. that the value is the same for most of the tuples with only few exceptions."
      ]
    },
    {
      "cell_type": "code",
      "metadata": {
        "colab": {
          "base_uri": "https://localhost:8080/"
        },
        "id": "ck7bVPTFN-sR",
        "outputId": "9e6fb613-8d4b-45d6-991f-8cacd7da7b2c"
      },
      "source": [
        "!ls './Dataset'"
      ],
      "execution_count": 3,
      "outputs": [
        {
          "output_type": "stream",
          "name": "stdout",
          "text": [
            "beers.csv\t      hospital_account_info.csv   property.csv\r\n",
            "beersPoorDQ.csv       hospital_reimbursement.csv  propertyTimeliness.csv\r\n",
            "bridges.csv\t      iris.csv\t\t\t  shampoo.csv\r\n",
            "chess.csv\t      nba.csv\t\t\t  styles.csv\r\n",
            "Datasets17112021.pdf  oil_spill.csv\t\t  TechUSA.csv\r\n"
          ]
        }
      ]
    },
    {
      "cell_type": "code",
      "metadata": {
        "colab": {
          "base_uri": "https://localhost:8080/",
          "height": 256
        },
        "id": "A-ZxmpGbN7VI",
        "outputId": "839573f1-8dc6-42ff-f105-e661148d9b0c"
      },
      "source": [
        "data = pd.read_csv('./Dataset/oil_spill.csv', header=None)\n",
        "data.head()"
      ],
      "execution_count": 10,
      "outputs": [
        {
          "output_type": "execute_result",
          "data": {
            "text/plain": [
              "   0      1        2       3    4           5      6     7        8     9   \\\n",
              "0   1   2558  1506.09  456.63   90   6395000.0  40.88  7.89  29780.0  0.19   \n",
              "1   2  22325    79.11  841.03  180  55812500.0  51.11  1.21  61900.0  0.02   \n",
              "2   3    115  1449.85  608.43   88    287500.0  40.42  7.34   3340.0  0.18   \n",
              "3   4   1201  1562.53  295.65   66   3002500.0  42.40  7.97  18030.0  0.19   \n",
              "4   5    312   950.27  440.86   37    780000.0  41.43  7.03   3350.0  0.17   \n",
              "\n",
              "   ...       40        41       42       43     44  45        46     47    48  \\\n",
              "0  ...  2850.00   1000.00   763.16   135.46   3.73   0  33243.19  65.74  7.95   \n",
              "1  ...  5750.00  11500.00  9593.48  1648.80   0.60   0  51572.04  65.73  6.26   \n",
              "2  ...  1400.00    250.00   150.00    45.13   9.33   1  31692.84  65.81  7.84   \n",
              "3  ...  6041.52    761.58   453.21   144.97  13.33   1  37696.21  65.67  8.07   \n",
              "4  ...  1320.04    710.63   512.54   109.16   2.58   0  29038.17  65.66  7.35   \n",
              "\n",
              "   49  \n",
              "0   1  \n",
              "1   0  \n",
              "2   1  \n",
              "3   1  \n",
              "4   0  \n",
              "\n",
              "[5 rows x 50 columns]"
            ],
            "text/html": [
              "<div>\n",
              "<style scoped>\n",
              "    .dataframe tbody tr th:only-of-type {\n",
              "        vertical-align: middle;\n",
              "    }\n",
              "\n",
              "    .dataframe tbody tr th {\n",
              "        vertical-align: top;\n",
              "    }\n",
              "\n",
              "    .dataframe thead th {\n",
              "        text-align: right;\n",
              "    }\n",
              "</style>\n",
              "<table border=\"1\" class=\"dataframe\">\n",
              "  <thead>\n",
              "    <tr style=\"text-align: right;\">\n",
              "      <th></th>\n",
              "      <th>0</th>\n",
              "      <th>1</th>\n",
              "      <th>2</th>\n",
              "      <th>3</th>\n",
              "      <th>4</th>\n",
              "      <th>5</th>\n",
              "      <th>6</th>\n",
              "      <th>7</th>\n",
              "      <th>8</th>\n",
              "      <th>9</th>\n",
              "      <th>...</th>\n",
              "      <th>40</th>\n",
              "      <th>41</th>\n",
              "      <th>42</th>\n",
              "      <th>43</th>\n",
              "      <th>44</th>\n",
              "      <th>45</th>\n",
              "      <th>46</th>\n",
              "      <th>47</th>\n",
              "      <th>48</th>\n",
              "      <th>49</th>\n",
              "    </tr>\n",
              "  </thead>\n",
              "  <tbody>\n",
              "    <tr>\n",
              "      <th>0</th>\n",
              "      <td>1</td>\n",
              "      <td>2558</td>\n",
              "      <td>1506.09</td>\n",
              "      <td>456.63</td>\n",
              "      <td>90</td>\n",
              "      <td>6395000.0</td>\n",
              "      <td>40.88</td>\n",
              "      <td>7.89</td>\n",
              "      <td>29780.0</td>\n",
              "      <td>0.19</td>\n",
              "      <td>...</td>\n",
              "      <td>2850.00</td>\n",
              "      <td>1000.00</td>\n",
              "      <td>763.16</td>\n",
              "      <td>135.46</td>\n",
              "      <td>3.73</td>\n",
              "      <td>0</td>\n",
              "      <td>33243.19</td>\n",
              "      <td>65.74</td>\n",
              "      <td>7.95</td>\n",
              "      <td>1</td>\n",
              "    </tr>\n",
              "    <tr>\n",
              "      <th>1</th>\n",
              "      <td>2</td>\n",
              "      <td>22325</td>\n",
              "      <td>79.11</td>\n",
              "      <td>841.03</td>\n",
              "      <td>180</td>\n",
              "      <td>55812500.0</td>\n",
              "      <td>51.11</td>\n",
              "      <td>1.21</td>\n",
              "      <td>61900.0</td>\n",
              "      <td>0.02</td>\n",
              "      <td>...</td>\n",
              "      <td>5750.00</td>\n",
              "      <td>11500.00</td>\n",
              "      <td>9593.48</td>\n",
              "      <td>1648.80</td>\n",
              "      <td>0.60</td>\n",
              "      <td>0</td>\n",
              "      <td>51572.04</td>\n",
              "      <td>65.73</td>\n",
              "      <td>6.26</td>\n",
              "      <td>0</td>\n",
              "    </tr>\n",
              "    <tr>\n",
              "      <th>2</th>\n",
              "      <td>3</td>\n",
              "      <td>115</td>\n",
              "      <td>1449.85</td>\n",
              "      <td>608.43</td>\n",
              "      <td>88</td>\n",
              "      <td>287500.0</td>\n",
              "      <td>40.42</td>\n",
              "      <td>7.34</td>\n",
              "      <td>3340.0</td>\n",
              "      <td>0.18</td>\n",
              "      <td>...</td>\n",
              "      <td>1400.00</td>\n",
              "      <td>250.00</td>\n",
              "      <td>150.00</td>\n",
              "      <td>45.13</td>\n",
              "      <td>9.33</td>\n",
              "      <td>1</td>\n",
              "      <td>31692.84</td>\n",
              "      <td>65.81</td>\n",
              "      <td>7.84</td>\n",
              "      <td>1</td>\n",
              "    </tr>\n",
              "    <tr>\n",
              "      <th>3</th>\n",
              "      <td>4</td>\n",
              "      <td>1201</td>\n",
              "      <td>1562.53</td>\n",
              "      <td>295.65</td>\n",
              "      <td>66</td>\n",
              "      <td>3002500.0</td>\n",
              "      <td>42.40</td>\n",
              "      <td>7.97</td>\n",
              "      <td>18030.0</td>\n",
              "      <td>0.19</td>\n",
              "      <td>...</td>\n",
              "      <td>6041.52</td>\n",
              "      <td>761.58</td>\n",
              "      <td>453.21</td>\n",
              "      <td>144.97</td>\n",
              "      <td>13.33</td>\n",
              "      <td>1</td>\n",
              "      <td>37696.21</td>\n",
              "      <td>65.67</td>\n",
              "      <td>8.07</td>\n",
              "      <td>1</td>\n",
              "    </tr>\n",
              "    <tr>\n",
              "      <th>4</th>\n",
              "      <td>5</td>\n",
              "      <td>312</td>\n",
              "      <td>950.27</td>\n",
              "      <td>440.86</td>\n",
              "      <td>37</td>\n",
              "      <td>780000.0</td>\n",
              "      <td>41.43</td>\n",
              "      <td>7.03</td>\n",
              "      <td>3350.0</td>\n",
              "      <td>0.17</td>\n",
              "      <td>...</td>\n",
              "      <td>1320.04</td>\n",
              "      <td>710.63</td>\n",
              "      <td>512.54</td>\n",
              "      <td>109.16</td>\n",
              "      <td>2.58</td>\n",
              "      <td>0</td>\n",
              "      <td>29038.17</td>\n",
              "      <td>65.66</td>\n",
              "      <td>7.35</td>\n",
              "      <td>0</td>\n",
              "    </tr>\n",
              "  </tbody>\n",
              "</table>\n",
              "<p>5 rows × 50 columns</p>\n",
              "</div>"
            ]
          },
          "metadata": {},
          "execution_count": 10
        }
      ]
    },
    {
      "cell_type": "markdown",
      "metadata": {
        "id": "pglWsl6AOV2A"
      },
      "source": [
        "### Drop columns with unique values\n",
        "\n",
        "First of all to detect the non-relevant column for machine learning we shoud look for unique values for each column:"
      ]
    },
    {
      "cell_type": "code",
      "metadata": {
        "colab": {
          "base_uri": "https://localhost:8080/"
        },
        "id": "Ib0QuJzUOUFe",
        "outputId": "bc159452-7d40-4106-ab6c-8e7c44a8383c"
      },
      "source": [
        "print('Number of columns: ', data.shape[1])\n",
        "print('Number of rows: ', data.shape[0], '\\n')\n",
        "print('Unique columns: ')\n",
        "data.nunique() == 1"
      ],
      "execution_count": 86,
      "outputs": [
        {
          "output_type": "stream",
          "name": "stdout",
          "text": [
            "Number of columns:  50\n",
            "Number of rows:  937 \n",
            "\n",
            "Unique columns: \n"
          ]
        },
        {
          "output_type": "execute_result",
          "data": {
            "text/plain": [
              "0     False\n",
              "1     False\n",
              "2     False\n",
              "3     False\n",
              "4     False\n",
              "5     False\n",
              "6     False\n",
              "7     False\n",
              "8     False\n",
              "9     False\n",
              "10    False\n",
              "11    False\n",
              "12    False\n",
              "13    False\n",
              "14    False\n",
              "15    False\n",
              "16    False\n",
              "17    False\n",
              "18    False\n",
              "19    False\n",
              "20    False\n",
              "21    False\n",
              "22     True\n",
              "23    False\n",
              "24    False\n",
              "25    False\n",
              "26    False\n",
              "27    False\n",
              "28    False\n",
              "29    False\n",
              "30    False\n",
              "31    False\n",
              "32    False\n",
              "33    False\n",
              "34    False\n",
              "35    False\n",
              "36    False\n",
              "37    False\n",
              "38    False\n",
              "39    False\n",
              "40    False\n",
              "41    False\n",
              "42    False\n",
              "43    False\n",
              "44    False\n",
              "45    False\n",
              "46    False\n",
              "47    False\n",
              "48    False\n",
              "49    False\n",
              "dtype: bool"
            ]
          },
          "metadata": {},
          "execution_count": 86
        }
      ]
    },
    {
      "cell_type": "markdown",
      "metadata": {
        "id": "XfBdeHU0PgHo"
      },
      "source": [
        "We have to understand if a column is useful in our ML algorithm by looking at the number of unique values: as said usually columns with a limited number of values are not useful, since the algorithms need a certain variety to learn something.\n",
        "\n",
        "Let's drop columns with a unique value:"
      ]
    },
    {
      "cell_type": "code",
      "metadata": {
        "colab": {
          "base_uri": "https://localhost:8080/"
        },
        "id": "z6S5LSUaRIqj",
        "outputId": "cc8f961f-81cb-4859-dd6a-b55a444d9d50"
      },
      "source": [
        "unique_mask = (data.nunique() == 1)\n",
        "to_del = [i for i,v in enumerate(unique_mask) if v == True]\n",
        "to_del"
      ],
      "execution_count": 48,
      "outputs": [
        {
          "output_type": "execute_result",
          "data": {
            "text/plain": [
              "[22]"
            ]
          },
          "metadata": {},
          "execution_count": 48
        }
      ]
    },
    {
      "cell_type": "code",
      "metadata": {
        "colab": {
          "base_uri": "https://localhost:8080/"
        },
        "id": "kZkmToHaR9oC",
        "outputId": "df3bd355-cb57-4fea-b797-7ca0d77921b9"
      },
      "source": [
        "#data.drop(to_del, axis=1, inplace=True)\n",
        "try:\n",
        "  data[22]\n",
        "except:\n",
        "  print('Column 22 not found')"
      ],
      "execution_count": 58,
      "outputs": [
        {
          "output_type": "stream",
          "name": "stdout",
          "text": [
            "Column 22 not found\n"
          ]
        }
      ]
    },
    {
      "cell_type": "markdown",
      "metadata": {
        "id": "OXEvqHwFSTvk"
      },
      "source": [
        "Where there is no more the column number 22."
      ]
    },
    {
      "cell_type": "markdown",
      "metadata": {
        "id": "Kbfr9AS3TLB_"
      },
      "source": [
        "### Analyze columns with low variety of values "
      ]
    },
    {
      "cell_type": "code",
      "metadata": {
        "colab": {
          "base_uri": "https://localhost:8080/",
          "height": 256
        },
        "id": "2QZS4MKyS58l",
        "outputId": "a8e7172a-aa0a-4141-e4d8-d0af63ca8352"
      },
      "source": [
        "data = pd.read_csv('./Dataset/oil_spill.csv', header=None)\n",
        "data.head()"
      ],
      "execution_count": 59,
      "outputs": [
        {
          "output_type": "execute_result",
          "data": {
            "text/plain": [
              "   0      1        2       3    4           5      6     7        8     9   \\\n",
              "0   1   2558  1506.09  456.63   90   6395000.0  40.88  7.89  29780.0  0.19   \n",
              "1   2  22325    79.11  841.03  180  55812500.0  51.11  1.21  61900.0  0.02   \n",
              "2   3    115  1449.85  608.43   88    287500.0  40.42  7.34   3340.0  0.18   \n",
              "3   4   1201  1562.53  295.65   66   3002500.0  42.40  7.97  18030.0  0.19   \n",
              "4   5    312   950.27  440.86   37    780000.0  41.43  7.03   3350.0  0.17   \n",
              "\n",
              "   ...       40        41       42       43     44  45        46     47    48  \\\n",
              "0  ...  2850.00   1000.00   763.16   135.46   3.73   0  33243.19  65.74  7.95   \n",
              "1  ...  5750.00  11500.00  9593.48  1648.80   0.60   0  51572.04  65.73  6.26   \n",
              "2  ...  1400.00    250.00   150.00    45.13   9.33   1  31692.84  65.81  7.84   \n",
              "3  ...  6041.52    761.58   453.21   144.97  13.33   1  37696.21  65.67  8.07   \n",
              "4  ...  1320.04    710.63   512.54   109.16   2.58   0  29038.17  65.66  7.35   \n",
              "\n",
              "   49  \n",
              "0   1  \n",
              "1   0  \n",
              "2   1  \n",
              "3   1  \n",
              "4   0  \n",
              "\n",
              "[5 rows x 50 columns]"
            ],
            "text/html": [
              "<div>\n",
              "<style scoped>\n",
              "    .dataframe tbody tr th:only-of-type {\n",
              "        vertical-align: middle;\n",
              "    }\n",
              "\n",
              "    .dataframe tbody tr th {\n",
              "        vertical-align: top;\n",
              "    }\n",
              "\n",
              "    .dataframe thead th {\n",
              "        text-align: right;\n",
              "    }\n",
              "</style>\n",
              "<table border=\"1\" class=\"dataframe\">\n",
              "  <thead>\n",
              "    <tr style=\"text-align: right;\">\n",
              "      <th></th>\n",
              "      <th>0</th>\n",
              "      <th>1</th>\n",
              "      <th>2</th>\n",
              "      <th>3</th>\n",
              "      <th>4</th>\n",
              "      <th>5</th>\n",
              "      <th>6</th>\n",
              "      <th>7</th>\n",
              "      <th>8</th>\n",
              "      <th>9</th>\n",
              "      <th>...</th>\n",
              "      <th>40</th>\n",
              "      <th>41</th>\n",
              "      <th>42</th>\n",
              "      <th>43</th>\n",
              "      <th>44</th>\n",
              "      <th>45</th>\n",
              "      <th>46</th>\n",
              "      <th>47</th>\n",
              "      <th>48</th>\n",
              "      <th>49</th>\n",
              "    </tr>\n",
              "  </thead>\n",
              "  <tbody>\n",
              "    <tr>\n",
              "      <th>0</th>\n",
              "      <td>1</td>\n",
              "      <td>2558</td>\n",
              "      <td>1506.09</td>\n",
              "      <td>456.63</td>\n",
              "      <td>90</td>\n",
              "      <td>6395000.0</td>\n",
              "      <td>40.88</td>\n",
              "      <td>7.89</td>\n",
              "      <td>29780.0</td>\n",
              "      <td>0.19</td>\n",
              "      <td>...</td>\n",
              "      <td>2850.00</td>\n",
              "      <td>1000.00</td>\n",
              "      <td>763.16</td>\n",
              "      <td>135.46</td>\n",
              "      <td>3.73</td>\n",
              "      <td>0</td>\n",
              "      <td>33243.19</td>\n",
              "      <td>65.74</td>\n",
              "      <td>7.95</td>\n",
              "      <td>1</td>\n",
              "    </tr>\n",
              "    <tr>\n",
              "      <th>1</th>\n",
              "      <td>2</td>\n",
              "      <td>22325</td>\n",
              "      <td>79.11</td>\n",
              "      <td>841.03</td>\n",
              "      <td>180</td>\n",
              "      <td>55812500.0</td>\n",
              "      <td>51.11</td>\n",
              "      <td>1.21</td>\n",
              "      <td>61900.0</td>\n",
              "      <td>0.02</td>\n",
              "      <td>...</td>\n",
              "      <td>5750.00</td>\n",
              "      <td>11500.00</td>\n",
              "      <td>9593.48</td>\n",
              "      <td>1648.80</td>\n",
              "      <td>0.60</td>\n",
              "      <td>0</td>\n",
              "      <td>51572.04</td>\n",
              "      <td>65.73</td>\n",
              "      <td>6.26</td>\n",
              "      <td>0</td>\n",
              "    </tr>\n",
              "    <tr>\n",
              "      <th>2</th>\n",
              "      <td>3</td>\n",
              "      <td>115</td>\n",
              "      <td>1449.85</td>\n",
              "      <td>608.43</td>\n",
              "      <td>88</td>\n",
              "      <td>287500.0</td>\n",
              "      <td>40.42</td>\n",
              "      <td>7.34</td>\n",
              "      <td>3340.0</td>\n",
              "      <td>0.18</td>\n",
              "      <td>...</td>\n",
              "      <td>1400.00</td>\n",
              "      <td>250.00</td>\n",
              "      <td>150.00</td>\n",
              "      <td>45.13</td>\n",
              "      <td>9.33</td>\n",
              "      <td>1</td>\n",
              "      <td>31692.84</td>\n",
              "      <td>65.81</td>\n",
              "      <td>7.84</td>\n",
              "      <td>1</td>\n",
              "    </tr>\n",
              "    <tr>\n",
              "      <th>3</th>\n",
              "      <td>4</td>\n",
              "      <td>1201</td>\n",
              "      <td>1562.53</td>\n",
              "      <td>295.65</td>\n",
              "      <td>66</td>\n",
              "      <td>3002500.0</td>\n",
              "      <td>42.40</td>\n",
              "      <td>7.97</td>\n",
              "      <td>18030.0</td>\n",
              "      <td>0.19</td>\n",
              "      <td>...</td>\n",
              "      <td>6041.52</td>\n",
              "      <td>761.58</td>\n",
              "      <td>453.21</td>\n",
              "      <td>144.97</td>\n",
              "      <td>13.33</td>\n",
              "      <td>1</td>\n",
              "      <td>37696.21</td>\n",
              "      <td>65.67</td>\n",
              "      <td>8.07</td>\n",
              "      <td>1</td>\n",
              "    </tr>\n",
              "    <tr>\n",
              "      <th>4</th>\n",
              "      <td>5</td>\n",
              "      <td>312</td>\n",
              "      <td>950.27</td>\n",
              "      <td>440.86</td>\n",
              "      <td>37</td>\n",
              "      <td>780000.0</td>\n",
              "      <td>41.43</td>\n",
              "      <td>7.03</td>\n",
              "      <td>3350.0</td>\n",
              "      <td>0.17</td>\n",
              "      <td>...</td>\n",
              "      <td>1320.04</td>\n",
              "      <td>710.63</td>\n",
              "      <td>512.54</td>\n",
              "      <td>109.16</td>\n",
              "      <td>2.58</td>\n",
              "      <td>0</td>\n",
              "      <td>29038.17</td>\n",
              "      <td>65.66</td>\n",
              "      <td>7.35</td>\n",
              "      <td>0</td>\n",
              "    </tr>\n",
              "  </tbody>\n",
              "</table>\n",
              "<p>5 rows × 50 columns</p>\n",
              "</div>"
            ]
          },
          "metadata": {},
          "execution_count": 59
        }
      ]
    },
    {
      "cell_type": "markdown",
      "metadata": {
        "id": "MTi0fTt6UL3j"
      },
      "source": [
        "To identify the low variety of values in a column we compute the percentage of different values in each column:"
      ]
    },
    {
      "cell_type": "code",
      "metadata": {
        "colab": {
          "base_uri": "https://localhost:8080/"
        },
        "id": "mh9c3kujTfkG",
        "outputId": "cebb4ec3-2164-486e-9478-27926625c618"
      },
      "source": [
        "for i,v in enumerate([(v/data.shape[0])*100 for i,v in enumerate(data.nunique())]):\n",
        "  print(i, \"{:3.2f}%\".format(v))"
      ],
      "execution_count": 83,
      "outputs": [
        {
          "output_type": "stream",
          "name": "stdout",
          "text": [
            "0 25.40%\n",
            "1 31.70%\n",
            "2 98.93%\n",
            "3 99.57%\n",
            "4 19.10%\n",
            "5 40.02%\n",
            "6 87.51%\n",
            "7 65.96%\n",
            "8 59.87%\n",
            "9 6.08%\n",
            "10 61.58%\n",
            "11 6.30%\n",
            "12 7.79%\n",
            "13 11.42%\n",
            "14 5.66%\n",
            "15 9.71%\n",
            "16 95.30%\n",
            "17 86.45%\n",
            "18 18.14%\n",
            "19 5.66%\n",
            "20 7.26%\n",
            "21 0.96%\n",
            "22 0.11%\n",
            "23 9.82%\n",
            "24 0.96%\n",
            "25 0.85%\n",
            "26 0.96%\n",
            "27 32.87%\n",
            "28 47.71%\n",
            "29 41.84%\n",
            "30 11.42%\n",
            "31 4.48%\n",
            "32 0.43%\n",
            "33 4.80%\n",
            "34 15.05%\n",
            "35 11.74%\n",
            "36 0.32%\n",
            "37 80.90%\n",
            "38 0.96%\n",
            "39 0.96%\n",
            "40 41.41%\n",
            "41 23.48%\n",
            "42 68.73%\n",
            "43 69.26%\n",
            "44 53.26%\n",
            "45 0.21%\n",
            "46 100.00%\n",
            "47 18.04%\n",
            "48 30.52%\n",
            "49 0.21%\n"
          ]
        }
      ]
    },
    {
      "cell_type": "markdown",
      "metadata": {
        "id": "tFQjiqtvVMVi"
      },
      "source": [
        "The columns with a low percentage have a low variety of values. \n",
        "\n",
        "The literature says that you do not have to drop them but they must be analyzed in order to see if they are relevant or not for your analisys."
      ]
    },
    {
      "cell_type": "code",
      "metadata": {
        "colab": {
          "base_uri": "https://localhost:8080/"
        },
        "id": "0bflAfj7V9MA",
        "outputId": "3fcf09d9-5127-4ad9-dab8-ef20a6ee2e87"
      },
      "source": [
        "for i,perc in enumerate([(v/data.shape[0])*100 for i,v in enumerate(data.nunique())]):\n",
        "  if perc < 1:\n",
        "    print(i, \"{:3.2f}%\".format(perc), '\\t Unique values: ', data.nunique()[i])"
      ],
      "execution_count": 94,
      "outputs": [
        {
          "output_type": "stream",
          "name": "stdout",
          "text": [
            "21 0.96% \t Unique values:  9\n",
            "22 0.11% \t Unique values:  1\n",
            "24 0.96% \t Unique values:  9\n",
            "25 0.85% \t Unique values:  8\n",
            "26 0.96% \t Unique values:  9\n",
            "32 0.43% \t Unique values:  4\n",
            "36 0.32% \t Unique values:  3\n",
            "38 0.96% \t Unique values:  9\n",
            "39 0.96% \t Unique values:  9\n",
            "45 0.21% \t Unique values:  2\n",
            "49 0.21% \t Unique values:  2\n"
          ]
        }
      ]
    },
    {
      "cell_type": "markdown",
      "metadata": {
        "id": "Xz62G5TWWz8u"
      },
      "source": [
        "These columns with very low unique values can be deleted as we did before"
      ]
    },
    {
      "cell_type": "code",
      "metadata": {
        "colab": {
          "base_uri": "https://localhost:8080/"
        },
        "id": "ZIgsFW3CXXIR",
        "outputId": "46a062ae-b816-442c-c63a-fedadb9b09ee"
      },
      "source": [
        "to_del = ([i for i,v in enumerate(data.nunique()) if ((v/data.shape[0]*100) < 1)])\n",
        "to_del"
      ],
      "execution_count": 105,
      "outputs": [
        {
          "output_type": "execute_result",
          "data": {
            "text/plain": [
              "[21, 22, 24, 25, 26, 32, 36, 38, 39, 45, 49]"
            ]
          },
          "metadata": {},
          "execution_count": 105
        }
      ]
    },
    {
      "cell_type": "code",
      "metadata": {
        "colab": {
          "base_uri": "https://localhost:8080/"
        },
        "id": "yTMSM76TXXIU",
        "outputId": "0f3d30e9-7115-493c-ecb5-216e1705bbf0"
      },
      "source": [
        "data.drop(to_del, axis=1, inplace=True)\n",
        "try:\n",
        "  data[to_del]\n",
        "except:\n",
        "  print('Columns not found')"
      ],
      "execution_count": 106,
      "outputs": [
        {
          "output_type": "stream",
          "name": "stdout",
          "text": [
            "Columns not found\n"
          ]
        }
      ]
    },
    {
      "cell_type": "code",
      "metadata": {
        "colab": {
          "base_uri": "https://localhost:8080/"
        },
        "id": "ohbc0VepYc3t",
        "outputId": "5b1b6c0b-6aab-4353-dc07-454e43c5d0a4"
      },
      "source": [
        "print(data.shape)\n",
        "print('Deleted columns: ', len(to_del))"
      ],
      "execution_count": 108,
      "outputs": [
        {
          "output_type": "stream",
          "name": "stdout",
          "text": [
            "(937, 39)\n",
            "Deleted columns:  11\n"
          ]
        }
      ]
    }
  ]
}