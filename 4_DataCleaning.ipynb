{
  "nbformat": 4,
  "nbformat_minor": 0,
  "metadata": {
    "colab": {
      "name": "4_DataCleaning.ipynb",
      "provenance": []
    },
    "kernelspec": {
      "name": "python3",
      "display_name": "Python 3"
    },
    "language_info": {
      "name": "python"
    }
  },
  "cells": [
    {
      "cell_type": "markdown",
      "metadata": {
        "id": "YzMxlAusRYP6"
      },
      "source": [
        "# Fourt Exercise session"
      ]
    },
    {
      "cell_type": "code",
      "metadata": {
        "id": "3i50DeKFruT5"
      },
      "source": [
        "from IPython.core.interactiveshell import InteractiveShell\n",
        "InteractiveShell.ast_node_interactivity = 'all'"
      ],
      "execution_count": 130,
      "outputs": []
    },
    {
      "cell_type": "code",
      "metadata": {
        "id": "wIcqFrRxRT9J"
      },
      "source": [
        "import pandas as pd\n",
        "import numpy as np"
      ],
      "execution_count": 1,
      "outputs": []
    },
    {
      "cell_type": "markdown",
      "metadata": {
        "id": "QFRaSSPYSgX-"
      },
      "source": [
        "## Missing Data"
      ]
    },
    {
      "cell_type": "markdown",
      "metadata": {
        "id": "CtVR0T_LTirs"
      },
      "source": [
        "We create a random dataframe sampling froma a normal distribution, giving some names to the idexes and to the columns."
      ]
    },
    {
      "cell_type": "code",
      "metadata": {
        "colab": {
          "base_uri": "https://localhost:8080/",
          "height": 206
        },
        "id": "TSk-nZFrSkJJ",
        "outputId": "dcdec908-b796-4824-dc75-8c1dc3f88e0d"
      },
      "source": [
        "df = pd.DataFrame(\n",
        "                  np.random.randn(5, 3),               #rows, columns\n",
        "                  index = ['a', 'c', 'e', 'f', 'h'],\n",
        "                  columns=['one', 'two', 'three'],\n",
        ")\n",
        "df"
      ],
      "execution_count": 22,
      "outputs": [
        {
          "output_type": "execute_result",
          "data": {
            "text/plain": [
              "        one       two     three\n",
              "a  0.277717  0.828014  0.443467\n",
              "c  0.170166 -0.299087 -1.143562\n",
              "e -1.835877  1.356093  2.118838\n",
              "f  0.169749  0.552307 -0.280131\n",
              "h  0.194157 -1.051152 -0.851457"
            ],
            "text/html": [
              "<div>\n",
              "<style scoped>\n",
              "    .dataframe tbody tr th:only-of-type {\n",
              "        vertical-align: middle;\n",
              "    }\n",
              "\n",
              "    .dataframe tbody tr th {\n",
              "        vertical-align: top;\n",
              "    }\n",
              "\n",
              "    .dataframe thead th {\n",
              "        text-align: right;\n",
              "    }\n",
              "</style>\n",
              "<table border=\"1\" class=\"dataframe\">\n",
              "  <thead>\n",
              "    <tr style=\"text-align: right;\">\n",
              "      <th></th>\n",
              "      <th>one</th>\n",
              "      <th>two</th>\n",
              "      <th>three</th>\n",
              "    </tr>\n",
              "  </thead>\n",
              "  <tbody>\n",
              "    <tr>\n",
              "      <th>a</th>\n",
              "      <td>0.277717</td>\n",
              "      <td>0.828014</td>\n",
              "      <td>0.443467</td>\n",
              "    </tr>\n",
              "    <tr>\n",
              "      <th>c</th>\n",
              "      <td>0.170166</td>\n",
              "      <td>-0.299087</td>\n",
              "      <td>-1.143562</td>\n",
              "    </tr>\n",
              "    <tr>\n",
              "      <th>e</th>\n",
              "      <td>-1.835877</td>\n",
              "      <td>1.356093</td>\n",
              "      <td>2.118838</td>\n",
              "    </tr>\n",
              "    <tr>\n",
              "      <th>f</th>\n",
              "      <td>0.169749</td>\n",
              "      <td>0.552307</td>\n",
              "      <td>-0.280131</td>\n",
              "    </tr>\n",
              "    <tr>\n",
              "      <th>h</th>\n",
              "      <td>0.194157</td>\n",
              "      <td>-1.051152</td>\n",
              "      <td>-0.851457</td>\n",
              "    </tr>\n",
              "  </tbody>\n",
              "</table>\n",
              "</div>"
            ]
          },
          "metadata": {},
          "execution_count": 22
        }
      ]
    },
    {
      "cell_type": "markdown",
      "metadata": {
        "id": "U3M_YzwXTOWK"
      },
      "source": [
        "We then add a column with a standard value.\n",
        "\n"
      ]
    },
    {
      "cell_type": "code",
      "metadata": {
        "colab": {
          "base_uri": "https://localhost:8080/",
          "height": 206
        },
        "id": "Cwtx8FJrTF4o",
        "outputId": "fa327fee-9942-454f-c734-c03d592ed08f"
      },
      "source": [
        "df['four'] = 'std'\n",
        "df"
      ],
      "execution_count": 23,
      "outputs": [
        {
          "output_type": "execute_result",
          "data": {
            "text/plain": [
              "        one       two     three four\n",
              "a  0.277717  0.828014  0.443467  std\n",
              "c  0.170166 -0.299087 -1.143562  std\n",
              "e -1.835877  1.356093  2.118838  std\n",
              "f  0.169749  0.552307 -0.280131  std\n",
              "h  0.194157 -1.051152 -0.851457  std"
            ],
            "text/html": [
              "<div>\n",
              "<style scoped>\n",
              "    .dataframe tbody tr th:only-of-type {\n",
              "        vertical-align: middle;\n",
              "    }\n",
              "\n",
              "    .dataframe tbody tr th {\n",
              "        vertical-align: top;\n",
              "    }\n",
              "\n",
              "    .dataframe thead th {\n",
              "        text-align: right;\n",
              "    }\n",
              "</style>\n",
              "<table border=\"1\" class=\"dataframe\">\n",
              "  <thead>\n",
              "    <tr style=\"text-align: right;\">\n",
              "      <th></th>\n",
              "      <th>one</th>\n",
              "      <th>two</th>\n",
              "      <th>three</th>\n",
              "      <th>four</th>\n",
              "    </tr>\n",
              "  </thead>\n",
              "  <tbody>\n",
              "    <tr>\n",
              "      <th>a</th>\n",
              "      <td>0.277717</td>\n",
              "      <td>0.828014</td>\n",
              "      <td>0.443467</td>\n",
              "      <td>std</td>\n",
              "    </tr>\n",
              "    <tr>\n",
              "      <th>c</th>\n",
              "      <td>0.170166</td>\n",
              "      <td>-0.299087</td>\n",
              "      <td>-1.143562</td>\n",
              "      <td>std</td>\n",
              "    </tr>\n",
              "    <tr>\n",
              "      <th>e</th>\n",
              "      <td>-1.835877</td>\n",
              "      <td>1.356093</td>\n",
              "      <td>2.118838</td>\n",
              "      <td>std</td>\n",
              "    </tr>\n",
              "    <tr>\n",
              "      <th>f</th>\n",
              "      <td>0.169749</td>\n",
              "      <td>0.552307</td>\n",
              "      <td>-0.280131</td>\n",
              "      <td>std</td>\n",
              "    </tr>\n",
              "    <tr>\n",
              "      <th>h</th>\n",
              "      <td>0.194157</td>\n",
              "      <td>-1.051152</td>\n",
              "      <td>-0.851457</td>\n",
              "      <td>std</td>\n",
              "    </tr>\n",
              "  </tbody>\n",
              "</table>\n",
              "</div>"
            ]
          },
          "metadata": {},
          "execution_count": 23
        }
      ]
    },
    {
      "cell_type": "markdown",
      "metadata": {
        "id": "oKIhssvITvcZ"
      },
      "source": [
        "We want to add a column that has a dependency: *is equal to 1 if the value on the column 'one' is greater than 0*"
      ]
    },
    {
      "cell_type": "code",
      "metadata": {
        "colab": {
          "base_uri": "https://localhost:8080/",
          "height": 206
        },
        "id": "lbPnG8SSTylQ",
        "outputId": "06e23bf4-e0ce-40b3-f98a-eb4fea0d9b38"
      },
      "source": [
        "df['five'] = df['one']>0\n",
        "df"
      ],
      "execution_count": 24,
      "outputs": [
        {
          "output_type": "execute_result",
          "data": {
            "text/plain": [
              "        one       two     three four   five\n",
              "a  0.277717  0.828014  0.443467  std   True\n",
              "c  0.170166 -0.299087 -1.143562  std   True\n",
              "e -1.835877  1.356093  2.118838  std  False\n",
              "f  0.169749  0.552307 -0.280131  std   True\n",
              "h  0.194157 -1.051152 -0.851457  std   True"
            ],
            "text/html": [
              "<div>\n",
              "<style scoped>\n",
              "    .dataframe tbody tr th:only-of-type {\n",
              "        vertical-align: middle;\n",
              "    }\n",
              "\n",
              "    .dataframe tbody tr th {\n",
              "        vertical-align: top;\n",
              "    }\n",
              "\n",
              "    .dataframe thead th {\n",
              "        text-align: right;\n",
              "    }\n",
              "</style>\n",
              "<table border=\"1\" class=\"dataframe\">\n",
              "  <thead>\n",
              "    <tr style=\"text-align: right;\">\n",
              "      <th></th>\n",
              "      <th>one</th>\n",
              "      <th>two</th>\n",
              "      <th>three</th>\n",
              "      <th>four</th>\n",
              "      <th>five</th>\n",
              "    </tr>\n",
              "  </thead>\n",
              "  <tbody>\n",
              "    <tr>\n",
              "      <th>a</th>\n",
              "      <td>0.277717</td>\n",
              "      <td>0.828014</td>\n",
              "      <td>0.443467</td>\n",
              "      <td>std</td>\n",
              "      <td>True</td>\n",
              "    </tr>\n",
              "    <tr>\n",
              "      <th>c</th>\n",
              "      <td>0.170166</td>\n",
              "      <td>-0.299087</td>\n",
              "      <td>-1.143562</td>\n",
              "      <td>std</td>\n",
              "      <td>True</td>\n",
              "    </tr>\n",
              "    <tr>\n",
              "      <th>e</th>\n",
              "      <td>-1.835877</td>\n",
              "      <td>1.356093</td>\n",
              "      <td>2.118838</td>\n",
              "      <td>std</td>\n",
              "      <td>False</td>\n",
              "    </tr>\n",
              "    <tr>\n",
              "      <th>f</th>\n",
              "      <td>0.169749</td>\n",
              "      <td>0.552307</td>\n",
              "      <td>-0.280131</td>\n",
              "      <td>std</td>\n",
              "      <td>True</td>\n",
              "    </tr>\n",
              "    <tr>\n",
              "      <th>h</th>\n",
              "      <td>0.194157</td>\n",
              "      <td>-1.051152</td>\n",
              "      <td>-0.851457</td>\n",
              "      <td>std</td>\n",
              "      <td>True</td>\n",
              "    </tr>\n",
              "  </tbody>\n",
              "</table>\n",
              "</div>"
            ]
          },
          "metadata": {},
          "execution_count": 24
        }
      ]
    },
    {
      "cell_type": "markdown",
      "metadata": {
        "id": "wQog4CTMU_Sf"
      },
      "source": [
        "Let's introduce some null values in the tuples"
      ]
    },
    {
      "cell_type": "code",
      "metadata": {
        "colab": {
          "base_uri": "https://localhost:8080/",
          "height": 300
        },
        "id": "lwKshwVEVC_j",
        "outputId": "797faa04-4017-4787-836d-0ecc78aa81f0"
      },
      "source": [
        "df2 = df.reindex(['a', 'b', 'c', 'd', 'e', 'f', 'g', 'h'])\n",
        "df2"
      ],
      "execution_count": 26,
      "outputs": [
        {
          "output_type": "execute_result",
          "data": {
            "text/plain": [
              "        one       two     three four   five\n",
              "a  0.277717  0.828014  0.443467  std   True\n",
              "b       NaN       NaN       NaN  NaN    NaN\n",
              "c  0.170166 -0.299087 -1.143562  std   True\n",
              "d       NaN       NaN       NaN  NaN    NaN\n",
              "e -1.835877  1.356093  2.118838  std  False\n",
              "f  0.169749  0.552307 -0.280131  std   True\n",
              "g       NaN       NaN       NaN  NaN    NaN\n",
              "h  0.194157 -1.051152 -0.851457  std   True"
            ],
            "text/html": [
              "<div>\n",
              "<style scoped>\n",
              "    .dataframe tbody tr th:only-of-type {\n",
              "        vertical-align: middle;\n",
              "    }\n",
              "\n",
              "    .dataframe tbody tr th {\n",
              "        vertical-align: top;\n",
              "    }\n",
              "\n",
              "    .dataframe thead th {\n",
              "        text-align: right;\n",
              "    }\n",
              "</style>\n",
              "<table border=\"1\" class=\"dataframe\">\n",
              "  <thead>\n",
              "    <tr style=\"text-align: right;\">\n",
              "      <th></th>\n",
              "      <th>one</th>\n",
              "      <th>two</th>\n",
              "      <th>three</th>\n",
              "      <th>four</th>\n",
              "      <th>five</th>\n",
              "    </tr>\n",
              "  </thead>\n",
              "  <tbody>\n",
              "    <tr>\n",
              "      <th>a</th>\n",
              "      <td>0.277717</td>\n",
              "      <td>0.828014</td>\n",
              "      <td>0.443467</td>\n",
              "      <td>std</td>\n",
              "      <td>True</td>\n",
              "    </tr>\n",
              "    <tr>\n",
              "      <th>b</th>\n",
              "      <td>NaN</td>\n",
              "      <td>NaN</td>\n",
              "      <td>NaN</td>\n",
              "      <td>NaN</td>\n",
              "      <td>NaN</td>\n",
              "    </tr>\n",
              "    <tr>\n",
              "      <th>c</th>\n",
              "      <td>0.170166</td>\n",
              "      <td>-0.299087</td>\n",
              "      <td>-1.143562</td>\n",
              "      <td>std</td>\n",
              "      <td>True</td>\n",
              "    </tr>\n",
              "    <tr>\n",
              "      <th>d</th>\n",
              "      <td>NaN</td>\n",
              "      <td>NaN</td>\n",
              "      <td>NaN</td>\n",
              "      <td>NaN</td>\n",
              "      <td>NaN</td>\n",
              "    </tr>\n",
              "    <tr>\n",
              "      <th>e</th>\n",
              "      <td>-1.835877</td>\n",
              "      <td>1.356093</td>\n",
              "      <td>2.118838</td>\n",
              "      <td>std</td>\n",
              "      <td>False</td>\n",
              "    </tr>\n",
              "    <tr>\n",
              "      <th>f</th>\n",
              "      <td>0.169749</td>\n",
              "      <td>0.552307</td>\n",
              "      <td>-0.280131</td>\n",
              "      <td>std</td>\n",
              "      <td>True</td>\n",
              "    </tr>\n",
              "    <tr>\n",
              "      <th>g</th>\n",
              "      <td>NaN</td>\n",
              "      <td>NaN</td>\n",
              "      <td>NaN</td>\n",
              "      <td>NaN</td>\n",
              "      <td>NaN</td>\n",
              "    </tr>\n",
              "    <tr>\n",
              "      <th>h</th>\n",
              "      <td>0.194157</td>\n",
              "      <td>-1.051152</td>\n",
              "      <td>-0.851457</td>\n",
              "      <td>std</td>\n",
              "      <td>True</td>\n",
              "    </tr>\n",
              "  </tbody>\n",
              "</table>\n",
              "</div>"
            ]
          },
          "metadata": {},
          "execution_count": 26
        }
      ]
    },
    {
      "cell_type": "code",
      "metadata": {
        "colab": {
          "base_uri": "https://localhost:8080/",
          "height": 300
        },
        "id": "ejBuLrdRVQ2w",
        "outputId": "d3c0a5eb-3060-4172-8d1e-219f2c51b205"
      },
      "source": [
        "df2.isnull()"
      ],
      "execution_count": 27,
      "outputs": [
        {
          "output_type": "execute_result",
          "data": {
            "text/plain": [
              "     one    two  three   four   five\n",
              "a  False  False  False  False  False\n",
              "b   True   True   True   True   True\n",
              "c  False  False  False  False  False\n",
              "d   True   True   True   True   True\n",
              "e  False  False  False  False  False\n",
              "f  False  False  False  False  False\n",
              "g   True   True   True   True   True\n",
              "h  False  False  False  False  False"
            ],
            "text/html": [
              "<div>\n",
              "<style scoped>\n",
              "    .dataframe tbody tr th:only-of-type {\n",
              "        vertical-align: middle;\n",
              "    }\n",
              "\n",
              "    .dataframe tbody tr th {\n",
              "        vertical-align: top;\n",
              "    }\n",
              "\n",
              "    .dataframe thead th {\n",
              "        text-align: right;\n",
              "    }\n",
              "</style>\n",
              "<table border=\"1\" class=\"dataframe\">\n",
              "  <thead>\n",
              "    <tr style=\"text-align: right;\">\n",
              "      <th></th>\n",
              "      <th>one</th>\n",
              "      <th>two</th>\n",
              "      <th>three</th>\n",
              "      <th>four</th>\n",
              "      <th>five</th>\n",
              "    </tr>\n",
              "  </thead>\n",
              "  <tbody>\n",
              "    <tr>\n",
              "      <th>a</th>\n",
              "      <td>False</td>\n",
              "      <td>False</td>\n",
              "      <td>False</td>\n",
              "      <td>False</td>\n",
              "      <td>False</td>\n",
              "    </tr>\n",
              "    <tr>\n",
              "      <th>b</th>\n",
              "      <td>True</td>\n",
              "      <td>True</td>\n",
              "      <td>True</td>\n",
              "      <td>True</td>\n",
              "      <td>True</td>\n",
              "    </tr>\n",
              "    <tr>\n",
              "      <th>c</th>\n",
              "      <td>False</td>\n",
              "      <td>False</td>\n",
              "      <td>False</td>\n",
              "      <td>False</td>\n",
              "      <td>False</td>\n",
              "    </tr>\n",
              "    <tr>\n",
              "      <th>d</th>\n",
              "      <td>True</td>\n",
              "      <td>True</td>\n",
              "      <td>True</td>\n",
              "      <td>True</td>\n",
              "      <td>True</td>\n",
              "    </tr>\n",
              "    <tr>\n",
              "      <th>e</th>\n",
              "      <td>False</td>\n",
              "      <td>False</td>\n",
              "      <td>False</td>\n",
              "      <td>False</td>\n",
              "      <td>False</td>\n",
              "    </tr>\n",
              "    <tr>\n",
              "      <th>f</th>\n",
              "      <td>False</td>\n",
              "      <td>False</td>\n",
              "      <td>False</td>\n",
              "      <td>False</td>\n",
              "      <td>False</td>\n",
              "    </tr>\n",
              "    <tr>\n",
              "      <th>g</th>\n",
              "      <td>True</td>\n",
              "      <td>True</td>\n",
              "      <td>True</td>\n",
              "      <td>True</td>\n",
              "      <td>True</td>\n",
              "    </tr>\n",
              "    <tr>\n",
              "      <th>h</th>\n",
              "      <td>False</td>\n",
              "      <td>False</td>\n",
              "      <td>False</td>\n",
              "      <td>False</td>\n",
              "      <td>False</td>\n",
              "    </tr>\n",
              "  </tbody>\n",
              "</table>\n",
              "</div>"
            ]
          },
          "metadata": {},
          "execution_count": 27
        }
      ]
    },
    {
      "cell_type": "code",
      "metadata": {
        "colab": {
          "base_uri": "https://localhost:8080/",
          "height": 300
        },
        "id": "lX-g1hNMVVl2",
        "outputId": "59a2337a-f401-45e4-9a58-bbbd5d66ad3f"
      },
      "source": [
        "df2.isna() # is equivalent to .isnull()"
      ],
      "execution_count": 29,
      "outputs": [
        {
          "output_type": "execute_result",
          "data": {
            "text/plain": [
              "     one    two  three   four   five\n",
              "a  False  False  False  False  False\n",
              "b   True   True   True   True   True\n",
              "c  False  False  False  False  False\n",
              "d   True   True   True   True   True\n",
              "e  False  False  False  False  False\n",
              "f  False  False  False  False  False\n",
              "g   True   True   True   True   True\n",
              "h  False  False  False  False  False"
            ],
            "text/html": [
              "<div>\n",
              "<style scoped>\n",
              "    .dataframe tbody tr th:only-of-type {\n",
              "        vertical-align: middle;\n",
              "    }\n",
              "\n",
              "    .dataframe tbody tr th {\n",
              "        vertical-align: top;\n",
              "    }\n",
              "\n",
              "    .dataframe thead th {\n",
              "        text-align: right;\n",
              "    }\n",
              "</style>\n",
              "<table border=\"1\" class=\"dataframe\">\n",
              "  <thead>\n",
              "    <tr style=\"text-align: right;\">\n",
              "      <th></th>\n",
              "      <th>one</th>\n",
              "      <th>two</th>\n",
              "      <th>three</th>\n",
              "      <th>four</th>\n",
              "      <th>five</th>\n",
              "    </tr>\n",
              "  </thead>\n",
              "  <tbody>\n",
              "    <tr>\n",
              "      <th>a</th>\n",
              "      <td>False</td>\n",
              "      <td>False</td>\n",
              "      <td>False</td>\n",
              "      <td>False</td>\n",
              "      <td>False</td>\n",
              "    </tr>\n",
              "    <tr>\n",
              "      <th>b</th>\n",
              "      <td>True</td>\n",
              "      <td>True</td>\n",
              "      <td>True</td>\n",
              "      <td>True</td>\n",
              "      <td>True</td>\n",
              "    </tr>\n",
              "    <tr>\n",
              "      <th>c</th>\n",
              "      <td>False</td>\n",
              "      <td>False</td>\n",
              "      <td>False</td>\n",
              "      <td>False</td>\n",
              "      <td>False</td>\n",
              "    </tr>\n",
              "    <tr>\n",
              "      <th>d</th>\n",
              "      <td>True</td>\n",
              "      <td>True</td>\n",
              "      <td>True</td>\n",
              "      <td>True</td>\n",
              "      <td>True</td>\n",
              "    </tr>\n",
              "    <tr>\n",
              "      <th>e</th>\n",
              "      <td>False</td>\n",
              "      <td>False</td>\n",
              "      <td>False</td>\n",
              "      <td>False</td>\n",
              "      <td>False</td>\n",
              "    </tr>\n",
              "    <tr>\n",
              "      <th>f</th>\n",
              "      <td>False</td>\n",
              "      <td>False</td>\n",
              "      <td>False</td>\n",
              "      <td>False</td>\n",
              "      <td>False</td>\n",
              "    </tr>\n",
              "    <tr>\n",
              "      <th>g</th>\n",
              "      <td>True</td>\n",
              "      <td>True</td>\n",
              "      <td>True</td>\n",
              "      <td>True</td>\n",
              "      <td>True</td>\n",
              "    </tr>\n",
              "    <tr>\n",
              "      <th>h</th>\n",
              "      <td>False</td>\n",
              "      <td>False</td>\n",
              "      <td>False</td>\n",
              "      <td>False</td>\n",
              "      <td>False</td>\n",
              "    </tr>\n",
              "  </tbody>\n",
              "</table>\n",
              "</div>"
            ]
          },
          "metadata": {},
          "execution_count": 29
        }
      ]
    },
    {
      "cell_type": "markdown",
      "metadata": {
        "id": "-eG6eK9VV1EA"
      },
      "source": [
        "### Series"
      ]
    },
    {
      "cell_type": "markdown",
      "metadata": {
        "id": "Ha0u0DTHVbm5"
      },
      "source": [
        "We can create a series of data"
      ]
    },
    {
      "cell_type": "code",
      "metadata": {
        "colab": {
          "base_uri": "https://localhost:8080/"
        },
        "id": "4FpapAzsVgTP",
        "outputId": "a92b61a7-e7da-43bc-b717-3bcc7a520a4b"
      },
      "source": [
        "df3 = pd.Series([1,2,3])\n",
        "df3"
      ],
      "execution_count": 31,
      "outputs": [
        {
          "output_type": "execute_result",
          "data": {
            "text/plain": [
              "0    1\n",
              "1    2\n",
              "2    3\n",
              "dtype: int64"
            ]
          },
          "metadata": {},
          "execution_count": 31
        }
      ]
    },
    {
      "cell_type": "markdown",
      "metadata": {
        "id": "e4bOZSL6VwcN"
      },
      "source": [
        "and assign a null value to the first row"
      ]
    },
    {
      "cell_type": "code",
      "metadata": {
        "colab": {
          "base_uri": "https://localhost:8080/"
        },
        "id": "YXXSAYjYVm2o",
        "outputId": "73d87eaf-5c4d-476f-c3a3-9a6036b94ecf"
      },
      "source": [
        "df3.loc[0] = None \n",
        "df3"
      ],
      "execution_count": 34,
      "outputs": [
        {
          "output_type": "execute_result",
          "data": {
            "text/plain": [
              "0    NaN\n",
              "1    2.0\n",
              "2    3.0\n",
              "dtype: float64"
            ]
          },
          "metadata": {},
          "execution_count": 34
        }
      ]
    },
    {
      "cell_type": "code",
      "metadata": {
        "colab": {
          "base_uri": "https://localhost:8080/"
        },
        "id": "nyTzACXdWFqJ",
        "outputId": "8af9601a-c796-4880-a3c1-033357bf3b63"
      },
      "source": [
        "df3.isna()"
      ],
      "execution_count": 35,
      "outputs": [
        {
          "output_type": "execute_result",
          "data": {
            "text/plain": [
              "0     True\n",
              "1    False\n",
              "2    False\n",
              "dtype: bool"
            ]
          },
          "metadata": {},
          "execution_count": 35
        }
      ]
    },
    {
      "cell_type": "code",
      "metadata": {
        "colab": {
          "base_uri": "https://localhost:8080/"
        },
        "id": "7dAMF3RMWH_4",
        "outputId": "22f9958c-09ae-4195-cd15-660c474cda13"
      },
      "source": [
        "df4 = pd.Series(['a', 'b', 'c'])\n",
        "df4"
      ],
      "execution_count": 39,
      "outputs": [
        {
          "output_type": "execute_result",
          "data": {
            "text/plain": [
              "0    a\n",
              "1    b\n",
              "2    c\n",
              "dtype: object"
            ]
          },
          "metadata": {},
          "execution_count": 39
        }
      ]
    },
    {
      "cell_type": "code",
      "metadata": {
        "colab": {
          "base_uri": "https://localhost:8080/"
        },
        "id": "FYrS6I7UWeV7",
        "outputId": "52cda3c8-c689-4be2-bbf4-e26428265e12"
      },
      "source": [
        "df4.loc[0] = None\n",
        "df4.loc[1] = np.NaN\n",
        "df4"
      ],
      "execution_count": 40,
      "outputs": [
        {
          "output_type": "execute_result",
          "data": {
            "text/plain": [
              "0    None\n",
              "1     NaN\n",
              "2       c\n",
              "dtype: object"
            ]
          },
          "metadata": {},
          "execution_count": 40
        }
      ]
    },
    {
      "cell_type": "markdown",
      "metadata": {
        "id": "IUbh4iLjWYGb"
      },
      "source": [
        "Notice that when you have strings, i.e. it is a series of objects, the None is not converted into NaN, but remains None, but anyway is considered a null value as we can see as follows:"
      ]
    },
    {
      "cell_type": "code",
      "metadata": {
        "colab": {
          "base_uri": "https://localhost:8080/"
        },
        "id": "k-UGXenOWzOf",
        "outputId": "f21342fc-d610-494b-b1af-0f8d8acd441e"
      },
      "source": [
        "df4.isna()"
      ],
      "execution_count": 41,
      "outputs": [
        {
          "output_type": "execute_result",
          "data": {
            "text/plain": [
              "0     True\n",
              "1     True\n",
              "2    False\n",
              "dtype: bool"
            ]
          },
          "metadata": {},
          "execution_count": 41
        }
      ]
    },
    {
      "cell_type": "code",
      "metadata": {
        "colab": {
          "base_uri": "https://localhost:8080/",
          "height": 446
        },
        "id": "0X6Fz_NbW_zv",
        "outputId": "f0815f26-8c66-4df2-b6d8-505236d98638"
      },
      "source": [
        "data = pd.read_csv('./Dataset/property.csv')\n",
        "data"
      ],
      "execution_count": 56,
      "outputs": [
        {
          "output_type": "execute_result",
          "data": {
            "text/plain": [
              "           ID  ST_NUM     ST_NAME OWN_OCCUPIED NUM_BEDROOMS NUM_BATH SQ_FT\n",
              "0   100001000   104.0      PUTNAM            Y            3        1  1000\n",
              "1   100002000   197.0   LEXINGTON            N            3      1.5    --\n",
              "2   100003000     NaN   LEXINGTON            N          NaN        1   850\n",
              "3   100004000   201.0    BERKELEY           12            1      NaN   700\n",
              "4   100005000   203.0    BERKELEY            Y            3        2  1600\n",
              "5   100006000   207.0    BERKELEY            Y          NaN        1   800\n",
              "6   100007000     NaN  WASHINGTON          NaN            2   HURLEY   950\n",
              "7   100008000   213.0     TREMONT            Y            1        1   NaN\n",
              "8   100009000   215.0     TREMONT            Y           na        2  1800\n",
              "9   100010000   216.0     BERELEY            Y            1        3    10\n",
              "10  100011000    10.0    LEINGTON            N            2        1   800\n",
              "11  100012000   213.0     TREMONT            Y            1        1   NaN"
            ],
            "text/html": [
              "<div>\n",
              "<style scoped>\n",
              "    .dataframe tbody tr th:only-of-type {\n",
              "        vertical-align: middle;\n",
              "    }\n",
              "\n",
              "    .dataframe tbody tr th {\n",
              "        vertical-align: top;\n",
              "    }\n",
              "\n",
              "    .dataframe thead th {\n",
              "        text-align: right;\n",
              "    }\n",
              "</style>\n",
              "<table border=\"1\" class=\"dataframe\">\n",
              "  <thead>\n",
              "    <tr style=\"text-align: right;\">\n",
              "      <th></th>\n",
              "      <th>ID</th>\n",
              "      <th>ST_NUM</th>\n",
              "      <th>ST_NAME</th>\n",
              "      <th>OWN_OCCUPIED</th>\n",
              "      <th>NUM_BEDROOMS</th>\n",
              "      <th>NUM_BATH</th>\n",
              "      <th>SQ_FT</th>\n",
              "    </tr>\n",
              "  </thead>\n",
              "  <tbody>\n",
              "    <tr>\n",
              "      <th>0</th>\n",
              "      <td>100001000</td>\n",
              "      <td>104.0</td>\n",
              "      <td>PUTNAM</td>\n",
              "      <td>Y</td>\n",
              "      <td>3</td>\n",
              "      <td>1</td>\n",
              "      <td>1000</td>\n",
              "    </tr>\n",
              "    <tr>\n",
              "      <th>1</th>\n",
              "      <td>100002000</td>\n",
              "      <td>197.0</td>\n",
              "      <td>LEXINGTON</td>\n",
              "      <td>N</td>\n",
              "      <td>3</td>\n",
              "      <td>1.5</td>\n",
              "      <td>--</td>\n",
              "    </tr>\n",
              "    <tr>\n",
              "      <th>2</th>\n",
              "      <td>100003000</td>\n",
              "      <td>NaN</td>\n",
              "      <td>LEXINGTON</td>\n",
              "      <td>N</td>\n",
              "      <td>NaN</td>\n",
              "      <td>1</td>\n",
              "      <td>850</td>\n",
              "    </tr>\n",
              "    <tr>\n",
              "      <th>3</th>\n",
              "      <td>100004000</td>\n",
              "      <td>201.0</td>\n",
              "      <td>BERKELEY</td>\n",
              "      <td>12</td>\n",
              "      <td>1</td>\n",
              "      <td>NaN</td>\n",
              "      <td>700</td>\n",
              "    </tr>\n",
              "    <tr>\n",
              "      <th>4</th>\n",
              "      <td>100005000</td>\n",
              "      <td>203.0</td>\n",
              "      <td>BERKELEY</td>\n",
              "      <td>Y</td>\n",
              "      <td>3</td>\n",
              "      <td>2</td>\n",
              "      <td>1600</td>\n",
              "    </tr>\n",
              "    <tr>\n",
              "      <th>5</th>\n",
              "      <td>100006000</td>\n",
              "      <td>207.0</td>\n",
              "      <td>BERKELEY</td>\n",
              "      <td>Y</td>\n",
              "      <td>NaN</td>\n",
              "      <td>1</td>\n",
              "      <td>800</td>\n",
              "    </tr>\n",
              "    <tr>\n",
              "      <th>6</th>\n",
              "      <td>100007000</td>\n",
              "      <td>NaN</td>\n",
              "      <td>WASHINGTON</td>\n",
              "      <td>NaN</td>\n",
              "      <td>2</td>\n",
              "      <td>HURLEY</td>\n",
              "      <td>950</td>\n",
              "    </tr>\n",
              "    <tr>\n",
              "      <th>7</th>\n",
              "      <td>100008000</td>\n",
              "      <td>213.0</td>\n",
              "      <td>TREMONT</td>\n",
              "      <td>Y</td>\n",
              "      <td>1</td>\n",
              "      <td>1</td>\n",
              "      <td>NaN</td>\n",
              "    </tr>\n",
              "    <tr>\n",
              "      <th>8</th>\n",
              "      <td>100009000</td>\n",
              "      <td>215.0</td>\n",
              "      <td>TREMONT</td>\n",
              "      <td>Y</td>\n",
              "      <td>na</td>\n",
              "      <td>2</td>\n",
              "      <td>1800</td>\n",
              "    </tr>\n",
              "    <tr>\n",
              "      <th>9</th>\n",
              "      <td>100010000</td>\n",
              "      <td>216.0</td>\n",
              "      <td>BERELEY</td>\n",
              "      <td>Y</td>\n",
              "      <td>1</td>\n",
              "      <td>3</td>\n",
              "      <td>10</td>\n",
              "    </tr>\n",
              "    <tr>\n",
              "      <th>10</th>\n",
              "      <td>100011000</td>\n",
              "      <td>10.0</td>\n",
              "      <td>LEINGTON</td>\n",
              "      <td>N</td>\n",
              "      <td>2</td>\n",
              "      <td>1</td>\n",
              "      <td>800</td>\n",
              "    </tr>\n",
              "    <tr>\n",
              "      <th>11</th>\n",
              "      <td>100012000</td>\n",
              "      <td>213.0</td>\n",
              "      <td>TREMONT</td>\n",
              "      <td>Y</td>\n",
              "      <td>1</td>\n",
              "      <td>1</td>\n",
              "      <td>NaN</td>\n",
              "    </tr>\n",
              "  </tbody>\n",
              "</table>\n",
              "</div>"
            ]
          },
          "metadata": {},
          "execution_count": 56
        }
      ]
    },
    {
      "cell_type": "code",
      "metadata": {
        "colab": {
          "base_uri": "https://localhost:8080/",
          "height": 426
        },
        "id": "3yFReUaaX-Q4",
        "outputId": "9f143a02-0d58-40d2-af5a-db9815ab645b"
      },
      "source": [
        "data.isnull()"
      ],
      "execution_count": 58,
      "outputs": [
        {
          "output_type": "execute_result",
          "data": {
            "text/plain": [
              "       ID  ST_NUM  ST_NAME  OWN_OCCUPIED  NUM_BEDROOMS  NUM_BATH  SQ_FT\n",
              "0   False   False    False         False         False     False  False\n",
              "1   False   False    False         False         False     False  False\n",
              "2   False    True    False         False          True     False  False\n",
              "3   False   False    False         False         False      True  False\n",
              "4   False   False    False         False         False     False  False\n",
              "5   False   False    False         False          True     False  False\n",
              "6   False    True    False          True         False     False  False\n",
              "7   False   False    False         False         False     False   True\n",
              "8   False   False    False         False         False     False  False\n",
              "9   False   False    False         False         False     False  False\n",
              "10  False   False    False         False         False     False  False\n",
              "11  False   False    False         False         False     False   True"
            ],
            "text/html": [
              "<div>\n",
              "<style scoped>\n",
              "    .dataframe tbody tr th:only-of-type {\n",
              "        vertical-align: middle;\n",
              "    }\n",
              "\n",
              "    .dataframe tbody tr th {\n",
              "        vertical-align: top;\n",
              "    }\n",
              "\n",
              "    .dataframe thead th {\n",
              "        text-align: right;\n",
              "    }\n",
              "</style>\n",
              "<table border=\"1\" class=\"dataframe\">\n",
              "  <thead>\n",
              "    <tr style=\"text-align: right;\">\n",
              "      <th></th>\n",
              "      <th>ID</th>\n",
              "      <th>ST_NUM</th>\n",
              "      <th>ST_NAME</th>\n",
              "      <th>OWN_OCCUPIED</th>\n",
              "      <th>NUM_BEDROOMS</th>\n",
              "      <th>NUM_BATH</th>\n",
              "      <th>SQ_FT</th>\n",
              "    </tr>\n",
              "  </thead>\n",
              "  <tbody>\n",
              "    <tr>\n",
              "      <th>0</th>\n",
              "      <td>False</td>\n",
              "      <td>False</td>\n",
              "      <td>False</td>\n",
              "      <td>False</td>\n",
              "      <td>False</td>\n",
              "      <td>False</td>\n",
              "      <td>False</td>\n",
              "    </tr>\n",
              "    <tr>\n",
              "      <th>1</th>\n",
              "      <td>False</td>\n",
              "      <td>False</td>\n",
              "      <td>False</td>\n",
              "      <td>False</td>\n",
              "      <td>False</td>\n",
              "      <td>False</td>\n",
              "      <td>False</td>\n",
              "    </tr>\n",
              "    <tr>\n",
              "      <th>2</th>\n",
              "      <td>False</td>\n",
              "      <td>True</td>\n",
              "      <td>False</td>\n",
              "      <td>False</td>\n",
              "      <td>True</td>\n",
              "      <td>False</td>\n",
              "      <td>False</td>\n",
              "    </tr>\n",
              "    <tr>\n",
              "      <th>3</th>\n",
              "      <td>False</td>\n",
              "      <td>False</td>\n",
              "      <td>False</td>\n",
              "      <td>False</td>\n",
              "      <td>False</td>\n",
              "      <td>True</td>\n",
              "      <td>False</td>\n",
              "    </tr>\n",
              "    <tr>\n",
              "      <th>4</th>\n",
              "      <td>False</td>\n",
              "      <td>False</td>\n",
              "      <td>False</td>\n",
              "      <td>False</td>\n",
              "      <td>False</td>\n",
              "      <td>False</td>\n",
              "      <td>False</td>\n",
              "    </tr>\n",
              "    <tr>\n",
              "      <th>5</th>\n",
              "      <td>False</td>\n",
              "      <td>False</td>\n",
              "      <td>False</td>\n",
              "      <td>False</td>\n",
              "      <td>True</td>\n",
              "      <td>False</td>\n",
              "      <td>False</td>\n",
              "    </tr>\n",
              "    <tr>\n",
              "      <th>6</th>\n",
              "      <td>False</td>\n",
              "      <td>True</td>\n",
              "      <td>False</td>\n",
              "      <td>True</td>\n",
              "      <td>False</td>\n",
              "      <td>False</td>\n",
              "      <td>False</td>\n",
              "    </tr>\n",
              "    <tr>\n",
              "      <th>7</th>\n",
              "      <td>False</td>\n",
              "      <td>False</td>\n",
              "      <td>False</td>\n",
              "      <td>False</td>\n",
              "      <td>False</td>\n",
              "      <td>False</td>\n",
              "      <td>True</td>\n",
              "    </tr>\n",
              "    <tr>\n",
              "      <th>8</th>\n",
              "      <td>False</td>\n",
              "      <td>False</td>\n",
              "      <td>False</td>\n",
              "      <td>False</td>\n",
              "      <td>False</td>\n",
              "      <td>False</td>\n",
              "      <td>False</td>\n",
              "    </tr>\n",
              "    <tr>\n",
              "      <th>9</th>\n",
              "      <td>False</td>\n",
              "      <td>False</td>\n",
              "      <td>False</td>\n",
              "      <td>False</td>\n",
              "      <td>False</td>\n",
              "      <td>False</td>\n",
              "      <td>False</td>\n",
              "    </tr>\n",
              "    <tr>\n",
              "      <th>10</th>\n",
              "      <td>False</td>\n",
              "      <td>False</td>\n",
              "      <td>False</td>\n",
              "      <td>False</td>\n",
              "      <td>False</td>\n",
              "      <td>False</td>\n",
              "      <td>False</td>\n",
              "    </tr>\n",
              "    <tr>\n",
              "      <th>11</th>\n",
              "      <td>False</td>\n",
              "      <td>False</td>\n",
              "      <td>False</td>\n",
              "      <td>False</td>\n",
              "      <td>False</td>\n",
              "      <td>False</td>\n",
              "      <td>True</td>\n",
              "    </tr>\n",
              "  </tbody>\n",
              "</table>\n",
              "</div>"
            ]
          },
          "metadata": {},
          "execution_count": 58
        }
      ]
    },
    {
      "cell_type": "markdown",
      "metadata": {
        "id": "PjVSkmf8XOHo"
      },
      "source": [
        "In this dataset we can notice that there are points which are not None, nor NaN, but has *na* or *--* as standard values to indicate missing values, and as such **are not recognized as missing values**. We can adjust this as follow:"
      ]
    },
    {
      "cell_type": "code",
      "metadata": {
        "colab": {
          "base_uri": "https://localhost:8080/",
          "height": 446
        },
        "id": "K1-qJ9bFXdDQ",
        "outputId": "34e9dd22-8619-4f2f-b066-303af7312268"
      },
      "source": [
        "missing = ['na', '--']\n",
        "data = pd.read_csv('./Dataset/property.csv', na_values=missing)\n",
        "data"
      ],
      "execution_count": 59,
      "outputs": [
        {
          "output_type": "execute_result",
          "data": {
            "text/plain": [
              "           ID  ST_NUM     ST_NAME OWN_OCCUPIED  NUM_BEDROOMS NUM_BATH   SQ_FT\n",
              "0   100001000   104.0      PUTNAM            Y           3.0        1  1000.0\n",
              "1   100002000   197.0   LEXINGTON            N           3.0      1.5     NaN\n",
              "2   100003000     NaN   LEXINGTON            N           NaN        1   850.0\n",
              "3   100004000   201.0    BERKELEY           12           1.0      NaN   700.0\n",
              "4   100005000   203.0    BERKELEY            Y           3.0        2  1600.0\n",
              "5   100006000   207.0    BERKELEY            Y           NaN        1   800.0\n",
              "6   100007000     NaN  WASHINGTON          NaN           2.0   HURLEY   950.0\n",
              "7   100008000   213.0     TREMONT            Y           1.0        1     NaN\n",
              "8   100009000   215.0     TREMONT            Y           NaN        2  1800.0\n",
              "9   100010000   216.0     BERELEY            Y           1.0        3    10.0\n",
              "10  100011000    10.0    LEINGTON            N           2.0        1   800.0\n",
              "11  100012000   213.0     TREMONT            Y           1.0        1     NaN"
            ],
            "text/html": [
              "<div>\n",
              "<style scoped>\n",
              "    .dataframe tbody tr th:only-of-type {\n",
              "        vertical-align: middle;\n",
              "    }\n",
              "\n",
              "    .dataframe tbody tr th {\n",
              "        vertical-align: top;\n",
              "    }\n",
              "\n",
              "    .dataframe thead th {\n",
              "        text-align: right;\n",
              "    }\n",
              "</style>\n",
              "<table border=\"1\" class=\"dataframe\">\n",
              "  <thead>\n",
              "    <tr style=\"text-align: right;\">\n",
              "      <th></th>\n",
              "      <th>ID</th>\n",
              "      <th>ST_NUM</th>\n",
              "      <th>ST_NAME</th>\n",
              "      <th>OWN_OCCUPIED</th>\n",
              "      <th>NUM_BEDROOMS</th>\n",
              "      <th>NUM_BATH</th>\n",
              "      <th>SQ_FT</th>\n",
              "    </tr>\n",
              "  </thead>\n",
              "  <tbody>\n",
              "    <tr>\n",
              "      <th>0</th>\n",
              "      <td>100001000</td>\n",
              "      <td>104.0</td>\n",
              "      <td>PUTNAM</td>\n",
              "      <td>Y</td>\n",
              "      <td>3.0</td>\n",
              "      <td>1</td>\n",
              "      <td>1000.0</td>\n",
              "    </tr>\n",
              "    <tr>\n",
              "      <th>1</th>\n",
              "      <td>100002000</td>\n",
              "      <td>197.0</td>\n",
              "      <td>LEXINGTON</td>\n",
              "      <td>N</td>\n",
              "      <td>3.0</td>\n",
              "      <td>1.5</td>\n",
              "      <td>NaN</td>\n",
              "    </tr>\n",
              "    <tr>\n",
              "      <th>2</th>\n",
              "      <td>100003000</td>\n",
              "      <td>NaN</td>\n",
              "      <td>LEXINGTON</td>\n",
              "      <td>N</td>\n",
              "      <td>NaN</td>\n",
              "      <td>1</td>\n",
              "      <td>850.0</td>\n",
              "    </tr>\n",
              "    <tr>\n",
              "      <th>3</th>\n",
              "      <td>100004000</td>\n",
              "      <td>201.0</td>\n",
              "      <td>BERKELEY</td>\n",
              "      <td>12</td>\n",
              "      <td>1.0</td>\n",
              "      <td>NaN</td>\n",
              "      <td>700.0</td>\n",
              "    </tr>\n",
              "    <tr>\n",
              "      <th>4</th>\n",
              "      <td>100005000</td>\n",
              "      <td>203.0</td>\n",
              "      <td>BERKELEY</td>\n",
              "      <td>Y</td>\n",
              "      <td>3.0</td>\n",
              "      <td>2</td>\n",
              "      <td>1600.0</td>\n",
              "    </tr>\n",
              "    <tr>\n",
              "      <th>5</th>\n",
              "      <td>100006000</td>\n",
              "      <td>207.0</td>\n",
              "      <td>BERKELEY</td>\n",
              "      <td>Y</td>\n",
              "      <td>NaN</td>\n",
              "      <td>1</td>\n",
              "      <td>800.0</td>\n",
              "    </tr>\n",
              "    <tr>\n",
              "      <th>6</th>\n",
              "      <td>100007000</td>\n",
              "      <td>NaN</td>\n",
              "      <td>WASHINGTON</td>\n",
              "      <td>NaN</td>\n",
              "      <td>2.0</td>\n",
              "      <td>HURLEY</td>\n",
              "      <td>950.0</td>\n",
              "    </tr>\n",
              "    <tr>\n",
              "      <th>7</th>\n",
              "      <td>100008000</td>\n",
              "      <td>213.0</td>\n",
              "      <td>TREMONT</td>\n",
              "      <td>Y</td>\n",
              "      <td>1.0</td>\n",
              "      <td>1</td>\n",
              "      <td>NaN</td>\n",
              "    </tr>\n",
              "    <tr>\n",
              "      <th>8</th>\n",
              "      <td>100009000</td>\n",
              "      <td>215.0</td>\n",
              "      <td>TREMONT</td>\n",
              "      <td>Y</td>\n",
              "      <td>NaN</td>\n",
              "      <td>2</td>\n",
              "      <td>1800.0</td>\n",
              "    </tr>\n",
              "    <tr>\n",
              "      <th>9</th>\n",
              "      <td>100010000</td>\n",
              "      <td>216.0</td>\n",
              "      <td>BERELEY</td>\n",
              "      <td>Y</td>\n",
              "      <td>1.0</td>\n",
              "      <td>3</td>\n",
              "      <td>10.0</td>\n",
              "    </tr>\n",
              "    <tr>\n",
              "      <th>10</th>\n",
              "      <td>100011000</td>\n",
              "      <td>10.0</td>\n",
              "      <td>LEINGTON</td>\n",
              "      <td>N</td>\n",
              "      <td>2.0</td>\n",
              "      <td>1</td>\n",
              "      <td>800.0</td>\n",
              "    </tr>\n",
              "    <tr>\n",
              "      <th>11</th>\n",
              "      <td>100012000</td>\n",
              "      <td>213.0</td>\n",
              "      <td>TREMONT</td>\n",
              "      <td>Y</td>\n",
              "      <td>1.0</td>\n",
              "      <td>1</td>\n",
              "      <td>NaN</td>\n",
              "    </tr>\n",
              "  </tbody>\n",
              "</table>\n",
              "</div>"
            ]
          },
          "metadata": {},
          "execution_count": 59
        }
      ]
    },
    {
      "cell_type": "code",
      "metadata": {
        "colab": {
          "base_uri": "https://localhost:8080/",
          "height": 426
        },
        "id": "-SXrCxO1YN9r",
        "outputId": "27916730-8ac9-4730-f68f-8ca4835226e1"
      },
      "source": [
        "data.isnull()"
      ],
      "execution_count": 60,
      "outputs": [
        {
          "output_type": "execute_result",
          "data": {
            "text/plain": [
              "       ID  ST_NUM  ST_NAME  OWN_OCCUPIED  NUM_BEDROOMS  NUM_BATH  SQ_FT\n",
              "0   False   False    False         False         False     False  False\n",
              "1   False   False    False         False         False     False   True\n",
              "2   False    True    False         False          True     False  False\n",
              "3   False   False    False         False         False      True  False\n",
              "4   False   False    False         False         False     False  False\n",
              "5   False   False    False         False          True     False  False\n",
              "6   False    True    False          True         False     False  False\n",
              "7   False   False    False         False         False     False   True\n",
              "8   False   False    False         False          True     False  False\n",
              "9   False   False    False         False         False     False  False\n",
              "10  False   False    False         False         False     False  False\n",
              "11  False   False    False         False         False     False   True"
            ],
            "text/html": [
              "<div>\n",
              "<style scoped>\n",
              "    .dataframe tbody tr th:only-of-type {\n",
              "        vertical-align: middle;\n",
              "    }\n",
              "\n",
              "    .dataframe tbody tr th {\n",
              "        vertical-align: top;\n",
              "    }\n",
              "\n",
              "    .dataframe thead th {\n",
              "        text-align: right;\n",
              "    }\n",
              "</style>\n",
              "<table border=\"1\" class=\"dataframe\">\n",
              "  <thead>\n",
              "    <tr style=\"text-align: right;\">\n",
              "      <th></th>\n",
              "      <th>ID</th>\n",
              "      <th>ST_NUM</th>\n",
              "      <th>ST_NAME</th>\n",
              "      <th>OWN_OCCUPIED</th>\n",
              "      <th>NUM_BEDROOMS</th>\n",
              "      <th>NUM_BATH</th>\n",
              "      <th>SQ_FT</th>\n",
              "    </tr>\n",
              "  </thead>\n",
              "  <tbody>\n",
              "    <tr>\n",
              "      <th>0</th>\n",
              "      <td>False</td>\n",
              "      <td>False</td>\n",
              "      <td>False</td>\n",
              "      <td>False</td>\n",
              "      <td>False</td>\n",
              "      <td>False</td>\n",
              "      <td>False</td>\n",
              "    </tr>\n",
              "    <tr>\n",
              "      <th>1</th>\n",
              "      <td>False</td>\n",
              "      <td>False</td>\n",
              "      <td>False</td>\n",
              "      <td>False</td>\n",
              "      <td>False</td>\n",
              "      <td>False</td>\n",
              "      <td>True</td>\n",
              "    </tr>\n",
              "    <tr>\n",
              "      <th>2</th>\n",
              "      <td>False</td>\n",
              "      <td>True</td>\n",
              "      <td>False</td>\n",
              "      <td>False</td>\n",
              "      <td>True</td>\n",
              "      <td>False</td>\n",
              "      <td>False</td>\n",
              "    </tr>\n",
              "    <tr>\n",
              "      <th>3</th>\n",
              "      <td>False</td>\n",
              "      <td>False</td>\n",
              "      <td>False</td>\n",
              "      <td>False</td>\n",
              "      <td>False</td>\n",
              "      <td>True</td>\n",
              "      <td>False</td>\n",
              "    </tr>\n",
              "    <tr>\n",
              "      <th>4</th>\n",
              "      <td>False</td>\n",
              "      <td>False</td>\n",
              "      <td>False</td>\n",
              "      <td>False</td>\n",
              "      <td>False</td>\n",
              "      <td>False</td>\n",
              "      <td>False</td>\n",
              "    </tr>\n",
              "    <tr>\n",
              "      <th>5</th>\n",
              "      <td>False</td>\n",
              "      <td>False</td>\n",
              "      <td>False</td>\n",
              "      <td>False</td>\n",
              "      <td>True</td>\n",
              "      <td>False</td>\n",
              "      <td>False</td>\n",
              "    </tr>\n",
              "    <tr>\n",
              "      <th>6</th>\n",
              "      <td>False</td>\n",
              "      <td>True</td>\n",
              "      <td>False</td>\n",
              "      <td>True</td>\n",
              "      <td>False</td>\n",
              "      <td>False</td>\n",
              "      <td>False</td>\n",
              "    </tr>\n",
              "    <tr>\n",
              "      <th>7</th>\n",
              "      <td>False</td>\n",
              "      <td>False</td>\n",
              "      <td>False</td>\n",
              "      <td>False</td>\n",
              "      <td>False</td>\n",
              "      <td>False</td>\n",
              "      <td>True</td>\n",
              "    </tr>\n",
              "    <tr>\n",
              "      <th>8</th>\n",
              "      <td>False</td>\n",
              "      <td>False</td>\n",
              "      <td>False</td>\n",
              "      <td>False</td>\n",
              "      <td>True</td>\n",
              "      <td>False</td>\n",
              "      <td>False</td>\n",
              "    </tr>\n",
              "    <tr>\n",
              "      <th>9</th>\n",
              "      <td>False</td>\n",
              "      <td>False</td>\n",
              "      <td>False</td>\n",
              "      <td>False</td>\n",
              "      <td>False</td>\n",
              "      <td>False</td>\n",
              "      <td>False</td>\n",
              "    </tr>\n",
              "    <tr>\n",
              "      <th>10</th>\n",
              "      <td>False</td>\n",
              "      <td>False</td>\n",
              "      <td>False</td>\n",
              "      <td>False</td>\n",
              "      <td>False</td>\n",
              "      <td>False</td>\n",
              "      <td>False</td>\n",
              "    </tr>\n",
              "    <tr>\n",
              "      <th>11</th>\n",
              "      <td>False</td>\n",
              "      <td>False</td>\n",
              "      <td>False</td>\n",
              "      <td>False</td>\n",
              "      <td>False</td>\n",
              "      <td>False</td>\n",
              "      <td>True</td>\n",
              "    </tr>\n",
              "  </tbody>\n",
              "</table>\n",
              "</div>"
            ]
          },
          "metadata": {},
          "execution_count": 60
        }
      ]
    },
    {
      "cell_type": "markdown",
      "metadata": {
        "id": "wqOSuhkSYvoL"
      },
      "source": [
        "## Imputation of Null values: fill"
      ]
    },
    {
      "cell_type": "markdown",
      "metadata": {
        "id": "ipy-hbXeY4Z9"
      },
      "source": [
        "During this opertion we are approximating, so we are introducng some accuracy errors, some bias. But if the null values are not so many this operations are accepted."
      ]
    },
    {
      "cell_type": "markdown",
      "metadata": {
        "id": "cVEyx86OZVtk"
      },
      "source": [
        "Let's substitute null values for the column 'ST_NUM'"
      ]
    },
    {
      "cell_type": "code",
      "metadata": {
        "colab": {
          "base_uri": "https://localhost:8080/",
          "height": 446
        },
        "id": "HFv84EeGY4F2",
        "outputId": "891bb380-8898-49fa-c0b9-7ef0759d2901"
      },
      "source": [
        "data['ST_NUM'].fillna('missing', inplace=True) # inplace=True make the command modify the dataset\n",
        "data"
      ],
      "execution_count": 64,
      "outputs": [
        {
          "output_type": "execute_result",
          "data": {
            "text/plain": [
              "           ID   ST_NUM     ST_NAME OWN_OCCUPIED  NUM_BEDROOMS NUM_BATH   SQ_FT\n",
              "0   100001000    104.0      PUTNAM            Y           3.0        1  1000.0\n",
              "1   100002000    197.0   LEXINGTON            N           3.0      1.5     NaN\n",
              "2   100003000  missing   LEXINGTON            N           NaN        1   850.0\n",
              "3   100004000    201.0    BERKELEY           12           1.0      NaN   700.0\n",
              "4   100005000    203.0    BERKELEY            Y           3.0        2  1600.0\n",
              "5   100006000    207.0    BERKELEY            Y           NaN        1   800.0\n",
              "6   100007000  missing  WASHINGTON          NaN           2.0   HURLEY   950.0\n",
              "7   100008000    213.0     TREMONT            Y           1.0        1     NaN\n",
              "8   100009000    215.0     TREMONT            Y           NaN        2  1800.0\n",
              "9   100010000    216.0     BERELEY            Y           1.0        3    10.0\n",
              "10  100011000     10.0    LEINGTON            N           2.0        1   800.0\n",
              "11  100012000    213.0     TREMONT            Y           1.0        1     NaN"
            ],
            "text/html": [
              "<div>\n",
              "<style scoped>\n",
              "    .dataframe tbody tr th:only-of-type {\n",
              "        vertical-align: middle;\n",
              "    }\n",
              "\n",
              "    .dataframe tbody tr th {\n",
              "        vertical-align: top;\n",
              "    }\n",
              "\n",
              "    .dataframe thead th {\n",
              "        text-align: right;\n",
              "    }\n",
              "</style>\n",
              "<table border=\"1\" class=\"dataframe\">\n",
              "  <thead>\n",
              "    <tr style=\"text-align: right;\">\n",
              "      <th></th>\n",
              "      <th>ID</th>\n",
              "      <th>ST_NUM</th>\n",
              "      <th>ST_NAME</th>\n",
              "      <th>OWN_OCCUPIED</th>\n",
              "      <th>NUM_BEDROOMS</th>\n",
              "      <th>NUM_BATH</th>\n",
              "      <th>SQ_FT</th>\n",
              "    </tr>\n",
              "  </thead>\n",
              "  <tbody>\n",
              "    <tr>\n",
              "      <th>0</th>\n",
              "      <td>100001000</td>\n",
              "      <td>104.0</td>\n",
              "      <td>PUTNAM</td>\n",
              "      <td>Y</td>\n",
              "      <td>3.0</td>\n",
              "      <td>1</td>\n",
              "      <td>1000.0</td>\n",
              "    </tr>\n",
              "    <tr>\n",
              "      <th>1</th>\n",
              "      <td>100002000</td>\n",
              "      <td>197.0</td>\n",
              "      <td>LEXINGTON</td>\n",
              "      <td>N</td>\n",
              "      <td>3.0</td>\n",
              "      <td>1.5</td>\n",
              "      <td>NaN</td>\n",
              "    </tr>\n",
              "    <tr>\n",
              "      <th>2</th>\n",
              "      <td>100003000</td>\n",
              "      <td>missing</td>\n",
              "      <td>LEXINGTON</td>\n",
              "      <td>N</td>\n",
              "      <td>NaN</td>\n",
              "      <td>1</td>\n",
              "      <td>850.0</td>\n",
              "    </tr>\n",
              "    <tr>\n",
              "      <th>3</th>\n",
              "      <td>100004000</td>\n",
              "      <td>201.0</td>\n",
              "      <td>BERKELEY</td>\n",
              "      <td>12</td>\n",
              "      <td>1.0</td>\n",
              "      <td>NaN</td>\n",
              "      <td>700.0</td>\n",
              "    </tr>\n",
              "    <tr>\n",
              "      <th>4</th>\n",
              "      <td>100005000</td>\n",
              "      <td>203.0</td>\n",
              "      <td>BERKELEY</td>\n",
              "      <td>Y</td>\n",
              "      <td>3.0</td>\n",
              "      <td>2</td>\n",
              "      <td>1600.0</td>\n",
              "    </tr>\n",
              "    <tr>\n",
              "      <th>5</th>\n",
              "      <td>100006000</td>\n",
              "      <td>207.0</td>\n",
              "      <td>BERKELEY</td>\n",
              "      <td>Y</td>\n",
              "      <td>NaN</td>\n",
              "      <td>1</td>\n",
              "      <td>800.0</td>\n",
              "    </tr>\n",
              "    <tr>\n",
              "      <th>6</th>\n",
              "      <td>100007000</td>\n",
              "      <td>missing</td>\n",
              "      <td>WASHINGTON</td>\n",
              "      <td>NaN</td>\n",
              "      <td>2.0</td>\n",
              "      <td>HURLEY</td>\n",
              "      <td>950.0</td>\n",
              "    </tr>\n",
              "    <tr>\n",
              "      <th>7</th>\n",
              "      <td>100008000</td>\n",
              "      <td>213.0</td>\n",
              "      <td>TREMONT</td>\n",
              "      <td>Y</td>\n",
              "      <td>1.0</td>\n",
              "      <td>1</td>\n",
              "      <td>NaN</td>\n",
              "    </tr>\n",
              "    <tr>\n",
              "      <th>8</th>\n",
              "      <td>100009000</td>\n",
              "      <td>215.0</td>\n",
              "      <td>TREMONT</td>\n",
              "      <td>Y</td>\n",
              "      <td>NaN</td>\n",
              "      <td>2</td>\n",
              "      <td>1800.0</td>\n",
              "    </tr>\n",
              "    <tr>\n",
              "      <th>9</th>\n",
              "      <td>100010000</td>\n",
              "      <td>216.0</td>\n",
              "      <td>BERELEY</td>\n",
              "      <td>Y</td>\n",
              "      <td>1.0</td>\n",
              "      <td>3</td>\n",
              "      <td>10.0</td>\n",
              "    </tr>\n",
              "    <tr>\n",
              "      <th>10</th>\n",
              "      <td>100011000</td>\n",
              "      <td>10.0</td>\n",
              "      <td>LEINGTON</td>\n",
              "      <td>N</td>\n",
              "      <td>2.0</td>\n",
              "      <td>1</td>\n",
              "      <td>800.0</td>\n",
              "    </tr>\n",
              "    <tr>\n",
              "      <th>11</th>\n",
              "      <td>100012000</td>\n",
              "      <td>213.0</td>\n",
              "      <td>TREMONT</td>\n",
              "      <td>Y</td>\n",
              "      <td>1.0</td>\n",
              "      <td>1</td>\n",
              "      <td>NaN</td>\n",
              "    </tr>\n",
              "  </tbody>\n",
              "</table>\n",
              "</div>"
            ]
          },
          "metadata": {},
          "execution_count": 64
        }
      ]
    },
    {
      "cell_type": "markdown",
      "metadata": {
        "id": "Kt81jrUTZ5_Z"
      },
      "source": [
        "We can use fillna to fill the missing with the value in the row above or below by specifing the right method."
      ]
    },
    {
      "cell_type": "code",
      "metadata": {
        "colab": {
          "base_uri": "https://localhost:8080/"
        },
        "id": "deY1_ZXyY2-0",
        "outputId": "3ca227fb-1782-41e2-ad2f-f1b4b764172d"
      },
      "source": [
        "data['NUM_BEDROOMS'].fillna(method='ffill')"
      ],
      "execution_count": 65,
      "outputs": [
        {
          "output_type": "execute_result",
          "data": {
            "text/plain": [
              "0     3.0\n",
              "1     3.0\n",
              "2     3.0\n",
              "3     1.0\n",
              "4     3.0\n",
              "5     3.0\n",
              "6     2.0\n",
              "7     1.0\n",
              "8     1.0\n",
              "9     1.0\n",
              "10    2.0\n",
              "11    1.0\n",
              "Name: NUM_BEDROOMS, dtype: float64"
            ]
          },
          "metadata": {},
          "execution_count": 65
        }
      ]
    },
    {
      "cell_type": "code",
      "metadata": {
        "colab": {
          "base_uri": "https://localhost:8080/",
          "height": 479
        },
        "id": "qQpQkW_WaRVf",
        "outputId": "2133f0e1-4266-4f0f-d319-727bb704043a"
      },
      "source": [
        "data2 = pd.read_csv('./Dataset/TechUSA.csv')\n",
        "data2"
      ],
      "execution_count": 66,
      "outputs": [
        {
          "output_type": "execute_result",
          "data": {
            "text/plain": [
              "          permalink        company  numEmps  category        city state  \\\n",
              "0          lifelock       LifeLock      NaN       web       Tempe    AZ   \n",
              "1          lifelock       LifeLock      NaN       web       Tempe    AZ   \n",
              "2          lifelock       LifeLock      NaN       web       Tempe    AZ   \n",
              "3       mycityfaces    MyCityFaces      7.0       web  Scottsdale    AZ   \n",
              "4          flypaper       Flypaper      NaN       web     Phoenix    AZ   \n",
              "...             ...            ...      ...       ...         ...   ...   \n",
              "1455        trusera        Trusera     15.0       web     Seattle    WA   \n",
              "1456     alerts-com     Alerts.com      NaN       web    Bellevue    WA   \n",
              "1457          myrio          Myrio     75.0  software     Bothell    WA   \n",
              "1458  grid-networks  Grid Networks      NaN       web     Seattle    WA   \n",
              "1459  grid-networks  Grid Networks      NaN       web     Seattle    WA   \n",
              "\n",
              "     fundedDate  raisedAmt raisedCurrency         round  \n",
              "0      1-May-07    6850000            USD             b  \n",
              "1      1-Oct-06    6000000            USD             a  \n",
              "2      1-Jan-08   25000000            USD             c  \n",
              "3      1-Jan-08      50000            USD          seed  \n",
              "4      1-Feb-08    3000000            USD             a  \n",
              "...         ...        ...            ...           ...  \n",
              "1455   1-Jun-07    2000000            USD         angel  \n",
              "1456   8-Jul-08    1200000            USD             a  \n",
              "1457   1-Jan-01   20500000            USD  unattributed  \n",
              "1458  30-Oct-07    9500000            USD             a  \n",
              "1459  20-May-08   10500000            USD             b  \n",
              "\n",
              "[1460 rows x 10 columns]"
            ],
            "text/html": [
              "<div>\n",
              "<style scoped>\n",
              "    .dataframe tbody tr th:only-of-type {\n",
              "        vertical-align: middle;\n",
              "    }\n",
              "\n",
              "    .dataframe tbody tr th {\n",
              "        vertical-align: top;\n",
              "    }\n",
              "\n",
              "    .dataframe thead th {\n",
              "        text-align: right;\n",
              "    }\n",
              "</style>\n",
              "<table border=\"1\" class=\"dataframe\">\n",
              "  <thead>\n",
              "    <tr style=\"text-align: right;\">\n",
              "      <th></th>\n",
              "      <th>permalink</th>\n",
              "      <th>company</th>\n",
              "      <th>numEmps</th>\n",
              "      <th>category</th>\n",
              "      <th>city</th>\n",
              "      <th>state</th>\n",
              "      <th>fundedDate</th>\n",
              "      <th>raisedAmt</th>\n",
              "      <th>raisedCurrency</th>\n",
              "      <th>round</th>\n",
              "    </tr>\n",
              "  </thead>\n",
              "  <tbody>\n",
              "    <tr>\n",
              "      <th>0</th>\n",
              "      <td>lifelock</td>\n",
              "      <td>LifeLock</td>\n",
              "      <td>NaN</td>\n",
              "      <td>web</td>\n",
              "      <td>Tempe</td>\n",
              "      <td>AZ</td>\n",
              "      <td>1-May-07</td>\n",
              "      <td>6850000</td>\n",
              "      <td>USD</td>\n",
              "      <td>b</td>\n",
              "    </tr>\n",
              "    <tr>\n",
              "      <th>1</th>\n",
              "      <td>lifelock</td>\n",
              "      <td>LifeLock</td>\n",
              "      <td>NaN</td>\n",
              "      <td>web</td>\n",
              "      <td>Tempe</td>\n",
              "      <td>AZ</td>\n",
              "      <td>1-Oct-06</td>\n",
              "      <td>6000000</td>\n",
              "      <td>USD</td>\n",
              "      <td>a</td>\n",
              "    </tr>\n",
              "    <tr>\n",
              "      <th>2</th>\n",
              "      <td>lifelock</td>\n",
              "      <td>LifeLock</td>\n",
              "      <td>NaN</td>\n",
              "      <td>web</td>\n",
              "      <td>Tempe</td>\n",
              "      <td>AZ</td>\n",
              "      <td>1-Jan-08</td>\n",
              "      <td>25000000</td>\n",
              "      <td>USD</td>\n",
              "      <td>c</td>\n",
              "    </tr>\n",
              "    <tr>\n",
              "      <th>3</th>\n",
              "      <td>mycityfaces</td>\n",
              "      <td>MyCityFaces</td>\n",
              "      <td>7.0</td>\n",
              "      <td>web</td>\n",
              "      <td>Scottsdale</td>\n",
              "      <td>AZ</td>\n",
              "      <td>1-Jan-08</td>\n",
              "      <td>50000</td>\n",
              "      <td>USD</td>\n",
              "      <td>seed</td>\n",
              "    </tr>\n",
              "    <tr>\n",
              "      <th>4</th>\n",
              "      <td>flypaper</td>\n",
              "      <td>Flypaper</td>\n",
              "      <td>NaN</td>\n",
              "      <td>web</td>\n",
              "      <td>Phoenix</td>\n",
              "      <td>AZ</td>\n",
              "      <td>1-Feb-08</td>\n",
              "      <td>3000000</td>\n",
              "      <td>USD</td>\n",
              "      <td>a</td>\n",
              "    </tr>\n",
              "    <tr>\n",
              "      <th>...</th>\n",
              "      <td>...</td>\n",
              "      <td>...</td>\n",
              "      <td>...</td>\n",
              "      <td>...</td>\n",
              "      <td>...</td>\n",
              "      <td>...</td>\n",
              "      <td>...</td>\n",
              "      <td>...</td>\n",
              "      <td>...</td>\n",
              "      <td>...</td>\n",
              "    </tr>\n",
              "    <tr>\n",
              "      <th>1455</th>\n",
              "      <td>trusera</td>\n",
              "      <td>Trusera</td>\n",
              "      <td>15.0</td>\n",
              "      <td>web</td>\n",
              "      <td>Seattle</td>\n",
              "      <td>WA</td>\n",
              "      <td>1-Jun-07</td>\n",
              "      <td>2000000</td>\n",
              "      <td>USD</td>\n",
              "      <td>angel</td>\n",
              "    </tr>\n",
              "    <tr>\n",
              "      <th>1456</th>\n",
              "      <td>alerts-com</td>\n",
              "      <td>Alerts.com</td>\n",
              "      <td>NaN</td>\n",
              "      <td>web</td>\n",
              "      <td>Bellevue</td>\n",
              "      <td>WA</td>\n",
              "      <td>8-Jul-08</td>\n",
              "      <td>1200000</td>\n",
              "      <td>USD</td>\n",
              "      <td>a</td>\n",
              "    </tr>\n",
              "    <tr>\n",
              "      <th>1457</th>\n",
              "      <td>myrio</td>\n",
              "      <td>Myrio</td>\n",
              "      <td>75.0</td>\n",
              "      <td>software</td>\n",
              "      <td>Bothell</td>\n",
              "      <td>WA</td>\n",
              "      <td>1-Jan-01</td>\n",
              "      <td>20500000</td>\n",
              "      <td>USD</td>\n",
              "      <td>unattributed</td>\n",
              "    </tr>\n",
              "    <tr>\n",
              "      <th>1458</th>\n",
              "      <td>grid-networks</td>\n",
              "      <td>Grid Networks</td>\n",
              "      <td>NaN</td>\n",
              "      <td>web</td>\n",
              "      <td>Seattle</td>\n",
              "      <td>WA</td>\n",
              "      <td>30-Oct-07</td>\n",
              "      <td>9500000</td>\n",
              "      <td>USD</td>\n",
              "      <td>a</td>\n",
              "    </tr>\n",
              "    <tr>\n",
              "      <th>1459</th>\n",
              "      <td>grid-networks</td>\n",
              "      <td>Grid Networks</td>\n",
              "      <td>NaN</td>\n",
              "      <td>web</td>\n",
              "      <td>Seattle</td>\n",
              "      <td>WA</td>\n",
              "      <td>20-May-08</td>\n",
              "      <td>10500000</td>\n",
              "      <td>USD</td>\n",
              "      <td>b</td>\n",
              "    </tr>\n",
              "  </tbody>\n",
              "</table>\n",
              "<p>1460 rows × 10 columns</p>\n",
              "</div>"
            ]
          },
          "metadata": {},
          "execution_count": 66
        }
      ]
    },
    {
      "cell_type": "code",
      "metadata": {
        "colab": {
          "base_uri": "https://localhost:8080/"
        },
        "id": "Sya4X5dvaeSn",
        "outputId": "d0360aaf-3e90-4f90-f13d-646f20165dea"
      },
      "source": [
        "data2['numEmps'].fillna(method='ffill')"
      ],
      "execution_count": 70,
      "outputs": [
        {
          "output_type": "execute_result",
          "data": {
            "text/plain": [
              "0        NaN\n",
              "1        NaN\n",
              "2        NaN\n",
              "3        7.0\n",
              "4        7.0\n",
              "        ... \n",
              "1455    15.0\n",
              "1456    15.0\n",
              "1457    75.0\n",
              "1458    75.0\n",
              "1459    75.0\n",
              "Name: numEmps, Length: 1460, dtype: float64"
            ]
          },
          "metadata": {},
          "execution_count": 70
        }
      ]
    },
    {
      "cell_type": "code",
      "metadata": {
        "colab": {
          "base_uri": "https://localhost:8080/"
        },
        "id": "Fl9oJV8tazj2",
        "outputId": "d83a38b0-4000-4182-aebd-1766eeb1450b"
      },
      "source": [
        "data2['numEmps'].fillna(method='ffill').fillna(method='bfill')"
      ],
      "execution_count": 71,
      "outputs": [
        {
          "output_type": "execute_result",
          "data": {
            "text/plain": [
              "0        7.0\n",
              "1        7.0\n",
              "2        7.0\n",
              "3        7.0\n",
              "4        7.0\n",
              "        ... \n",
              "1455    15.0\n",
              "1456    15.0\n",
              "1457    75.0\n",
              "1458    75.0\n",
              "1459    75.0\n",
              "Name: numEmps, Length: 1460, dtype: float64"
            ]
          },
          "metadata": {},
          "execution_count": 71
        }
      ]
    },
    {
      "cell_type": "markdown",
      "metadata": {
        "id": "6CzvzeAMa-4J"
      },
      "source": [
        "The method fillna has a property called limit that allow you to limit the number of how many cells can be affected to this operation"
      ]
    },
    {
      "cell_type": "code",
      "metadata": {
        "colab": {
          "base_uri": "https://localhost:8080/"
        },
        "id": "Z5HLz6xBa-jn",
        "outputId": "0d421471-3aa2-4594-98cd-06501154b428"
      },
      "source": [
        "data2['numEmps'].fillna(method='ffill', limit=1)"
      ],
      "execution_count": 72,
      "outputs": [
        {
          "output_type": "execute_result",
          "data": {
            "text/plain": [
              "0        NaN\n",
              "1        NaN\n",
              "2        NaN\n",
              "3        7.0\n",
              "4        7.0\n",
              "        ... \n",
              "1455    15.0\n",
              "1456    15.0\n",
              "1457    75.0\n",
              "1458    75.0\n",
              "1459     NaN\n",
              "Name: numEmps, Length: 1460, dtype: float64"
            ]
          },
          "metadata": {},
          "execution_count": 72
        }
      ]
    },
    {
      "cell_type": "markdown",
      "metadata": {
        "id": "ILCgJx3HbYII"
      },
      "source": [
        "Equivalently we can use the commands"
      ]
    },
    {
      "cell_type": "code",
      "metadata": {
        "colab": {
          "base_uri": "https://localhost:8080/"
        },
        "id": "WbyAiomobbAx",
        "outputId": "576baa4f-fa00-408d-80fb-7c3b69d8af5b"
      },
      "source": [
        "data2['numEmps'].ffill(limit=1)"
      ],
      "execution_count": 75,
      "outputs": [
        {
          "output_type": "execute_result",
          "data": {
            "text/plain": [
              "0        NaN\n",
              "1        NaN\n",
              "2        NaN\n",
              "3        7.0\n",
              "4        7.0\n",
              "        ... \n",
              "1455    15.0\n",
              "1456    15.0\n",
              "1457    75.0\n",
              "1458    75.0\n",
              "1459     NaN\n",
              "Name: numEmps, Length: 1460, dtype: float64"
            ]
          },
          "metadata": {},
          "execution_count": 75
        }
      ]
    },
    {
      "cell_type": "code",
      "metadata": {
        "colab": {
          "base_uri": "https://localhost:8080/"
        },
        "id": "FqE99akrbe2H",
        "outputId": "b98d8fa2-1414-412f-8fd6-d9535d55c948"
      },
      "source": [
        "data2['numEmps'].bfill()"
      ],
      "execution_count": 74,
      "outputs": [
        {
          "output_type": "execute_result",
          "data": {
            "text/plain": [
              "0         7.0\n",
              "1         7.0\n",
              "2         7.0\n",
              "3         7.0\n",
              "4       105.0\n",
              "        ...  \n",
              "1455     15.0\n",
              "1456     75.0\n",
              "1457     75.0\n",
              "1458      NaN\n",
              "1459      NaN\n",
              "Name: numEmps, Length: 1460, dtype: float64"
            ]
          },
          "metadata": {},
          "execution_count": 74
        }
      ]
    },
    {
      "cell_type": "markdown",
      "metadata": {
        "id": "vw8QgT2Bbktz"
      },
      "source": [
        "And can be also applied to all the table "
      ]
    },
    {
      "cell_type": "code",
      "metadata": {
        "colab": {
          "base_uri": "https://localhost:8080/",
          "height": 479
        },
        "id": "sfxWc7BaboDv",
        "outputId": "37321eda-42fe-4995-e532-e387cb87c09f"
      },
      "source": [
        "data2.ffill()"
      ],
      "execution_count": 76,
      "outputs": [
        {
          "output_type": "execute_result",
          "data": {
            "text/plain": [
              "          permalink        company  numEmps  category        city state  \\\n",
              "0          lifelock       LifeLock      NaN       web       Tempe    AZ   \n",
              "1          lifelock       LifeLock      NaN       web       Tempe    AZ   \n",
              "2          lifelock       LifeLock      NaN       web       Tempe    AZ   \n",
              "3       mycityfaces    MyCityFaces      7.0       web  Scottsdale    AZ   \n",
              "4          flypaper       Flypaper      7.0       web     Phoenix    AZ   \n",
              "...             ...            ...      ...       ...         ...   ...   \n",
              "1455        trusera        Trusera     15.0       web     Seattle    WA   \n",
              "1456     alerts-com     Alerts.com     15.0       web    Bellevue    WA   \n",
              "1457          myrio          Myrio     75.0  software     Bothell    WA   \n",
              "1458  grid-networks  Grid Networks     75.0       web     Seattle    WA   \n",
              "1459  grid-networks  Grid Networks     75.0       web     Seattle    WA   \n",
              "\n",
              "     fundedDate  raisedAmt raisedCurrency         round  \n",
              "0      1-May-07    6850000            USD             b  \n",
              "1      1-Oct-06    6000000            USD             a  \n",
              "2      1-Jan-08   25000000            USD             c  \n",
              "3      1-Jan-08      50000            USD          seed  \n",
              "4      1-Feb-08    3000000            USD             a  \n",
              "...         ...        ...            ...           ...  \n",
              "1455   1-Jun-07    2000000            USD         angel  \n",
              "1456   8-Jul-08    1200000            USD             a  \n",
              "1457   1-Jan-01   20500000            USD  unattributed  \n",
              "1458  30-Oct-07    9500000            USD             a  \n",
              "1459  20-May-08   10500000            USD             b  \n",
              "\n",
              "[1460 rows x 10 columns]"
            ],
            "text/html": [
              "<div>\n",
              "<style scoped>\n",
              "    .dataframe tbody tr th:only-of-type {\n",
              "        vertical-align: middle;\n",
              "    }\n",
              "\n",
              "    .dataframe tbody tr th {\n",
              "        vertical-align: top;\n",
              "    }\n",
              "\n",
              "    .dataframe thead th {\n",
              "        text-align: right;\n",
              "    }\n",
              "</style>\n",
              "<table border=\"1\" class=\"dataframe\">\n",
              "  <thead>\n",
              "    <tr style=\"text-align: right;\">\n",
              "      <th></th>\n",
              "      <th>permalink</th>\n",
              "      <th>company</th>\n",
              "      <th>numEmps</th>\n",
              "      <th>category</th>\n",
              "      <th>city</th>\n",
              "      <th>state</th>\n",
              "      <th>fundedDate</th>\n",
              "      <th>raisedAmt</th>\n",
              "      <th>raisedCurrency</th>\n",
              "      <th>round</th>\n",
              "    </tr>\n",
              "  </thead>\n",
              "  <tbody>\n",
              "    <tr>\n",
              "      <th>0</th>\n",
              "      <td>lifelock</td>\n",
              "      <td>LifeLock</td>\n",
              "      <td>NaN</td>\n",
              "      <td>web</td>\n",
              "      <td>Tempe</td>\n",
              "      <td>AZ</td>\n",
              "      <td>1-May-07</td>\n",
              "      <td>6850000</td>\n",
              "      <td>USD</td>\n",
              "      <td>b</td>\n",
              "    </tr>\n",
              "    <tr>\n",
              "      <th>1</th>\n",
              "      <td>lifelock</td>\n",
              "      <td>LifeLock</td>\n",
              "      <td>NaN</td>\n",
              "      <td>web</td>\n",
              "      <td>Tempe</td>\n",
              "      <td>AZ</td>\n",
              "      <td>1-Oct-06</td>\n",
              "      <td>6000000</td>\n",
              "      <td>USD</td>\n",
              "      <td>a</td>\n",
              "    </tr>\n",
              "    <tr>\n",
              "      <th>2</th>\n",
              "      <td>lifelock</td>\n",
              "      <td>LifeLock</td>\n",
              "      <td>NaN</td>\n",
              "      <td>web</td>\n",
              "      <td>Tempe</td>\n",
              "      <td>AZ</td>\n",
              "      <td>1-Jan-08</td>\n",
              "      <td>25000000</td>\n",
              "      <td>USD</td>\n",
              "      <td>c</td>\n",
              "    </tr>\n",
              "    <tr>\n",
              "      <th>3</th>\n",
              "      <td>mycityfaces</td>\n",
              "      <td>MyCityFaces</td>\n",
              "      <td>7.0</td>\n",
              "      <td>web</td>\n",
              "      <td>Scottsdale</td>\n",
              "      <td>AZ</td>\n",
              "      <td>1-Jan-08</td>\n",
              "      <td>50000</td>\n",
              "      <td>USD</td>\n",
              "      <td>seed</td>\n",
              "    </tr>\n",
              "    <tr>\n",
              "      <th>4</th>\n",
              "      <td>flypaper</td>\n",
              "      <td>Flypaper</td>\n",
              "      <td>7.0</td>\n",
              "      <td>web</td>\n",
              "      <td>Phoenix</td>\n",
              "      <td>AZ</td>\n",
              "      <td>1-Feb-08</td>\n",
              "      <td>3000000</td>\n",
              "      <td>USD</td>\n",
              "      <td>a</td>\n",
              "    </tr>\n",
              "    <tr>\n",
              "      <th>...</th>\n",
              "      <td>...</td>\n",
              "      <td>...</td>\n",
              "      <td>...</td>\n",
              "      <td>...</td>\n",
              "      <td>...</td>\n",
              "      <td>...</td>\n",
              "      <td>...</td>\n",
              "      <td>...</td>\n",
              "      <td>...</td>\n",
              "      <td>...</td>\n",
              "    </tr>\n",
              "    <tr>\n",
              "      <th>1455</th>\n",
              "      <td>trusera</td>\n",
              "      <td>Trusera</td>\n",
              "      <td>15.0</td>\n",
              "      <td>web</td>\n",
              "      <td>Seattle</td>\n",
              "      <td>WA</td>\n",
              "      <td>1-Jun-07</td>\n",
              "      <td>2000000</td>\n",
              "      <td>USD</td>\n",
              "      <td>angel</td>\n",
              "    </tr>\n",
              "    <tr>\n",
              "      <th>1456</th>\n",
              "      <td>alerts-com</td>\n",
              "      <td>Alerts.com</td>\n",
              "      <td>15.0</td>\n",
              "      <td>web</td>\n",
              "      <td>Bellevue</td>\n",
              "      <td>WA</td>\n",
              "      <td>8-Jul-08</td>\n",
              "      <td>1200000</td>\n",
              "      <td>USD</td>\n",
              "      <td>a</td>\n",
              "    </tr>\n",
              "    <tr>\n",
              "      <th>1457</th>\n",
              "      <td>myrio</td>\n",
              "      <td>Myrio</td>\n",
              "      <td>75.0</td>\n",
              "      <td>software</td>\n",
              "      <td>Bothell</td>\n",
              "      <td>WA</td>\n",
              "      <td>1-Jan-01</td>\n",
              "      <td>20500000</td>\n",
              "      <td>USD</td>\n",
              "      <td>unattributed</td>\n",
              "    </tr>\n",
              "    <tr>\n",
              "      <th>1458</th>\n",
              "      <td>grid-networks</td>\n",
              "      <td>Grid Networks</td>\n",
              "      <td>75.0</td>\n",
              "      <td>web</td>\n",
              "      <td>Seattle</td>\n",
              "      <td>WA</td>\n",
              "      <td>30-Oct-07</td>\n",
              "      <td>9500000</td>\n",
              "      <td>USD</td>\n",
              "      <td>a</td>\n",
              "    </tr>\n",
              "    <tr>\n",
              "      <th>1459</th>\n",
              "      <td>grid-networks</td>\n",
              "      <td>Grid Networks</td>\n",
              "      <td>75.0</td>\n",
              "      <td>web</td>\n",
              "      <td>Seattle</td>\n",
              "      <td>WA</td>\n",
              "      <td>20-May-08</td>\n",
              "      <td>10500000</td>\n",
              "      <td>USD</td>\n",
              "      <td>b</td>\n",
              "    </tr>\n",
              "  </tbody>\n",
              "</table>\n",
              "<p>1460 rows × 10 columns</p>\n",
              "</div>"
            ]
          },
          "metadata": {},
          "execution_count": 76
        }
      ]
    },
    {
      "cell_type": "markdown",
      "metadata": {
        "id": "c4BGfwyBbuis"
      },
      "source": [
        "We may want to substitute the null values with some math characteristic such as the average"
      ]
    },
    {
      "cell_type": "code",
      "metadata": {
        "colab": {
          "base_uri": "https://localhost:8080/",
          "height": 479
        },
        "id": "u0UA0_Nxb6hA",
        "outputId": "6578da27-48bd-42fb-f534-d8206a5fbb4b"
      },
      "source": [
        "data2['numEmps'].fillna(data2['numEmps'].mean(), inplace=True)\n",
        "data2"
      ],
      "execution_count": 78,
      "outputs": [
        {
          "output_type": "execute_result",
          "data": {
            "text/plain": [
              "          permalink        company   numEmps  category        city state  \\\n",
              "0          lifelock       LifeLock  95.72134       web       Tempe    AZ   \n",
              "1          lifelock       LifeLock  95.72134       web       Tempe    AZ   \n",
              "2          lifelock       LifeLock  95.72134       web       Tempe    AZ   \n",
              "3       mycityfaces    MyCityFaces   7.00000       web  Scottsdale    AZ   \n",
              "4          flypaper       Flypaper  95.72134       web     Phoenix    AZ   \n",
              "...             ...            ...       ...       ...         ...   ...   \n",
              "1455        trusera        Trusera  15.00000       web     Seattle    WA   \n",
              "1456     alerts-com     Alerts.com  95.72134       web    Bellevue    WA   \n",
              "1457          myrio          Myrio  75.00000  software     Bothell    WA   \n",
              "1458  grid-networks  Grid Networks  95.72134       web     Seattle    WA   \n",
              "1459  grid-networks  Grid Networks  95.72134       web     Seattle    WA   \n",
              "\n",
              "     fundedDate  raisedAmt raisedCurrency         round  \n",
              "0      1-May-07    6850000            USD             b  \n",
              "1      1-Oct-06    6000000            USD             a  \n",
              "2      1-Jan-08   25000000            USD             c  \n",
              "3      1-Jan-08      50000            USD          seed  \n",
              "4      1-Feb-08    3000000            USD             a  \n",
              "...         ...        ...            ...           ...  \n",
              "1455   1-Jun-07    2000000            USD         angel  \n",
              "1456   8-Jul-08    1200000            USD             a  \n",
              "1457   1-Jan-01   20500000            USD  unattributed  \n",
              "1458  30-Oct-07    9500000            USD             a  \n",
              "1459  20-May-08   10500000            USD             b  \n",
              "\n",
              "[1460 rows x 10 columns]"
            ],
            "text/html": [
              "<div>\n",
              "<style scoped>\n",
              "    .dataframe tbody tr th:only-of-type {\n",
              "        vertical-align: middle;\n",
              "    }\n",
              "\n",
              "    .dataframe tbody tr th {\n",
              "        vertical-align: top;\n",
              "    }\n",
              "\n",
              "    .dataframe thead th {\n",
              "        text-align: right;\n",
              "    }\n",
              "</style>\n",
              "<table border=\"1\" class=\"dataframe\">\n",
              "  <thead>\n",
              "    <tr style=\"text-align: right;\">\n",
              "      <th></th>\n",
              "      <th>permalink</th>\n",
              "      <th>company</th>\n",
              "      <th>numEmps</th>\n",
              "      <th>category</th>\n",
              "      <th>city</th>\n",
              "      <th>state</th>\n",
              "      <th>fundedDate</th>\n",
              "      <th>raisedAmt</th>\n",
              "      <th>raisedCurrency</th>\n",
              "      <th>round</th>\n",
              "    </tr>\n",
              "  </thead>\n",
              "  <tbody>\n",
              "    <tr>\n",
              "      <th>0</th>\n",
              "      <td>lifelock</td>\n",
              "      <td>LifeLock</td>\n",
              "      <td>95.72134</td>\n",
              "      <td>web</td>\n",
              "      <td>Tempe</td>\n",
              "      <td>AZ</td>\n",
              "      <td>1-May-07</td>\n",
              "      <td>6850000</td>\n",
              "      <td>USD</td>\n",
              "      <td>b</td>\n",
              "    </tr>\n",
              "    <tr>\n",
              "      <th>1</th>\n",
              "      <td>lifelock</td>\n",
              "      <td>LifeLock</td>\n",
              "      <td>95.72134</td>\n",
              "      <td>web</td>\n",
              "      <td>Tempe</td>\n",
              "      <td>AZ</td>\n",
              "      <td>1-Oct-06</td>\n",
              "      <td>6000000</td>\n",
              "      <td>USD</td>\n",
              "      <td>a</td>\n",
              "    </tr>\n",
              "    <tr>\n",
              "      <th>2</th>\n",
              "      <td>lifelock</td>\n",
              "      <td>LifeLock</td>\n",
              "      <td>95.72134</td>\n",
              "      <td>web</td>\n",
              "      <td>Tempe</td>\n",
              "      <td>AZ</td>\n",
              "      <td>1-Jan-08</td>\n",
              "      <td>25000000</td>\n",
              "      <td>USD</td>\n",
              "      <td>c</td>\n",
              "    </tr>\n",
              "    <tr>\n",
              "      <th>3</th>\n",
              "      <td>mycityfaces</td>\n",
              "      <td>MyCityFaces</td>\n",
              "      <td>7.00000</td>\n",
              "      <td>web</td>\n",
              "      <td>Scottsdale</td>\n",
              "      <td>AZ</td>\n",
              "      <td>1-Jan-08</td>\n",
              "      <td>50000</td>\n",
              "      <td>USD</td>\n",
              "      <td>seed</td>\n",
              "    </tr>\n",
              "    <tr>\n",
              "      <th>4</th>\n",
              "      <td>flypaper</td>\n",
              "      <td>Flypaper</td>\n",
              "      <td>95.72134</td>\n",
              "      <td>web</td>\n",
              "      <td>Phoenix</td>\n",
              "      <td>AZ</td>\n",
              "      <td>1-Feb-08</td>\n",
              "      <td>3000000</td>\n",
              "      <td>USD</td>\n",
              "      <td>a</td>\n",
              "    </tr>\n",
              "    <tr>\n",
              "      <th>...</th>\n",
              "      <td>...</td>\n",
              "      <td>...</td>\n",
              "      <td>...</td>\n",
              "      <td>...</td>\n",
              "      <td>...</td>\n",
              "      <td>...</td>\n",
              "      <td>...</td>\n",
              "      <td>...</td>\n",
              "      <td>...</td>\n",
              "      <td>...</td>\n",
              "    </tr>\n",
              "    <tr>\n",
              "      <th>1455</th>\n",
              "      <td>trusera</td>\n",
              "      <td>Trusera</td>\n",
              "      <td>15.00000</td>\n",
              "      <td>web</td>\n",
              "      <td>Seattle</td>\n",
              "      <td>WA</td>\n",
              "      <td>1-Jun-07</td>\n",
              "      <td>2000000</td>\n",
              "      <td>USD</td>\n",
              "      <td>angel</td>\n",
              "    </tr>\n",
              "    <tr>\n",
              "      <th>1456</th>\n",
              "      <td>alerts-com</td>\n",
              "      <td>Alerts.com</td>\n",
              "      <td>95.72134</td>\n",
              "      <td>web</td>\n",
              "      <td>Bellevue</td>\n",
              "      <td>WA</td>\n",
              "      <td>8-Jul-08</td>\n",
              "      <td>1200000</td>\n",
              "      <td>USD</td>\n",
              "      <td>a</td>\n",
              "    </tr>\n",
              "    <tr>\n",
              "      <th>1457</th>\n",
              "      <td>myrio</td>\n",
              "      <td>Myrio</td>\n",
              "      <td>75.00000</td>\n",
              "      <td>software</td>\n",
              "      <td>Bothell</td>\n",
              "      <td>WA</td>\n",
              "      <td>1-Jan-01</td>\n",
              "      <td>20500000</td>\n",
              "      <td>USD</td>\n",
              "      <td>unattributed</td>\n",
              "    </tr>\n",
              "    <tr>\n",
              "      <th>1458</th>\n",
              "      <td>grid-networks</td>\n",
              "      <td>Grid Networks</td>\n",
              "      <td>95.72134</td>\n",
              "      <td>web</td>\n",
              "      <td>Seattle</td>\n",
              "      <td>WA</td>\n",
              "      <td>30-Oct-07</td>\n",
              "      <td>9500000</td>\n",
              "      <td>USD</td>\n",
              "      <td>a</td>\n",
              "    </tr>\n",
              "    <tr>\n",
              "      <th>1459</th>\n",
              "      <td>grid-networks</td>\n",
              "      <td>Grid Networks</td>\n",
              "      <td>95.72134</td>\n",
              "      <td>web</td>\n",
              "      <td>Seattle</td>\n",
              "      <td>WA</td>\n",
              "      <td>20-May-08</td>\n",
              "      <td>10500000</td>\n",
              "      <td>USD</td>\n",
              "      <td>b</td>\n",
              "    </tr>\n",
              "  </tbody>\n",
              "</table>\n",
              "<p>1460 rows × 10 columns</p>\n",
              "</div>"
            ]
          },
          "metadata": {},
          "execution_count": 78
        }
      ]
    },
    {
      "cell_type": "markdown",
      "metadata": {
        "id": "8yG-gImwcFr0"
      },
      "source": [
        "Otherwise, if we want to act over all the table we can use "
      ]
    },
    {
      "cell_type": "code",
      "metadata": {
        "colab": {
          "base_uri": "https://localhost:8080/",
          "height": 479
        },
        "id": "Y80C2uq5cGvu",
        "outputId": "548a1064-ca73-4a4f-a046-26efe35e5fea"
      },
      "source": [
        "data2.fillna(data.mean(), inplace=True)\n",
        "data2"
      ],
      "execution_count": 79,
      "outputs": [
        {
          "output_type": "execute_result",
          "data": {
            "text/plain": [
              "          permalink        company   numEmps  category        city state  \\\n",
              "0          lifelock       LifeLock  95.72134       web       Tempe    AZ   \n",
              "1          lifelock       LifeLock  95.72134       web       Tempe    AZ   \n",
              "2          lifelock       LifeLock  95.72134       web       Tempe    AZ   \n",
              "3       mycityfaces    MyCityFaces   7.00000       web  Scottsdale    AZ   \n",
              "4          flypaper       Flypaper  95.72134       web     Phoenix    AZ   \n",
              "...             ...            ...       ...       ...         ...   ...   \n",
              "1455        trusera        Trusera  15.00000       web     Seattle    WA   \n",
              "1456     alerts-com     Alerts.com  95.72134       web    Bellevue    WA   \n",
              "1457          myrio          Myrio  75.00000  software     Bothell    WA   \n",
              "1458  grid-networks  Grid Networks  95.72134       web     Seattle    WA   \n",
              "1459  grid-networks  Grid Networks  95.72134       web     Seattle    WA   \n",
              "\n",
              "     fundedDate  raisedAmt raisedCurrency         round  \n",
              "0      1-May-07    6850000            USD             b  \n",
              "1      1-Oct-06    6000000            USD             a  \n",
              "2      1-Jan-08   25000000            USD             c  \n",
              "3      1-Jan-08      50000            USD          seed  \n",
              "4      1-Feb-08    3000000            USD             a  \n",
              "...         ...        ...            ...           ...  \n",
              "1455   1-Jun-07    2000000            USD         angel  \n",
              "1456   8-Jul-08    1200000            USD             a  \n",
              "1457   1-Jan-01   20500000            USD  unattributed  \n",
              "1458  30-Oct-07    9500000            USD             a  \n",
              "1459  20-May-08   10500000            USD             b  \n",
              "\n",
              "[1460 rows x 10 columns]"
            ],
            "text/html": [
              "<div>\n",
              "<style scoped>\n",
              "    .dataframe tbody tr th:only-of-type {\n",
              "        vertical-align: middle;\n",
              "    }\n",
              "\n",
              "    .dataframe tbody tr th {\n",
              "        vertical-align: top;\n",
              "    }\n",
              "\n",
              "    .dataframe thead th {\n",
              "        text-align: right;\n",
              "    }\n",
              "</style>\n",
              "<table border=\"1\" class=\"dataframe\">\n",
              "  <thead>\n",
              "    <tr style=\"text-align: right;\">\n",
              "      <th></th>\n",
              "      <th>permalink</th>\n",
              "      <th>company</th>\n",
              "      <th>numEmps</th>\n",
              "      <th>category</th>\n",
              "      <th>city</th>\n",
              "      <th>state</th>\n",
              "      <th>fundedDate</th>\n",
              "      <th>raisedAmt</th>\n",
              "      <th>raisedCurrency</th>\n",
              "      <th>round</th>\n",
              "    </tr>\n",
              "  </thead>\n",
              "  <tbody>\n",
              "    <tr>\n",
              "      <th>0</th>\n",
              "      <td>lifelock</td>\n",
              "      <td>LifeLock</td>\n",
              "      <td>95.72134</td>\n",
              "      <td>web</td>\n",
              "      <td>Tempe</td>\n",
              "      <td>AZ</td>\n",
              "      <td>1-May-07</td>\n",
              "      <td>6850000</td>\n",
              "      <td>USD</td>\n",
              "      <td>b</td>\n",
              "    </tr>\n",
              "    <tr>\n",
              "      <th>1</th>\n",
              "      <td>lifelock</td>\n",
              "      <td>LifeLock</td>\n",
              "      <td>95.72134</td>\n",
              "      <td>web</td>\n",
              "      <td>Tempe</td>\n",
              "      <td>AZ</td>\n",
              "      <td>1-Oct-06</td>\n",
              "      <td>6000000</td>\n",
              "      <td>USD</td>\n",
              "      <td>a</td>\n",
              "    </tr>\n",
              "    <tr>\n",
              "      <th>2</th>\n",
              "      <td>lifelock</td>\n",
              "      <td>LifeLock</td>\n",
              "      <td>95.72134</td>\n",
              "      <td>web</td>\n",
              "      <td>Tempe</td>\n",
              "      <td>AZ</td>\n",
              "      <td>1-Jan-08</td>\n",
              "      <td>25000000</td>\n",
              "      <td>USD</td>\n",
              "      <td>c</td>\n",
              "    </tr>\n",
              "    <tr>\n",
              "      <th>3</th>\n",
              "      <td>mycityfaces</td>\n",
              "      <td>MyCityFaces</td>\n",
              "      <td>7.00000</td>\n",
              "      <td>web</td>\n",
              "      <td>Scottsdale</td>\n",
              "      <td>AZ</td>\n",
              "      <td>1-Jan-08</td>\n",
              "      <td>50000</td>\n",
              "      <td>USD</td>\n",
              "      <td>seed</td>\n",
              "    </tr>\n",
              "    <tr>\n",
              "      <th>4</th>\n",
              "      <td>flypaper</td>\n",
              "      <td>Flypaper</td>\n",
              "      <td>95.72134</td>\n",
              "      <td>web</td>\n",
              "      <td>Phoenix</td>\n",
              "      <td>AZ</td>\n",
              "      <td>1-Feb-08</td>\n",
              "      <td>3000000</td>\n",
              "      <td>USD</td>\n",
              "      <td>a</td>\n",
              "    </tr>\n",
              "    <tr>\n",
              "      <th>...</th>\n",
              "      <td>...</td>\n",
              "      <td>...</td>\n",
              "      <td>...</td>\n",
              "      <td>...</td>\n",
              "      <td>...</td>\n",
              "      <td>...</td>\n",
              "      <td>...</td>\n",
              "      <td>...</td>\n",
              "      <td>...</td>\n",
              "      <td>...</td>\n",
              "    </tr>\n",
              "    <tr>\n",
              "      <th>1455</th>\n",
              "      <td>trusera</td>\n",
              "      <td>Trusera</td>\n",
              "      <td>15.00000</td>\n",
              "      <td>web</td>\n",
              "      <td>Seattle</td>\n",
              "      <td>WA</td>\n",
              "      <td>1-Jun-07</td>\n",
              "      <td>2000000</td>\n",
              "      <td>USD</td>\n",
              "      <td>angel</td>\n",
              "    </tr>\n",
              "    <tr>\n",
              "      <th>1456</th>\n",
              "      <td>alerts-com</td>\n",
              "      <td>Alerts.com</td>\n",
              "      <td>95.72134</td>\n",
              "      <td>web</td>\n",
              "      <td>Bellevue</td>\n",
              "      <td>WA</td>\n",
              "      <td>8-Jul-08</td>\n",
              "      <td>1200000</td>\n",
              "      <td>USD</td>\n",
              "      <td>a</td>\n",
              "    </tr>\n",
              "    <tr>\n",
              "      <th>1457</th>\n",
              "      <td>myrio</td>\n",
              "      <td>Myrio</td>\n",
              "      <td>75.00000</td>\n",
              "      <td>software</td>\n",
              "      <td>Bothell</td>\n",
              "      <td>WA</td>\n",
              "      <td>1-Jan-01</td>\n",
              "      <td>20500000</td>\n",
              "      <td>USD</td>\n",
              "      <td>unattributed</td>\n",
              "    </tr>\n",
              "    <tr>\n",
              "      <th>1458</th>\n",
              "      <td>grid-networks</td>\n",
              "      <td>Grid Networks</td>\n",
              "      <td>95.72134</td>\n",
              "      <td>web</td>\n",
              "      <td>Seattle</td>\n",
              "      <td>WA</td>\n",
              "      <td>30-Oct-07</td>\n",
              "      <td>9500000</td>\n",
              "      <td>USD</td>\n",
              "      <td>a</td>\n",
              "    </tr>\n",
              "    <tr>\n",
              "      <th>1459</th>\n",
              "      <td>grid-networks</td>\n",
              "      <td>Grid Networks</td>\n",
              "      <td>95.72134</td>\n",
              "      <td>web</td>\n",
              "      <td>Seattle</td>\n",
              "      <td>WA</td>\n",
              "      <td>20-May-08</td>\n",
              "      <td>10500000</td>\n",
              "      <td>USD</td>\n",
              "      <td>b</td>\n",
              "    </tr>\n",
              "  </tbody>\n",
              "</table>\n",
              "<p>1460 rows × 10 columns</p>\n",
              "</div>"
            ]
          },
          "metadata": {},
          "execution_count": 79
        }
      ]
    },
    {
      "cell_type": "markdown",
      "metadata": {
        "id": "FzvUxGcIiF8S"
      },
      "source": [
        "that compute the average over each single column and it uses to fill null values. \n",
        "\n",
        "ATTENTION: this command is applied only on column that contains number, so it is not able to perform the substitution for columns containing strings.\n",
        "\n",
        "BEWARE: the type of the field is inferred. Hence if we apply this command and there is a null value for the id then it will substitute it with the id mean which does not make any sense, since in reality the id is not a number. So it **is better to apply the fill command column by column only to those we know it should be applied**."
      ]
    },
    {
      "cell_type": "markdown",
      "metadata": {
        "id": "JOZZAtz8jLBW"
      },
      "source": [
        "Instead of the mean we can imputing the null values with other column characteristic. For instance, the median."
      ]
    },
    {
      "cell_type": "markdown",
      "metadata": {
        "id": "TNeDyVbwjuUn"
      },
      "source": [
        "### Imputing Nulls: drop tuples"
      ]
    },
    {
      "cell_type": "markdown",
      "metadata": {
        "id": "wfi-ylB1jdJZ"
      },
      "source": [
        "The alternative to substitution we can drop the tuples that contain at least a null value."
      ]
    },
    {
      "cell_type": "code",
      "metadata": {
        "colab": {
          "base_uri": "https://localhost:8080/",
          "height": 479
        },
        "id": "g2sGHLe9jcwb",
        "outputId": "0ee4b2fb-2600-4feb-9778-9137695fdff9"
      },
      "source": [
        "data2.dropna(axis=0)"
      ],
      "execution_count": 80,
      "outputs": [
        {
          "output_type": "execute_result",
          "data": {
            "text/plain": [
              "          permalink        company   numEmps  category        city state  \\\n",
              "0          lifelock       LifeLock  95.72134       web       Tempe    AZ   \n",
              "1          lifelock       LifeLock  95.72134       web       Tempe    AZ   \n",
              "2          lifelock       LifeLock  95.72134       web       Tempe    AZ   \n",
              "3       mycityfaces    MyCityFaces   7.00000       web  Scottsdale    AZ   \n",
              "4          flypaper       Flypaper  95.72134       web     Phoenix    AZ   \n",
              "...             ...            ...       ...       ...         ...   ...   \n",
              "1455        trusera        Trusera  15.00000       web     Seattle    WA   \n",
              "1456     alerts-com     Alerts.com  95.72134       web    Bellevue    WA   \n",
              "1457          myrio          Myrio  75.00000  software     Bothell    WA   \n",
              "1458  grid-networks  Grid Networks  95.72134       web     Seattle    WA   \n",
              "1459  grid-networks  Grid Networks  95.72134       web     Seattle    WA   \n",
              "\n",
              "     fundedDate  raisedAmt raisedCurrency         round  \n",
              "0      1-May-07    6850000            USD             b  \n",
              "1      1-Oct-06    6000000            USD             a  \n",
              "2      1-Jan-08   25000000            USD             c  \n",
              "3      1-Jan-08      50000            USD          seed  \n",
              "4      1-Feb-08    3000000            USD             a  \n",
              "...         ...        ...            ...           ...  \n",
              "1455   1-Jun-07    2000000            USD         angel  \n",
              "1456   8-Jul-08    1200000            USD             a  \n",
              "1457   1-Jan-01   20500000            USD  unattributed  \n",
              "1458  30-Oct-07    9500000            USD             a  \n",
              "1459  20-May-08   10500000            USD             b  \n",
              "\n",
              "[1418 rows x 10 columns]"
            ],
            "text/html": [
              "<div>\n",
              "<style scoped>\n",
              "    .dataframe tbody tr th:only-of-type {\n",
              "        vertical-align: middle;\n",
              "    }\n",
              "\n",
              "    .dataframe tbody tr th {\n",
              "        vertical-align: top;\n",
              "    }\n",
              "\n",
              "    .dataframe thead th {\n",
              "        text-align: right;\n",
              "    }\n",
              "</style>\n",
              "<table border=\"1\" class=\"dataframe\">\n",
              "  <thead>\n",
              "    <tr style=\"text-align: right;\">\n",
              "      <th></th>\n",
              "      <th>permalink</th>\n",
              "      <th>company</th>\n",
              "      <th>numEmps</th>\n",
              "      <th>category</th>\n",
              "      <th>city</th>\n",
              "      <th>state</th>\n",
              "      <th>fundedDate</th>\n",
              "      <th>raisedAmt</th>\n",
              "      <th>raisedCurrency</th>\n",
              "      <th>round</th>\n",
              "    </tr>\n",
              "  </thead>\n",
              "  <tbody>\n",
              "    <tr>\n",
              "      <th>0</th>\n",
              "      <td>lifelock</td>\n",
              "      <td>LifeLock</td>\n",
              "      <td>95.72134</td>\n",
              "      <td>web</td>\n",
              "      <td>Tempe</td>\n",
              "      <td>AZ</td>\n",
              "      <td>1-May-07</td>\n",
              "      <td>6850000</td>\n",
              "      <td>USD</td>\n",
              "      <td>b</td>\n",
              "    </tr>\n",
              "    <tr>\n",
              "      <th>1</th>\n",
              "      <td>lifelock</td>\n",
              "      <td>LifeLock</td>\n",
              "      <td>95.72134</td>\n",
              "      <td>web</td>\n",
              "      <td>Tempe</td>\n",
              "      <td>AZ</td>\n",
              "      <td>1-Oct-06</td>\n",
              "      <td>6000000</td>\n",
              "      <td>USD</td>\n",
              "      <td>a</td>\n",
              "    </tr>\n",
              "    <tr>\n",
              "      <th>2</th>\n",
              "      <td>lifelock</td>\n",
              "      <td>LifeLock</td>\n",
              "      <td>95.72134</td>\n",
              "      <td>web</td>\n",
              "      <td>Tempe</td>\n",
              "      <td>AZ</td>\n",
              "      <td>1-Jan-08</td>\n",
              "      <td>25000000</td>\n",
              "      <td>USD</td>\n",
              "      <td>c</td>\n",
              "    </tr>\n",
              "    <tr>\n",
              "      <th>3</th>\n",
              "      <td>mycityfaces</td>\n",
              "      <td>MyCityFaces</td>\n",
              "      <td>7.00000</td>\n",
              "      <td>web</td>\n",
              "      <td>Scottsdale</td>\n",
              "      <td>AZ</td>\n",
              "      <td>1-Jan-08</td>\n",
              "      <td>50000</td>\n",
              "      <td>USD</td>\n",
              "      <td>seed</td>\n",
              "    </tr>\n",
              "    <tr>\n",
              "      <th>4</th>\n",
              "      <td>flypaper</td>\n",
              "      <td>Flypaper</td>\n",
              "      <td>95.72134</td>\n",
              "      <td>web</td>\n",
              "      <td>Phoenix</td>\n",
              "      <td>AZ</td>\n",
              "      <td>1-Feb-08</td>\n",
              "      <td>3000000</td>\n",
              "      <td>USD</td>\n",
              "      <td>a</td>\n",
              "    </tr>\n",
              "    <tr>\n",
              "      <th>...</th>\n",
              "      <td>...</td>\n",
              "      <td>...</td>\n",
              "      <td>...</td>\n",
              "      <td>...</td>\n",
              "      <td>...</td>\n",
              "      <td>...</td>\n",
              "      <td>...</td>\n",
              "      <td>...</td>\n",
              "      <td>...</td>\n",
              "      <td>...</td>\n",
              "    </tr>\n",
              "    <tr>\n",
              "      <th>1455</th>\n",
              "      <td>trusera</td>\n",
              "      <td>Trusera</td>\n",
              "      <td>15.00000</td>\n",
              "      <td>web</td>\n",
              "      <td>Seattle</td>\n",
              "      <td>WA</td>\n",
              "      <td>1-Jun-07</td>\n",
              "      <td>2000000</td>\n",
              "      <td>USD</td>\n",
              "      <td>angel</td>\n",
              "    </tr>\n",
              "    <tr>\n",
              "      <th>1456</th>\n",
              "      <td>alerts-com</td>\n",
              "      <td>Alerts.com</td>\n",
              "      <td>95.72134</td>\n",
              "      <td>web</td>\n",
              "      <td>Bellevue</td>\n",
              "      <td>WA</td>\n",
              "      <td>8-Jul-08</td>\n",
              "      <td>1200000</td>\n",
              "      <td>USD</td>\n",
              "      <td>a</td>\n",
              "    </tr>\n",
              "    <tr>\n",
              "      <th>1457</th>\n",
              "      <td>myrio</td>\n",
              "      <td>Myrio</td>\n",
              "      <td>75.00000</td>\n",
              "      <td>software</td>\n",
              "      <td>Bothell</td>\n",
              "      <td>WA</td>\n",
              "      <td>1-Jan-01</td>\n",
              "      <td>20500000</td>\n",
              "      <td>USD</td>\n",
              "      <td>unattributed</td>\n",
              "    </tr>\n",
              "    <tr>\n",
              "      <th>1458</th>\n",
              "      <td>grid-networks</td>\n",
              "      <td>Grid Networks</td>\n",
              "      <td>95.72134</td>\n",
              "      <td>web</td>\n",
              "      <td>Seattle</td>\n",
              "      <td>WA</td>\n",
              "      <td>30-Oct-07</td>\n",
              "      <td>9500000</td>\n",
              "      <td>USD</td>\n",
              "      <td>a</td>\n",
              "    </tr>\n",
              "    <tr>\n",
              "      <th>1459</th>\n",
              "      <td>grid-networks</td>\n",
              "      <td>Grid Networks</td>\n",
              "      <td>95.72134</td>\n",
              "      <td>web</td>\n",
              "      <td>Seattle</td>\n",
              "      <td>WA</td>\n",
              "      <td>20-May-08</td>\n",
              "      <td>10500000</td>\n",
              "      <td>USD</td>\n",
              "      <td>b</td>\n",
              "    </tr>\n",
              "  </tbody>\n",
              "</table>\n",
              "<p>1418 rows × 10 columns</p>\n",
              "</div>"
            ]
          },
          "metadata": {},
          "execution_count": 80
        }
      ]
    },
    {
      "cell_type": "code",
      "metadata": {
        "colab": {
          "base_uri": "https://localhost:8080/",
          "height": 479
        },
        "id": "aaIJFMi5j7jA",
        "outputId": "b5d36e98-0003-46c4-b2a6-81ccf4383389"
      },
      "source": [
        "data2.dropna(axis='columns')"
      ],
      "execution_count": 81,
      "outputs": [
        {
          "output_type": "execute_result",
          "data": {
            "text/plain": [
              "          permalink        company   numEmps state fundedDate  raisedAmt  \\\n",
              "0          lifelock       LifeLock  95.72134    AZ   1-May-07    6850000   \n",
              "1          lifelock       LifeLock  95.72134    AZ   1-Oct-06    6000000   \n",
              "2          lifelock       LifeLock  95.72134    AZ   1-Jan-08   25000000   \n",
              "3       mycityfaces    MyCityFaces   7.00000    AZ   1-Jan-08      50000   \n",
              "4          flypaper       Flypaper  95.72134    AZ   1-Feb-08    3000000   \n",
              "...             ...            ...       ...   ...        ...        ...   \n",
              "1455        trusera        Trusera  15.00000    WA   1-Jun-07    2000000   \n",
              "1456     alerts-com     Alerts.com  95.72134    WA   8-Jul-08    1200000   \n",
              "1457          myrio          Myrio  75.00000    WA   1-Jan-01   20500000   \n",
              "1458  grid-networks  Grid Networks  95.72134    WA  30-Oct-07    9500000   \n",
              "1459  grid-networks  Grid Networks  95.72134    WA  20-May-08   10500000   \n",
              "\n",
              "     raisedCurrency         round  \n",
              "0               USD             b  \n",
              "1               USD             a  \n",
              "2               USD             c  \n",
              "3               USD          seed  \n",
              "4               USD             a  \n",
              "...             ...           ...  \n",
              "1455            USD         angel  \n",
              "1456            USD             a  \n",
              "1457            USD  unattributed  \n",
              "1458            USD             a  \n",
              "1459            USD             b  \n",
              "\n",
              "[1460 rows x 8 columns]"
            ],
            "text/html": [
              "<div>\n",
              "<style scoped>\n",
              "    .dataframe tbody tr th:only-of-type {\n",
              "        vertical-align: middle;\n",
              "    }\n",
              "\n",
              "    .dataframe tbody tr th {\n",
              "        vertical-align: top;\n",
              "    }\n",
              "\n",
              "    .dataframe thead th {\n",
              "        text-align: right;\n",
              "    }\n",
              "</style>\n",
              "<table border=\"1\" class=\"dataframe\">\n",
              "  <thead>\n",
              "    <tr style=\"text-align: right;\">\n",
              "      <th></th>\n",
              "      <th>permalink</th>\n",
              "      <th>company</th>\n",
              "      <th>numEmps</th>\n",
              "      <th>state</th>\n",
              "      <th>fundedDate</th>\n",
              "      <th>raisedAmt</th>\n",
              "      <th>raisedCurrency</th>\n",
              "      <th>round</th>\n",
              "    </tr>\n",
              "  </thead>\n",
              "  <tbody>\n",
              "    <tr>\n",
              "      <th>0</th>\n",
              "      <td>lifelock</td>\n",
              "      <td>LifeLock</td>\n",
              "      <td>95.72134</td>\n",
              "      <td>AZ</td>\n",
              "      <td>1-May-07</td>\n",
              "      <td>6850000</td>\n",
              "      <td>USD</td>\n",
              "      <td>b</td>\n",
              "    </tr>\n",
              "    <tr>\n",
              "      <th>1</th>\n",
              "      <td>lifelock</td>\n",
              "      <td>LifeLock</td>\n",
              "      <td>95.72134</td>\n",
              "      <td>AZ</td>\n",
              "      <td>1-Oct-06</td>\n",
              "      <td>6000000</td>\n",
              "      <td>USD</td>\n",
              "      <td>a</td>\n",
              "    </tr>\n",
              "    <tr>\n",
              "      <th>2</th>\n",
              "      <td>lifelock</td>\n",
              "      <td>LifeLock</td>\n",
              "      <td>95.72134</td>\n",
              "      <td>AZ</td>\n",
              "      <td>1-Jan-08</td>\n",
              "      <td>25000000</td>\n",
              "      <td>USD</td>\n",
              "      <td>c</td>\n",
              "    </tr>\n",
              "    <tr>\n",
              "      <th>3</th>\n",
              "      <td>mycityfaces</td>\n",
              "      <td>MyCityFaces</td>\n",
              "      <td>7.00000</td>\n",
              "      <td>AZ</td>\n",
              "      <td>1-Jan-08</td>\n",
              "      <td>50000</td>\n",
              "      <td>USD</td>\n",
              "      <td>seed</td>\n",
              "    </tr>\n",
              "    <tr>\n",
              "      <th>4</th>\n",
              "      <td>flypaper</td>\n",
              "      <td>Flypaper</td>\n",
              "      <td>95.72134</td>\n",
              "      <td>AZ</td>\n",
              "      <td>1-Feb-08</td>\n",
              "      <td>3000000</td>\n",
              "      <td>USD</td>\n",
              "      <td>a</td>\n",
              "    </tr>\n",
              "    <tr>\n",
              "      <th>...</th>\n",
              "      <td>...</td>\n",
              "      <td>...</td>\n",
              "      <td>...</td>\n",
              "      <td>...</td>\n",
              "      <td>...</td>\n",
              "      <td>...</td>\n",
              "      <td>...</td>\n",
              "      <td>...</td>\n",
              "    </tr>\n",
              "    <tr>\n",
              "      <th>1455</th>\n",
              "      <td>trusera</td>\n",
              "      <td>Trusera</td>\n",
              "      <td>15.00000</td>\n",
              "      <td>WA</td>\n",
              "      <td>1-Jun-07</td>\n",
              "      <td>2000000</td>\n",
              "      <td>USD</td>\n",
              "      <td>angel</td>\n",
              "    </tr>\n",
              "    <tr>\n",
              "      <th>1456</th>\n",
              "      <td>alerts-com</td>\n",
              "      <td>Alerts.com</td>\n",
              "      <td>95.72134</td>\n",
              "      <td>WA</td>\n",
              "      <td>8-Jul-08</td>\n",
              "      <td>1200000</td>\n",
              "      <td>USD</td>\n",
              "      <td>a</td>\n",
              "    </tr>\n",
              "    <tr>\n",
              "      <th>1457</th>\n",
              "      <td>myrio</td>\n",
              "      <td>Myrio</td>\n",
              "      <td>75.00000</td>\n",
              "      <td>WA</td>\n",
              "      <td>1-Jan-01</td>\n",
              "      <td>20500000</td>\n",
              "      <td>USD</td>\n",
              "      <td>unattributed</td>\n",
              "    </tr>\n",
              "    <tr>\n",
              "      <th>1458</th>\n",
              "      <td>grid-networks</td>\n",
              "      <td>Grid Networks</td>\n",
              "      <td>95.72134</td>\n",
              "      <td>WA</td>\n",
              "      <td>30-Oct-07</td>\n",
              "      <td>9500000</td>\n",
              "      <td>USD</td>\n",
              "      <td>a</td>\n",
              "    </tr>\n",
              "    <tr>\n",
              "      <th>1459</th>\n",
              "      <td>grid-networks</td>\n",
              "      <td>Grid Networks</td>\n",
              "      <td>95.72134</td>\n",
              "      <td>WA</td>\n",
              "      <td>20-May-08</td>\n",
              "      <td>10500000</td>\n",
              "      <td>USD</td>\n",
              "      <td>b</td>\n",
              "    </tr>\n",
              "  </tbody>\n",
              "</table>\n",
              "<p>1460 rows × 8 columns</p>\n",
              "</div>"
            ]
          },
          "metadata": {},
          "execution_count": 81
        }
      ]
    },
    {
      "cell_type": "code",
      "metadata": {
        "colab": {
          "base_uri": "https://localhost:8080/",
          "height": 446
        },
        "id": "dxUbX8qjkAOy",
        "outputId": "68ac7f57-f109-47c5-bcdc-d3e8997fcc2d"
      },
      "source": [
        "data = pd.read_csv('./Dataset/property.csv')\n",
        "data"
      ],
      "execution_count": 82,
      "outputs": [
        {
          "output_type": "execute_result",
          "data": {
            "text/plain": [
              "           ID  ST_NUM     ST_NAME OWN_OCCUPIED NUM_BEDROOMS NUM_BATH SQ_FT\n",
              "0   100001000   104.0      PUTNAM            Y            3        1  1000\n",
              "1   100002000   197.0   LEXINGTON            N            3      1.5    --\n",
              "2   100003000     NaN   LEXINGTON            N          NaN        1   850\n",
              "3   100004000   201.0    BERKELEY           12            1      NaN   700\n",
              "4   100005000   203.0    BERKELEY            Y            3        2  1600\n",
              "5   100006000   207.0    BERKELEY            Y          NaN        1   800\n",
              "6   100007000     NaN  WASHINGTON          NaN            2   HURLEY   950\n",
              "7   100008000   213.0     TREMONT            Y            1        1   NaN\n",
              "8   100009000   215.0     TREMONT            Y           na        2  1800\n",
              "9   100010000   216.0     BERELEY            Y            1        3    10\n",
              "10  100011000    10.0    LEINGTON            N            2        1   800\n",
              "11  100012000   213.0     TREMONT            Y            1        1   NaN"
            ],
            "text/html": [
              "<div>\n",
              "<style scoped>\n",
              "    .dataframe tbody tr th:only-of-type {\n",
              "        vertical-align: middle;\n",
              "    }\n",
              "\n",
              "    .dataframe tbody tr th {\n",
              "        vertical-align: top;\n",
              "    }\n",
              "\n",
              "    .dataframe thead th {\n",
              "        text-align: right;\n",
              "    }\n",
              "</style>\n",
              "<table border=\"1\" class=\"dataframe\">\n",
              "  <thead>\n",
              "    <tr style=\"text-align: right;\">\n",
              "      <th></th>\n",
              "      <th>ID</th>\n",
              "      <th>ST_NUM</th>\n",
              "      <th>ST_NAME</th>\n",
              "      <th>OWN_OCCUPIED</th>\n",
              "      <th>NUM_BEDROOMS</th>\n",
              "      <th>NUM_BATH</th>\n",
              "      <th>SQ_FT</th>\n",
              "    </tr>\n",
              "  </thead>\n",
              "  <tbody>\n",
              "    <tr>\n",
              "      <th>0</th>\n",
              "      <td>100001000</td>\n",
              "      <td>104.0</td>\n",
              "      <td>PUTNAM</td>\n",
              "      <td>Y</td>\n",
              "      <td>3</td>\n",
              "      <td>1</td>\n",
              "      <td>1000</td>\n",
              "    </tr>\n",
              "    <tr>\n",
              "      <th>1</th>\n",
              "      <td>100002000</td>\n",
              "      <td>197.0</td>\n",
              "      <td>LEXINGTON</td>\n",
              "      <td>N</td>\n",
              "      <td>3</td>\n",
              "      <td>1.5</td>\n",
              "      <td>--</td>\n",
              "    </tr>\n",
              "    <tr>\n",
              "      <th>2</th>\n",
              "      <td>100003000</td>\n",
              "      <td>NaN</td>\n",
              "      <td>LEXINGTON</td>\n",
              "      <td>N</td>\n",
              "      <td>NaN</td>\n",
              "      <td>1</td>\n",
              "      <td>850</td>\n",
              "    </tr>\n",
              "    <tr>\n",
              "      <th>3</th>\n",
              "      <td>100004000</td>\n",
              "      <td>201.0</td>\n",
              "      <td>BERKELEY</td>\n",
              "      <td>12</td>\n",
              "      <td>1</td>\n",
              "      <td>NaN</td>\n",
              "      <td>700</td>\n",
              "    </tr>\n",
              "    <tr>\n",
              "      <th>4</th>\n",
              "      <td>100005000</td>\n",
              "      <td>203.0</td>\n",
              "      <td>BERKELEY</td>\n",
              "      <td>Y</td>\n",
              "      <td>3</td>\n",
              "      <td>2</td>\n",
              "      <td>1600</td>\n",
              "    </tr>\n",
              "    <tr>\n",
              "      <th>5</th>\n",
              "      <td>100006000</td>\n",
              "      <td>207.0</td>\n",
              "      <td>BERKELEY</td>\n",
              "      <td>Y</td>\n",
              "      <td>NaN</td>\n",
              "      <td>1</td>\n",
              "      <td>800</td>\n",
              "    </tr>\n",
              "    <tr>\n",
              "      <th>6</th>\n",
              "      <td>100007000</td>\n",
              "      <td>NaN</td>\n",
              "      <td>WASHINGTON</td>\n",
              "      <td>NaN</td>\n",
              "      <td>2</td>\n",
              "      <td>HURLEY</td>\n",
              "      <td>950</td>\n",
              "    </tr>\n",
              "    <tr>\n",
              "      <th>7</th>\n",
              "      <td>100008000</td>\n",
              "      <td>213.0</td>\n",
              "      <td>TREMONT</td>\n",
              "      <td>Y</td>\n",
              "      <td>1</td>\n",
              "      <td>1</td>\n",
              "      <td>NaN</td>\n",
              "    </tr>\n",
              "    <tr>\n",
              "      <th>8</th>\n",
              "      <td>100009000</td>\n",
              "      <td>215.0</td>\n",
              "      <td>TREMONT</td>\n",
              "      <td>Y</td>\n",
              "      <td>na</td>\n",
              "      <td>2</td>\n",
              "      <td>1800</td>\n",
              "    </tr>\n",
              "    <tr>\n",
              "      <th>9</th>\n",
              "      <td>100010000</td>\n",
              "      <td>216.0</td>\n",
              "      <td>BERELEY</td>\n",
              "      <td>Y</td>\n",
              "      <td>1</td>\n",
              "      <td>3</td>\n",
              "      <td>10</td>\n",
              "    </tr>\n",
              "    <tr>\n",
              "      <th>10</th>\n",
              "      <td>100011000</td>\n",
              "      <td>10.0</td>\n",
              "      <td>LEINGTON</td>\n",
              "      <td>N</td>\n",
              "      <td>2</td>\n",
              "      <td>1</td>\n",
              "      <td>800</td>\n",
              "    </tr>\n",
              "    <tr>\n",
              "      <th>11</th>\n",
              "      <td>100012000</td>\n",
              "      <td>213.0</td>\n",
              "      <td>TREMONT</td>\n",
              "      <td>Y</td>\n",
              "      <td>1</td>\n",
              "      <td>1</td>\n",
              "      <td>NaN</td>\n",
              "    </tr>\n",
              "  </tbody>\n",
              "</table>\n",
              "</div>"
            ]
          },
          "metadata": {},
          "execution_count": 82
        }
      ]
    },
    {
      "cell_type": "markdown",
      "metadata": {
        "id": "TLnXhaQykH-k"
      },
      "source": [
        "We can even decide to drop tuples with at least a certain number of NON-null values."
      ]
    },
    {
      "cell_type": "code",
      "metadata": {
        "colab": {
          "base_uri": "https://localhost:8080/",
          "height": 363
        },
        "id": "zcCewiPGkI0-",
        "outputId": "4827f23f-506c-4db1-809b-3a4bf438aa47"
      },
      "source": [
        "data.dropna(thresh=len(data.columns)-1) "
      ],
      "execution_count": 92,
      "outputs": [
        {
          "output_type": "execute_result",
          "data": {
            "text/plain": [
              "           ID  ST_NUM    ST_NAME OWN_OCCUPIED NUM_BEDROOMS NUM_BATH SQ_FT\n",
              "0   100001000   104.0     PUTNAM            Y            3        1  1000\n",
              "1   100002000   197.0  LEXINGTON            N            3      1.5    --\n",
              "3   100004000   201.0   BERKELEY           12            1      NaN   700\n",
              "4   100005000   203.0   BERKELEY            Y            3        2  1600\n",
              "5   100006000   207.0   BERKELEY            Y          NaN        1   800\n",
              "7   100008000   213.0    TREMONT            Y            1        1   NaN\n",
              "8   100009000   215.0    TREMONT            Y           na        2  1800\n",
              "9   100010000   216.0    BERELEY            Y            1        3    10\n",
              "10  100011000    10.0   LEINGTON            N            2        1   800\n",
              "11  100012000   213.0    TREMONT            Y            1        1   NaN"
            ],
            "text/html": [
              "<div>\n",
              "<style scoped>\n",
              "    .dataframe tbody tr th:only-of-type {\n",
              "        vertical-align: middle;\n",
              "    }\n",
              "\n",
              "    .dataframe tbody tr th {\n",
              "        vertical-align: top;\n",
              "    }\n",
              "\n",
              "    .dataframe thead th {\n",
              "        text-align: right;\n",
              "    }\n",
              "</style>\n",
              "<table border=\"1\" class=\"dataframe\">\n",
              "  <thead>\n",
              "    <tr style=\"text-align: right;\">\n",
              "      <th></th>\n",
              "      <th>ID</th>\n",
              "      <th>ST_NUM</th>\n",
              "      <th>ST_NAME</th>\n",
              "      <th>OWN_OCCUPIED</th>\n",
              "      <th>NUM_BEDROOMS</th>\n",
              "      <th>NUM_BATH</th>\n",
              "      <th>SQ_FT</th>\n",
              "    </tr>\n",
              "  </thead>\n",
              "  <tbody>\n",
              "    <tr>\n",
              "      <th>0</th>\n",
              "      <td>100001000</td>\n",
              "      <td>104.0</td>\n",
              "      <td>PUTNAM</td>\n",
              "      <td>Y</td>\n",
              "      <td>3</td>\n",
              "      <td>1</td>\n",
              "      <td>1000</td>\n",
              "    </tr>\n",
              "    <tr>\n",
              "      <th>1</th>\n",
              "      <td>100002000</td>\n",
              "      <td>197.0</td>\n",
              "      <td>LEXINGTON</td>\n",
              "      <td>N</td>\n",
              "      <td>3</td>\n",
              "      <td>1.5</td>\n",
              "      <td>--</td>\n",
              "    </tr>\n",
              "    <tr>\n",
              "      <th>3</th>\n",
              "      <td>100004000</td>\n",
              "      <td>201.0</td>\n",
              "      <td>BERKELEY</td>\n",
              "      <td>12</td>\n",
              "      <td>1</td>\n",
              "      <td>NaN</td>\n",
              "      <td>700</td>\n",
              "    </tr>\n",
              "    <tr>\n",
              "      <th>4</th>\n",
              "      <td>100005000</td>\n",
              "      <td>203.0</td>\n",
              "      <td>BERKELEY</td>\n",
              "      <td>Y</td>\n",
              "      <td>3</td>\n",
              "      <td>2</td>\n",
              "      <td>1600</td>\n",
              "    </tr>\n",
              "    <tr>\n",
              "      <th>5</th>\n",
              "      <td>100006000</td>\n",
              "      <td>207.0</td>\n",
              "      <td>BERKELEY</td>\n",
              "      <td>Y</td>\n",
              "      <td>NaN</td>\n",
              "      <td>1</td>\n",
              "      <td>800</td>\n",
              "    </tr>\n",
              "    <tr>\n",
              "      <th>7</th>\n",
              "      <td>100008000</td>\n",
              "      <td>213.0</td>\n",
              "      <td>TREMONT</td>\n",
              "      <td>Y</td>\n",
              "      <td>1</td>\n",
              "      <td>1</td>\n",
              "      <td>NaN</td>\n",
              "    </tr>\n",
              "    <tr>\n",
              "      <th>8</th>\n",
              "      <td>100009000</td>\n",
              "      <td>215.0</td>\n",
              "      <td>TREMONT</td>\n",
              "      <td>Y</td>\n",
              "      <td>na</td>\n",
              "      <td>2</td>\n",
              "      <td>1800</td>\n",
              "    </tr>\n",
              "    <tr>\n",
              "      <th>9</th>\n",
              "      <td>100010000</td>\n",
              "      <td>216.0</td>\n",
              "      <td>BERELEY</td>\n",
              "      <td>Y</td>\n",
              "      <td>1</td>\n",
              "      <td>3</td>\n",
              "      <td>10</td>\n",
              "    </tr>\n",
              "    <tr>\n",
              "      <th>10</th>\n",
              "      <td>100011000</td>\n",
              "      <td>10.0</td>\n",
              "      <td>LEINGTON</td>\n",
              "      <td>N</td>\n",
              "      <td>2</td>\n",
              "      <td>1</td>\n",
              "      <td>800</td>\n",
              "    </tr>\n",
              "    <tr>\n",
              "      <th>11</th>\n",
              "      <td>100012000</td>\n",
              "      <td>213.0</td>\n",
              "      <td>TREMONT</td>\n",
              "      <td>Y</td>\n",
              "      <td>1</td>\n",
              "      <td>1</td>\n",
              "      <td>NaN</td>\n",
              "    </tr>\n",
              "  </tbody>\n",
              "</table>\n",
              "</div>"
            ]
          },
          "metadata": {},
          "execution_count": 92
        }
      ]
    },
    {
      "cell_type": "markdown",
      "metadata": {
        "id": "8u1CoL2RkJVe"
      },
      "source": [
        "If we want to focus on some columns specifically, we can tell to look only in those columns. It will look for null values in those column and then if it finds one it remove the corresponding tuple."
      ]
    },
    {
      "cell_type": "code",
      "metadata": {
        "colab": {
          "base_uri": "https://localhost:8080/",
          "height": 363
        },
        "id": "cDKbou4hkJ6Q",
        "outputId": "9c7c6ab2-a1b9-4f3b-c45a-5bbdecdee3cf"
      },
      "source": [
        "data.dropna(subset=['ID', 'ST_NUM'])"
      ],
      "execution_count": 93,
      "outputs": [
        {
          "output_type": "execute_result",
          "data": {
            "text/plain": [
              "           ID  ST_NUM    ST_NAME OWN_OCCUPIED NUM_BEDROOMS NUM_BATH SQ_FT\n",
              "0   100001000   104.0     PUTNAM            Y            3        1  1000\n",
              "1   100002000   197.0  LEXINGTON            N            3      1.5    --\n",
              "3   100004000   201.0   BERKELEY           12            1      NaN   700\n",
              "4   100005000   203.0   BERKELEY            Y            3        2  1600\n",
              "5   100006000   207.0   BERKELEY            Y          NaN        1   800\n",
              "7   100008000   213.0    TREMONT            Y            1        1   NaN\n",
              "8   100009000   215.0    TREMONT            Y           na        2  1800\n",
              "9   100010000   216.0    BERELEY            Y            1        3    10\n",
              "10  100011000    10.0   LEINGTON            N            2        1   800\n",
              "11  100012000   213.0    TREMONT            Y            1        1   NaN"
            ],
            "text/html": [
              "<div>\n",
              "<style scoped>\n",
              "    .dataframe tbody tr th:only-of-type {\n",
              "        vertical-align: middle;\n",
              "    }\n",
              "\n",
              "    .dataframe tbody tr th {\n",
              "        vertical-align: top;\n",
              "    }\n",
              "\n",
              "    .dataframe thead th {\n",
              "        text-align: right;\n",
              "    }\n",
              "</style>\n",
              "<table border=\"1\" class=\"dataframe\">\n",
              "  <thead>\n",
              "    <tr style=\"text-align: right;\">\n",
              "      <th></th>\n",
              "      <th>ID</th>\n",
              "      <th>ST_NUM</th>\n",
              "      <th>ST_NAME</th>\n",
              "      <th>OWN_OCCUPIED</th>\n",
              "      <th>NUM_BEDROOMS</th>\n",
              "      <th>NUM_BATH</th>\n",
              "      <th>SQ_FT</th>\n",
              "    </tr>\n",
              "  </thead>\n",
              "  <tbody>\n",
              "    <tr>\n",
              "      <th>0</th>\n",
              "      <td>100001000</td>\n",
              "      <td>104.0</td>\n",
              "      <td>PUTNAM</td>\n",
              "      <td>Y</td>\n",
              "      <td>3</td>\n",
              "      <td>1</td>\n",
              "      <td>1000</td>\n",
              "    </tr>\n",
              "    <tr>\n",
              "      <th>1</th>\n",
              "      <td>100002000</td>\n",
              "      <td>197.0</td>\n",
              "      <td>LEXINGTON</td>\n",
              "      <td>N</td>\n",
              "      <td>3</td>\n",
              "      <td>1.5</td>\n",
              "      <td>--</td>\n",
              "    </tr>\n",
              "    <tr>\n",
              "      <th>3</th>\n",
              "      <td>100004000</td>\n",
              "      <td>201.0</td>\n",
              "      <td>BERKELEY</td>\n",
              "      <td>12</td>\n",
              "      <td>1</td>\n",
              "      <td>NaN</td>\n",
              "      <td>700</td>\n",
              "    </tr>\n",
              "    <tr>\n",
              "      <th>4</th>\n",
              "      <td>100005000</td>\n",
              "      <td>203.0</td>\n",
              "      <td>BERKELEY</td>\n",
              "      <td>Y</td>\n",
              "      <td>3</td>\n",
              "      <td>2</td>\n",
              "      <td>1600</td>\n",
              "    </tr>\n",
              "    <tr>\n",
              "      <th>5</th>\n",
              "      <td>100006000</td>\n",
              "      <td>207.0</td>\n",
              "      <td>BERKELEY</td>\n",
              "      <td>Y</td>\n",
              "      <td>NaN</td>\n",
              "      <td>1</td>\n",
              "      <td>800</td>\n",
              "    </tr>\n",
              "    <tr>\n",
              "      <th>7</th>\n",
              "      <td>100008000</td>\n",
              "      <td>213.0</td>\n",
              "      <td>TREMONT</td>\n",
              "      <td>Y</td>\n",
              "      <td>1</td>\n",
              "      <td>1</td>\n",
              "      <td>NaN</td>\n",
              "    </tr>\n",
              "    <tr>\n",
              "      <th>8</th>\n",
              "      <td>100009000</td>\n",
              "      <td>215.0</td>\n",
              "      <td>TREMONT</td>\n",
              "      <td>Y</td>\n",
              "      <td>na</td>\n",
              "      <td>2</td>\n",
              "      <td>1800</td>\n",
              "    </tr>\n",
              "    <tr>\n",
              "      <th>9</th>\n",
              "      <td>100010000</td>\n",
              "      <td>216.0</td>\n",
              "      <td>BERELEY</td>\n",
              "      <td>Y</td>\n",
              "      <td>1</td>\n",
              "      <td>3</td>\n",
              "      <td>10</td>\n",
              "    </tr>\n",
              "    <tr>\n",
              "      <th>10</th>\n",
              "      <td>100011000</td>\n",
              "      <td>10.0</td>\n",
              "      <td>LEINGTON</td>\n",
              "      <td>N</td>\n",
              "      <td>2</td>\n",
              "      <td>1</td>\n",
              "      <td>800</td>\n",
              "    </tr>\n",
              "    <tr>\n",
              "      <th>11</th>\n",
              "      <td>100012000</td>\n",
              "      <td>213.0</td>\n",
              "      <td>TREMONT</td>\n",
              "      <td>Y</td>\n",
              "      <td>1</td>\n",
              "      <td>1</td>\n",
              "      <td>NaN</td>\n",
              "    </tr>\n",
              "  </tbody>\n",
              "</table>\n",
              "</div>"
            ]
          },
          "metadata": {},
          "execution_count": 93
        }
      ]
    },
    {
      "cell_type": "markdown",
      "metadata": {
        "id": "lLP2csARmq-X"
      },
      "source": [
        "## Time Series"
      ]
    },
    {
      "cell_type": "code",
      "metadata": {
        "colab": {
          "base_uri": "https://localhost:8080/",
          "height": 1000
        },
        "id": "YCgxuYc5mswR",
        "outputId": "81d7a255-6dbb-476e-abf7-72e5cfbe9e76"
      },
      "source": [
        "ts = pd.read_csv('./Dataset/shampoo.csv')\n",
        "ts"
      ],
      "execution_count": 95,
      "outputs": [
        {
          "output_type": "execute_result",
          "data": {
            "text/plain": [
              "   Month  Sales\n",
              "0   1-01  266.0\n",
              "1   1-02  145.9\n",
              "2   1-03  183.1\n",
              "3   1-04    NaN\n",
              "4   1-05  180.3\n",
              "5   1-06  168.5\n",
              "6   1-07  231.8\n",
              "7   1-08  224.5\n",
              "8   1-09  192.8\n",
              "9   1-10    NaN\n",
              "10  1-11  336.5\n",
              "11  1-12  185.9\n",
              "12  2-01  194.3\n",
              "13  2-02  149.5\n",
              "14  2-03    NaN\n",
              "15  2-04  273.3\n",
              "16  2-05  191.4\n",
              "17  2-06  287.0\n",
              "18  2-07  226.0\n",
              "19  2-08  303.6\n",
              "20  2-09  289.9\n",
              "21  2-10  421.6\n",
              "22  2-11    NaN\n",
              "23  2-12    NaN\n",
              "24  3-01  339.7\n",
              "25  3-02  440.4\n",
              "26  3-03  315.9\n",
              "27  3-04  439.3\n",
              "28  3-05  401.3\n",
              "29  3-06  437.4\n",
              "30  3-07  575.5\n",
              "31  3-08    NaN\n",
              "32  3-09  682.0\n",
              "33  3-10  475.3\n",
              "34  3-11  581.3\n",
              "35  3-12  646.9"
            ],
            "text/html": [
              "<div>\n",
              "<style scoped>\n",
              "    .dataframe tbody tr th:only-of-type {\n",
              "        vertical-align: middle;\n",
              "    }\n",
              "\n",
              "    .dataframe tbody tr th {\n",
              "        vertical-align: top;\n",
              "    }\n",
              "\n",
              "    .dataframe thead th {\n",
              "        text-align: right;\n",
              "    }\n",
              "</style>\n",
              "<table border=\"1\" class=\"dataframe\">\n",
              "  <thead>\n",
              "    <tr style=\"text-align: right;\">\n",
              "      <th></th>\n",
              "      <th>Month</th>\n",
              "      <th>Sales</th>\n",
              "    </tr>\n",
              "  </thead>\n",
              "  <tbody>\n",
              "    <tr>\n",
              "      <th>0</th>\n",
              "      <td>1-01</td>\n",
              "      <td>266.0</td>\n",
              "    </tr>\n",
              "    <tr>\n",
              "      <th>1</th>\n",
              "      <td>1-02</td>\n",
              "      <td>145.9</td>\n",
              "    </tr>\n",
              "    <tr>\n",
              "      <th>2</th>\n",
              "      <td>1-03</td>\n",
              "      <td>183.1</td>\n",
              "    </tr>\n",
              "    <tr>\n",
              "      <th>3</th>\n",
              "      <td>1-04</td>\n",
              "      <td>NaN</td>\n",
              "    </tr>\n",
              "    <tr>\n",
              "      <th>4</th>\n",
              "      <td>1-05</td>\n",
              "      <td>180.3</td>\n",
              "    </tr>\n",
              "    <tr>\n",
              "      <th>5</th>\n",
              "      <td>1-06</td>\n",
              "      <td>168.5</td>\n",
              "    </tr>\n",
              "    <tr>\n",
              "      <th>6</th>\n",
              "      <td>1-07</td>\n",
              "      <td>231.8</td>\n",
              "    </tr>\n",
              "    <tr>\n",
              "      <th>7</th>\n",
              "      <td>1-08</td>\n",
              "      <td>224.5</td>\n",
              "    </tr>\n",
              "    <tr>\n",
              "      <th>8</th>\n",
              "      <td>1-09</td>\n",
              "      <td>192.8</td>\n",
              "    </tr>\n",
              "    <tr>\n",
              "      <th>9</th>\n",
              "      <td>1-10</td>\n",
              "      <td>NaN</td>\n",
              "    </tr>\n",
              "    <tr>\n",
              "      <th>10</th>\n",
              "      <td>1-11</td>\n",
              "      <td>336.5</td>\n",
              "    </tr>\n",
              "    <tr>\n",
              "      <th>11</th>\n",
              "      <td>1-12</td>\n",
              "      <td>185.9</td>\n",
              "    </tr>\n",
              "    <tr>\n",
              "      <th>12</th>\n",
              "      <td>2-01</td>\n",
              "      <td>194.3</td>\n",
              "    </tr>\n",
              "    <tr>\n",
              "      <th>13</th>\n",
              "      <td>2-02</td>\n",
              "      <td>149.5</td>\n",
              "    </tr>\n",
              "    <tr>\n",
              "      <th>14</th>\n",
              "      <td>2-03</td>\n",
              "      <td>NaN</td>\n",
              "    </tr>\n",
              "    <tr>\n",
              "      <th>15</th>\n",
              "      <td>2-04</td>\n",
              "      <td>273.3</td>\n",
              "    </tr>\n",
              "    <tr>\n",
              "      <th>16</th>\n",
              "      <td>2-05</td>\n",
              "      <td>191.4</td>\n",
              "    </tr>\n",
              "    <tr>\n",
              "      <th>17</th>\n",
              "      <td>2-06</td>\n",
              "      <td>287.0</td>\n",
              "    </tr>\n",
              "    <tr>\n",
              "      <th>18</th>\n",
              "      <td>2-07</td>\n",
              "      <td>226.0</td>\n",
              "    </tr>\n",
              "    <tr>\n",
              "      <th>19</th>\n",
              "      <td>2-08</td>\n",
              "      <td>303.6</td>\n",
              "    </tr>\n",
              "    <tr>\n",
              "      <th>20</th>\n",
              "      <td>2-09</td>\n",
              "      <td>289.9</td>\n",
              "    </tr>\n",
              "    <tr>\n",
              "      <th>21</th>\n",
              "      <td>2-10</td>\n",
              "      <td>421.6</td>\n",
              "    </tr>\n",
              "    <tr>\n",
              "      <th>22</th>\n",
              "      <td>2-11</td>\n",
              "      <td>NaN</td>\n",
              "    </tr>\n",
              "    <tr>\n",
              "      <th>23</th>\n",
              "      <td>2-12</td>\n",
              "      <td>NaN</td>\n",
              "    </tr>\n",
              "    <tr>\n",
              "      <th>24</th>\n",
              "      <td>3-01</td>\n",
              "      <td>339.7</td>\n",
              "    </tr>\n",
              "    <tr>\n",
              "      <th>25</th>\n",
              "      <td>3-02</td>\n",
              "      <td>440.4</td>\n",
              "    </tr>\n",
              "    <tr>\n",
              "      <th>26</th>\n",
              "      <td>3-03</td>\n",
              "      <td>315.9</td>\n",
              "    </tr>\n",
              "    <tr>\n",
              "      <th>27</th>\n",
              "      <td>3-04</td>\n",
              "      <td>439.3</td>\n",
              "    </tr>\n",
              "    <tr>\n",
              "      <th>28</th>\n",
              "      <td>3-05</td>\n",
              "      <td>401.3</td>\n",
              "    </tr>\n",
              "    <tr>\n",
              "      <th>29</th>\n",
              "      <td>3-06</td>\n",
              "      <td>437.4</td>\n",
              "    </tr>\n",
              "    <tr>\n",
              "      <th>30</th>\n",
              "      <td>3-07</td>\n",
              "      <td>575.5</td>\n",
              "    </tr>\n",
              "    <tr>\n",
              "      <th>31</th>\n",
              "      <td>3-08</td>\n",
              "      <td>NaN</td>\n",
              "    </tr>\n",
              "    <tr>\n",
              "      <th>32</th>\n",
              "      <td>3-09</td>\n",
              "      <td>682.0</td>\n",
              "    </tr>\n",
              "    <tr>\n",
              "      <th>33</th>\n",
              "      <td>3-10</td>\n",
              "      <td>475.3</td>\n",
              "    </tr>\n",
              "    <tr>\n",
              "      <th>34</th>\n",
              "      <td>3-11</td>\n",
              "      <td>581.3</td>\n",
              "    </tr>\n",
              "    <tr>\n",
              "      <th>35</th>\n",
              "      <td>3-12</td>\n",
              "      <td>646.9</td>\n",
              "    </tr>\n",
              "  </tbody>\n",
              "</table>\n",
              "</div>"
            ]
          },
          "metadata": {},
          "execution_count": 95
        }
      ]
    },
    {
      "cell_type": "markdown",
      "metadata": {
        "id": "BcmqDEZrnKWr"
      },
      "source": [
        "Then we count the non-null values:"
      ]
    },
    {
      "cell_type": "code",
      "metadata": {
        "colab": {
          "base_uri": "https://localhost:8080/"
        },
        "id": "4-cwumuem6i2",
        "outputId": "187af872-2f2f-4724-9bd1-bc191decb1a2"
      },
      "source": [
        "ts['Sales'].count()"
      ],
      "execution_count": 97,
      "outputs": [
        {
          "output_type": "execute_result",
          "data": {
            "text/plain": [
              "30"
            ]
          },
          "metadata": {},
          "execution_count": 97
        }
      ]
    },
    {
      "cell_type": "markdown",
      "metadata": {
        "id": "y4SNkxy4nZhY"
      },
      "source": [
        "and the null values:"
      ]
    },
    {
      "cell_type": "code",
      "metadata": {
        "colab": {
          "base_uri": "https://localhost:8080/"
        },
        "id": "n8a_-mBnnTp_",
        "outputId": "2db9b28f-b240-4638-890d-eb4e4093bcba"
      },
      "source": [
        "len(ts['Sales']) - ts['Sales'].count()"
      ],
      "execution_count": 98,
      "outputs": [
        {
          "output_type": "execute_result",
          "data": {
            "text/plain": [
              "6"
            ]
          },
          "metadata": {},
          "execution_count": 98
        }
      ]
    },
    {
      "cell_type": "code",
      "metadata": {
        "colab": {
          "base_uri": "https://localhost:8080/",
          "height": 283
        },
        "id": "0ThSN92gnE_F",
        "outputId": "6b81e513-0720-4002-bff7-e52449637d79"
      },
      "source": [
        "ts.plot()"
      ],
      "execution_count": 96,
      "outputs": [
        {
          "output_type": "execute_result",
          "data": {
            "text/plain": [
              "<AxesSubplot:>"
            ]
          },
          "metadata": {},
          "execution_count": 96
        },
        {
          "output_type": "display_data",
          "data": {
            "text/plain": [
              "<Figure size 432x288 with 1 Axes>"
            ],
            "image/png": "[encoded data removed]"
          },
          "metadata": {
            "needs_background": "light"
          }
        }
      ]
    },
    {
      "cell_type": "markdown",
      "metadata": {
        "id": "7gbIclc5nb_g"
      },
      "source": [
        "We can see that the missing values causes a hole in the graph.\n",
        "\n",
        "To have a link between two points we can use **interpolation**."
      ]
    },
    {
      "cell_type": "code",
      "metadata": {
        "colab": {
          "base_uri": "https://localhost:8080/",
          "height": 283
        },
        "id": "L_eO_64inoeN",
        "outputId": "3830cded-668c-4ef3-8f96-76e4e0c57d95"
      },
      "source": [
        "ts.interpolate(inplace=True) # the default method is linear interpolation\n",
        "ts.plot()"
      ],
      "execution_count": 100,
      "outputs": [
        {
          "output_type": "execute_result",
          "data": {
            "text/plain": [
              "<AxesSubplot:>"
            ]
          },
          "metadata": {},
          "execution_count": 100
        },
        {
          "output_type": "display_data",
          "data": {
            "text/plain": [
              "<Figure size 432x288 with 1 Axes>"
            ],
            "image/png": "[encoded data removed]"
          },
          "metadata": {
            "needs_background": "light"
          }
        }
      ]
    },
    {
      "cell_type": "markdown",
      "metadata": {
        "id": "SEE75XninuD-"
      },
      "source": [
        "The interpolation is useful when you have some holes but not too much, so that with linear interpolation we obtain an acceptable value."
      ]
    },
    {
      "cell_type": "markdown",
      "metadata": {
        "id": "bn1T8u_Apw88"
      },
      "source": [
        "We can build a dataframe in this way to make it understand we have an indexing that are dates:"
      ]
    },
    {
      "cell_type": "code",
      "metadata": {
        "colab": {
          "base_uri": "https://localhost:8080/",
          "height": 238
        },
        "id": "15hcllspoFKy",
        "outputId": "b48e7606-fa8f-4a70-a716-0f454c60b043"
      },
      "source": [
        "index = [pd.Timestamp('2000-12-31'), pd.Timestamp('2001-04-10'), pd.Timestamp('2002-12-31'), pd.Timestamp('2003-07-25'), pd.Timestamp('2004-08-22'), pd.Timestamp('2005-02-15')]\n",
        "values = [0.25, np.NaN, 4, 12.2, np.NaN, 14.4]\n",
        "\n",
        "df = pd.DataFrame(values, index=index)\n",
        "df"
      ],
      "execution_count": 133,
      "outputs": [
        {
          "output_type": "execute_result",
          "data": {
            "text/plain": [
              "                0\n",
              "2000-12-31   0.25\n",
              "2001-04-10    NaN\n",
              "2002-12-31   4.00\n",
              "2003-07-25  12.20\n",
              "2004-08-22    NaN\n",
              "2005-02-15  14.40"
            ],
            "text/html": [
              "<div>\n",
              "<style scoped>\n",
              "    .dataframe tbody tr th:only-of-type {\n",
              "        vertical-align: middle;\n",
              "    }\n",
              "\n",
              "    .dataframe tbody tr th {\n",
              "        vertical-align: top;\n",
              "    }\n",
              "\n",
              "    .dataframe thead th {\n",
              "        text-align: right;\n",
              "    }\n",
              "</style>\n",
              "<table border=\"1\" class=\"dataframe\">\n",
              "  <thead>\n",
              "    <tr style=\"text-align: right;\">\n",
              "      <th></th>\n",
              "      <th>0</th>\n",
              "    </tr>\n",
              "  </thead>\n",
              "  <tbody>\n",
              "    <tr>\n",
              "      <th>2000-12-31</th>\n",
              "      <td>0.25</td>\n",
              "    </tr>\n",
              "    <tr>\n",
              "      <th>2001-04-10</th>\n",
              "      <td>NaN</td>\n",
              "    </tr>\n",
              "    <tr>\n",
              "      <th>2002-12-31</th>\n",
              "      <td>4.00</td>\n",
              "    </tr>\n",
              "    <tr>\n",
              "      <th>2003-07-25</th>\n",
              "      <td>12.20</td>\n",
              "    </tr>\n",
              "    <tr>\n",
              "      <th>2004-08-22</th>\n",
              "      <td>NaN</td>\n",
              "    </tr>\n",
              "    <tr>\n",
              "      <th>2005-02-15</th>\n",
              "      <td>14.40</td>\n",
              "    </tr>\n",
              "  </tbody>\n",
              "</table>\n",
              "</div>"
            ]
          },
          "metadata": {},
          "execution_count": 133
        }
      ]
    },
    {
      "cell_type": "code",
      "metadata": {
        "colab": {
          "base_uri": "https://localhost:8080/",
          "height": 501
        },
        "id": "aySmzOpLpJuq",
        "outputId": "653f60b0-16ae-40a1-c63a-fbc194486034"
      },
      "source": [
        "df.interpolate(method='linear')\n",
        "df.interpolate(method='linear').plot()"
      ],
      "execution_count": 136,
      "outputs": [
        {
          "output_type": "execute_result",
          "data": {
            "text/plain": [
              "                 0\n",
              "2000-12-31   0.250\n",
              "2001-04-10   2.125\n",
              "2002-12-31   4.000\n",
              "2003-07-25  12.200\n",
              "2004-08-22  13.300\n",
              "2005-02-15  14.400"
            ],
            "text/html": [
              "<div>\n",
              "<style scoped>\n",
              "    .dataframe tbody tr th:only-of-type {\n",
              "        vertical-align: middle;\n",
              "    }\n",
              "\n",
              "    .dataframe tbody tr th {\n",
              "        vertical-align: top;\n",
              "    }\n",
              "\n",
              "    .dataframe thead th {\n",
              "        text-align: right;\n",
              "    }\n",
              "</style>\n",
              "<table border=\"1\" class=\"dataframe\">\n",
              "  <thead>\n",
              "    <tr style=\"text-align: right;\">\n",
              "      <th></th>\n",
              "      <th>0</th>\n",
              "    </tr>\n",
              "  </thead>\n",
              "  <tbody>\n",
              "    <tr>\n",
              "      <th>2000-12-31</th>\n",
              "      <td>0.250</td>\n",
              "    </tr>\n",
              "    <tr>\n",
              "      <th>2001-04-10</th>\n",
              "      <td>2.125</td>\n",
              "    </tr>\n",
              "    <tr>\n",
              "      <th>2002-12-31</th>\n",
              "      <td>4.000</td>\n",
              "    </tr>\n",
              "    <tr>\n",
              "      <th>2003-07-25</th>\n",
              "      <td>12.200</td>\n",
              "    </tr>\n",
              "    <tr>\n",
              "      <th>2004-08-22</th>\n",
              "      <td>13.300</td>\n",
              "    </tr>\n",
              "    <tr>\n",
              "      <th>2005-02-15</th>\n",
              "      <td>14.400</td>\n",
              "    </tr>\n",
              "  </tbody>\n",
              "</table>\n",
              "</div>"
            ]
          },
          "metadata": {},
          "execution_count": 136
        },
        {
          "output_type": "execute_result",
          "data": {
            "text/plain": [
              "<AxesSubplot:>"
            ]
          },
          "metadata": {},
          "execution_count": 136
        },
        {
          "output_type": "display_data",
          "data": {
            "text/plain": [
              "<Figure size 432x288 with 1 Axes>"
            ],
            "image/png": "[encoded data removed]"
          },
          "metadata": {
            "needs_background": "light"
          }
        }
      ]
    },
    {
      "cell_type": "markdown",
      "metadata": {
        "id": "Gz_ZGEdxrChB"
      },
      "source": [
        "With method linear the system consider only the values and do the interpolation without thinking about the time but if you have times as indexes you can ask the system to consider time, i.e. the fact that some data points are closer/further to the other "
      ]
    },
    {
      "cell_type": "code",
      "metadata": {
        "colab": {
          "base_uri": "https://localhost:8080/",
          "height": 501
        },
        "id": "0NrGHB4lrhLD",
        "outputId": "f66e40a2-fc53-4833-b8f8-ea0a8aea0381"
      },
      "source": [
        "df.interpolate(method='time')\n",
        "df.interpolate(method='time').plot()"
      ],
      "execution_count": 137,
      "outputs": [
        {
          "output_type": "execute_result",
          "data": {
            "text/plain": [
              "                    0\n",
              "2000-12-31   0.250000\n",
              "2001-04-10   0.763699\n",
              "2002-12-31   4.000000\n",
              "2003-07-25  12.200000\n",
              "2004-08-22  13.718039\n",
              "2005-02-15  14.400000"
            ],
            "text/html": [
              "<div>\n",
              "<style scoped>\n",
              "    .dataframe tbody tr th:only-of-type {\n",
              "        vertical-align: middle;\n",
              "    }\n",
              "\n",
              "    .dataframe tbody tr th {\n",
              "        vertical-align: top;\n",
              "    }\n",
              "\n",
              "    .dataframe thead th {\n",
              "        text-align: right;\n",
              "    }\n",
              "</style>\n",
              "<table border=\"1\" class=\"dataframe\">\n",
              "  <thead>\n",
              "    <tr style=\"text-align: right;\">\n",
              "      <th></th>\n",
              "      <th>0</th>\n",
              "    </tr>\n",
              "  </thead>\n",
              "  <tbody>\n",
              "    <tr>\n",
              "      <th>2000-12-31</th>\n",
              "      <td>0.250000</td>\n",
              "    </tr>\n",
              "    <tr>\n",
              "      <th>2001-04-10</th>\n",
              "      <td>0.763699</td>\n",
              "    </tr>\n",
              "    <tr>\n",
              "      <th>2002-12-31</th>\n",
              "      <td>4.000000</td>\n",
              "    </tr>\n",
              "    <tr>\n",
              "      <th>2003-07-25</th>\n",
              "      <td>12.200000</td>\n",
              "    </tr>\n",
              "    <tr>\n",
              "      <th>2004-08-22</th>\n",
              "      <td>13.718039</td>\n",
              "    </tr>\n",
              "    <tr>\n",
              "      <th>2005-02-15</th>\n",
              "      <td>14.400000</td>\n",
              "    </tr>\n",
              "  </tbody>\n",
              "</table>\n",
              "</div>"
            ]
          },
          "metadata": {},
          "execution_count": 137
        },
        {
          "output_type": "execute_result",
          "data": {
            "text/plain": [
              "<AxesSubplot:>"
            ]
          },
          "metadata": {},
          "execution_count": 137
        },
        {
          "output_type": "display_data",
          "data": {
            "text/plain": [
              "<Figure size 432x288 with 1 Axes>"
            ],
            "image/png": "[encoded data removed]"
          },
          "metadata": {
            "needs_background": "light"
          }
        }
      ]
    },
    {
      "cell_type": "markdown",
      "metadata": {
        "id": "jokz1MClsUCz"
      },
      "source": [
        "## Outlier Detection"
      ]
    },
    {
      "cell_type": "markdown",
      "metadata": {
        "id": "ogi4fLVYscRP"
      },
      "source": [
        "Most of the method we saw assume that the data is distributed according a normal distribution."
      ]
    },
    {
      "cell_type": "code",
      "metadata": {
        "colab": {
          "base_uri": "https://localhost:8080/"
        },
        "id": "Vg4uLleEsnNW",
        "outputId": "a07f3cf7-3bb4-4484-94f9-fcc7c622c63a"
      },
      "source": [
        "SEED = 42\n",
        "np.random.seed(SEED)\n",
        "\n",
        "data = 5 * np.random.randn(10000) + 50\n",
        "print('Mean: ', np.mean(data))\n",
        "print('Std:  ', np.std(data))"
      ],
      "execution_count": 145,
      "outputs": [
        {
          "output_type": "stream",
          "name": "stdout",
          "text": [
            "Mean:  49.98932008315787\n",
            "Std:   5.017061030649938\n"
          ]
        }
      ]
    },
    {
      "cell_type": "markdown",
      "metadata": {
        "id": "Yvqzv342tRNt"
      },
      "source": [
        "The mean and std are more or less the one we specified with the expression (std * rnd + mean)."
      ]
    },
    {
      "cell_type": "markdown",
      "metadata": {
        "id": "JQa58L6Ztd-i"
      },
      "source": [
        "Usually the approach of data scientists with normal distribution is to consider the outlier the every point with a distance greater than 3 times the standard deviation of the data."
      ]
    },
    {
      "cell_type": "code",
      "metadata": {
        "id": "_VK_Kr99t2gW"
      },
      "source": [
        "mean = np.mean(data)\n",
        "std = np.std(data)"
      ],
      "execution_count": 149,
      "outputs": []
    },
    {
      "cell_type": "code",
      "metadata": {
        "id": "jzK1QBMnt8e4"
      },
      "source": [
        "cut_off = std * 3\n",
        "lower_th, upper_th = cut_off, mean + cut_off"
      ],
      "execution_count": 150,
      "outputs": []
    },
    {
      "cell_type": "markdown",
      "metadata": {
        "id": "bLz3dAcDuOKx"
      },
      "source": [
        "All the values inside this interval are accepted and all the other are considered outliers."
      ]
    },
    {
      "cell_type": "code",
      "metadata": {
        "colab": {
          "base_uri": "https://localhost:8080/"
        },
        "id": "CKoFBDhquNFX",
        "outputId": "b5aab5f3-877f-4662-a687-26dc9e1c454d"
      },
      "source": [
        "outliers = [x for x in data if x < lower_th or x > upper_th]\n",
        "len(outliers)"
      ],
      "execution_count": 157,
      "outputs": [
        {
          "output_type": "execute_result",
          "data": {
            "text/plain": [
              "15"
            ]
          },
          "metadata": {},
          "execution_count": 157
        }
      ]
    },
    {
      "cell_type": "markdown",
      "metadata": {
        "id": "6dFHqlWKuhod"
      },
      "source": [
        "If we want to remove the outliers we can do as follows"
      ]
    },
    {
      "cell_type": "code",
      "metadata": {
        "colab": {
          "base_uri": "https://localhost:8080/"
        },
        "id": "GlYbueWXuqi9",
        "outputId": "0d092328-ec32-4f6b-88db-9ceffdf4670b"
      },
      "source": [
        "data_no_out = [x for x in data if x > lower_th and x < upper_th]\n",
        "len(data_no_out) + len(outliers) - len(data)"
      ],
      "execution_count": 159,
      "outputs": [
        {
          "output_type": "execute_result",
          "data": {
            "text/plain": [
              "0"
            ]
          },
          "metadata": {},
          "execution_count": 159
        }
      ]
    },
    {
      "cell_type": "markdown",
      "metadata": {
        "id": "TfFQHUeGvNkW"
      },
      "source": [
        "### Local Outlier Factor"
      ]
    },
    {
      "cell_type": "code",
      "metadata": {
        "id": "kRJuyby3vL9j"
      },
      "source": [
        "from sklearn.neighbors import LocalOutlierFactor"
      ],
      "execution_count": 162,
      "outputs": []
    },
    {
      "cell_type": "code",
      "metadata": {
        "colab": {
          "base_uri": "https://localhost:8080/"
        },
        "id": "_rRfM23vvXGD",
        "outputId": "7016f1eb-bfc9-4bf1-ab31-451d83c81583"
      },
      "source": [
        "X = [[-1.1], [0.2], [101.1], [0.3], [5.5], [10], [1000]]\n",
        "\n",
        "out = LocalOutlierFactor(n_neighbors=2)\n",
        "out.fit_predict(X)"
      ],
      "execution_count": 163,
      "outputs": [
        {
          "output_type": "execute_result",
          "data": {
            "text/plain": [
              "array([ 1,  1, -1,  1, -1, -1, -1])"
            ]
          },
          "metadata": {},
          "execution_count": 163
        }
      ]
    },
    {
      "cell_type": "markdown",
      "metadata": {
        "id": "xEHdj5z3v6Hg"
      },
      "source": [
        "Where the -1 are the outliers and the 1 are the normal values.\n",
        "\n",
        "Changing the number of neighbors we see how the outlier definition strictly depends on that value. Indeed you are specifing the number of neighboring point to consider for the distance computation."
      ]
    },
    {
      "cell_type": "code",
      "metadata": {
        "colab": {
          "base_uri": "https://localhost:8080/"
        },
        "id": "VeGaOOEWx4hO",
        "outputId": "76907878-02c0-4cc8-f996-45c3007f6681"
      },
      "source": [
        "out = LocalOutlierFactor(n_neighbors=1)\n",
        "out.fit_predict(X)"
      ],
      "execution_count": 188,
      "outputs": [
        {
          "output_type": "execute_result",
          "data": {
            "text/plain": [
              "array([-1,  1, -1,  1,  1,  1, -1])"
            ]
          },
          "metadata": {},
          "execution_count": 188
        }
      ]
    },
    {
      "cell_type": "code",
      "metadata": {
        "colab": {
          "base_uri": "https://localhost:8080/"
        },
        "id": "UtkoStVpx2DQ",
        "outputId": "6a136c2b-f30a-474a-d073-fb4726df2f19"
      },
      "source": [
        "out = LocalOutlierFactor(n_neighbors=3)\n",
        "out.fit_predict(X)"
      ],
      "execution_count": 187,
      "outputs": [
        {
          "output_type": "execute_result",
          "data": {
            "text/plain": [
              "array([ 1,  1, -1,  1,  1,  1, -1])"
            ]
          },
          "metadata": {},
          "execution_count": 187
        }
      ]
    }
  ]
}