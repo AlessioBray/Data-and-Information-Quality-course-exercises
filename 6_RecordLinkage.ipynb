{
  "nbformat": 4,
  "nbformat_minor": 0,
  "metadata": {
    "colab": {
      "name": "6_RecordLinkage.ipynb",
      "provenance": [],
      "collapsed_sections": []
    },
    "kernelspec": {
      "name": "python3",
      "display_name": "Python 3"
    },
    "language_info": {
      "name": "python"
    }
  },
  "cells": [
    {
      "cell_type": "markdown",
      "metadata": {
        "id": "ZkzJuVDRspnw"
      },
      "source": [
        "# Sixth Exercise Session"
      ]
    },
    {
      "cell_type": "code",
      "metadata": {
        "id": "lfEIb5uOqWHF"
      },
      "source": [
        "from IPython.core.interactiveshell import InteractiveShell\n",
        "InteractiveShell.ast_node_interactivity = 'all'"
      ],
      "execution_count": 1,
      "outputs": []
    },
    {
      "cell_type": "code",
      "metadata": {
        "colab": {
          "base_uri": "https://localhost:8080/"
        },
        "id": "IU08l_44tQev",
        "outputId": "342e56a4-2166-4a46-db74-a5fe94bb2a56"
      },
      "source": [
        "import pandas as pd\n",
        "import numpy as np\n",
        "!pip install recordlinkage\n",
        "import recordlinkage\n",
        "from recordlinkage.datasets import load_febrl1, load_febrl2"
      ],
      "execution_count": 16,
      "outputs": [
        {
          "output_type": "stream",
          "name": "stdout",
          "text": [
            "Requirement already satisfied: recordlinkage in /home/alessio/anaconda3/envs/DataQuality/lib/python3.8/site-packages (0.14)\r\n",
            "Requirement already satisfied: joblib in /home/alessio/anaconda3/envs/DataQuality/lib/python3.8/site-packages (from recordlinkage) (1.0.1)\r\n",
            "Requirement already satisfied: scipy>=1 in /home/alessio/anaconda3/envs/DataQuality/lib/python3.8/site-packages (from recordlinkage) (1.6.2)\r\n",
            "Requirement already satisfied: pandas>=0.23 in /home/alessio/anaconda3/envs/DataQuality/lib/python3.8/site-packages (from recordlinkage) (1.2.4)\r\n",
            "Requirement already satisfied: numpy>=1.13.0 in /home/alessio/anaconda3/envs/DataQuality/lib/python3.8/site-packages (from recordlinkage) (1.20.1)\r\n",
            "Requirement already satisfied: scikit-learn>=0.19.0 in /home/alessio/anaconda3/envs/DataQuality/lib/python3.8/site-packages (from recordlinkage) (0.24.1)\r\n",
            "Requirement already satisfied: jellyfish>=0.5.4 in /home/alessio/anaconda3/envs/DataQuality/lib/python3.8/site-packages (from recordlinkage) (0.8.9)\r\n",
            "Requirement already satisfied: python-dateutil>=2.7.3 in /home/alessio/anaconda3/envs/DataQuality/lib/python3.8/site-packages (from pandas>=0.23->recordlinkage) (2.8.1)\r\n",
            "Requirement already satisfied: pytz>=2017.3 in /home/alessio/anaconda3/envs/DataQuality/lib/python3.8/site-packages (from pandas>=0.23->recordlinkage) (2021.1)\r\n",
            "Requirement already satisfied: six>=1.5 in /home/alessio/anaconda3/envs/DataQuality/lib/python3.8/site-packages (from python-dateutil>=2.7.3->pandas>=0.23->recordlinkage) (1.15.0)\n",
            "Requirement already satisfied: threadpoolctl>=2.0.0 in /home/alessio/anaconda3/envs/DataQuality/lib/python3.8/site-packages (from scikit-learn>=0.19.0->recordlinkage) (2.1.0)\n"
          ]
        }
      ]
    },
    {
      "cell_type": "markdown",
      "metadata": {
        "id": "zH9TYE1k0U4L"
      },
      "source": [
        "## Data Integration as Data Union"
      ]
    },
    {
      "cell_type": "markdown",
      "metadata": {
        "id": "zryfVq8tFybF"
      },
      "source": [
        "In the following example we are going to integrate two datasets that have the same schema, i.e. we are performing data union task."
      ]
    },
    {
      "cell_type": "code",
      "metadata": {
        "colab": {
          "base_uri": "https://localhost:8080/",
          "height": 623
        },
        "id": "9q3828qYy8Ze",
        "outputId": "979e7b85-dd0b-4e7d-d4bb-7a04c4e6c7ae"
      },
      "source": [
        "data1 = load_febrl1()\n",
        "data1.head(10)"
      ],
      "execution_count": 9,
      "outputs": [
        {
          "output_type": "execute_result",
          "data": {
            "text/plain": [
              "              given_name     surname street_number          address_1  \\\n",
              "rec_id                                                                  \n",
              "rec-223-org          NaN      waller             6   tullaroop street   \n",
              "rec-122-org      lachlan       berry            69      giblin street   \n",
              "rec-373-org       deakin  sondergeld            48  goldfinch circuit   \n",
              "rec-10-dup-0       kayla  harrington           NaN     maltby circuit   \n",
              "rec-227-org         luke      purdon            23       ramsay place   \n",
              "rec-6-dup-0          NaN   trevorrow            16       dumas street   \n",
              "rec-190-dup-0     darcie      turtur            10     blacket street   \n",
              "rec-294-org      william      bishop            21      neworra place   \n",
              "rec-206-dup-0        NaN    lombardi            36      yerralee road   \n",
              "rec-344-org          NaN      julius            52       florey drive   \n",
              "\n",
              "                             address_2         suburb postcode state  \\\n",
              "rec_id                                                                 \n",
              "rec-223-org                   willaroo       st james     4011    wa   \n",
              "rec-122-org                  killarney        bittern     4814   qld   \n",
              "rec-373-org                    kooltuo     canterbury     2776   vic   \n",
              "rec-10-dup-0                   coaling       coolaroo     3465   nsw   \n",
              "rec-227-org                     mirani        garbutt     2260   vic   \n",
              "rec-6-dup-0    2/98-latchford barracks  mount immaney     2281    wa   \n",
              "rec-190-dup-0                   eureka  beverly hills     2263   nsw   \n",
              "rec-294-org                   apmnt 65      worongary     6225   qld   \n",
              "rec-206-dup-0      leisure living vlge      carlsruhe     3149   qld   \n",
              "rec-344-org       north stirling downs       coolaroo     2259   qld   \n",
              "\n",
              "              date_of_birth soc_sec_id  \n",
              "rec_id                                  \n",
              "rec-223-org        19081209    6988048  \n",
              "rec-122-org        19990219    7364009  \n",
              "rec-373-org        19600210    2635962  \n",
              "rec-10-dup-0       19150612    9004242  \n",
              "rec-227-org        19831024    8099933  \n",
              "rec-6-dup-0        19530313    4811642  \n",
              "rec-190-dup-0           NaN    2025650  \n",
              "rec-294-org        19490130    9773843  \n",
              "rec-206-dup-0      19870919    1613132  \n",
              "rec-344-org        19630521    1797144  "
            ],
            "text/html": [
              "<div>\n",
              "<style scoped>\n",
              "    .dataframe tbody tr th:only-of-type {\n",
              "        vertical-align: middle;\n",
              "    }\n",
              "\n",
              "    .dataframe tbody tr th {\n",
              "        vertical-align: top;\n",
              "    }\n",
              "\n",
              "    .dataframe thead th {\n",
              "        text-align: right;\n",
              "    }\n",
              "</style>\n",
              "<table border=\"1\" class=\"dataframe\">\n",
              "  <thead>\n",
              "    <tr style=\"text-align: right;\">\n",
              "      <th></th>\n",
              "      <th>given_name</th>\n",
              "      <th>surname</th>\n",
              "      <th>street_number</th>\n",
              "      <th>address_1</th>\n",
              "      <th>address_2</th>\n",
              "      <th>suburb</th>\n",
              "      <th>postcode</th>\n",
              "      <th>state</th>\n",
              "      <th>date_of_birth</th>\n",
              "      <th>soc_sec_id</th>\n",
              "    </tr>\n",
              "    <tr>\n",
              "      <th>rec_id</th>\n",
              "      <th></th>\n",
              "      <th></th>\n",
              "      <th></th>\n",
              "      <th></th>\n",
              "      <th></th>\n",
              "      <th></th>\n",
              "      <th></th>\n",
              "      <th></th>\n",
              "      <th></th>\n",
              "      <th></th>\n",
              "    </tr>\n",
              "  </thead>\n",
              "  <tbody>\n",
              "    <tr>\n",
              "      <th>rec-223-org</th>\n",
              "      <td>NaN</td>\n",
              "      <td>waller</td>\n",
              "      <td>6</td>\n",
              "      <td>tullaroop street</td>\n",
              "      <td>willaroo</td>\n",
              "      <td>st james</td>\n",
              "      <td>4011</td>\n",
              "      <td>wa</td>\n",
              "      <td>19081209</td>\n",
              "      <td>6988048</td>\n",
              "    </tr>\n",
              "    <tr>\n",
              "      <th>rec-122-org</th>\n",
              "      <td>lachlan</td>\n",
              "      <td>berry</td>\n",
              "      <td>69</td>\n",
              "      <td>giblin street</td>\n",
              "      <td>killarney</td>\n",
              "      <td>bittern</td>\n",
              "      <td>4814</td>\n",
              "      <td>qld</td>\n",
              "      <td>19990219</td>\n",
              "      <td>7364009</td>\n",
              "    </tr>\n",
              "    <tr>\n",
              "      <th>rec-373-org</th>\n",
              "      <td>deakin</td>\n",
              "      <td>sondergeld</td>\n",
              "      <td>48</td>\n",
              "      <td>goldfinch circuit</td>\n",
              "      <td>kooltuo</td>\n",
              "      <td>canterbury</td>\n",
              "      <td>2776</td>\n",
              "      <td>vic</td>\n",
              "      <td>19600210</td>\n",
              "      <td>2635962</td>\n",
              "    </tr>\n",
              "    <tr>\n",
              "      <th>rec-10-dup-0</th>\n",
              "      <td>kayla</td>\n",
              "      <td>harrington</td>\n",
              "      <td>NaN</td>\n",
              "      <td>maltby circuit</td>\n",
              "      <td>coaling</td>\n",
              "      <td>coolaroo</td>\n",
              "      <td>3465</td>\n",
              "      <td>nsw</td>\n",
              "      <td>19150612</td>\n",
              "      <td>9004242</td>\n",
              "    </tr>\n",
              "    <tr>\n",
              "      <th>rec-227-org</th>\n",
              "      <td>luke</td>\n",
              "      <td>purdon</td>\n",
              "      <td>23</td>\n",
              "      <td>ramsay place</td>\n",
              "      <td>mirani</td>\n",
              "      <td>garbutt</td>\n",
              "      <td>2260</td>\n",
              "      <td>vic</td>\n",
              "      <td>19831024</td>\n",
              "      <td>8099933</td>\n",
              "    </tr>\n",
              "    <tr>\n",
              "      <th>rec-6-dup-0</th>\n",
              "      <td>NaN</td>\n",
              "      <td>trevorrow</td>\n",
              "      <td>16</td>\n",
              "      <td>dumas street</td>\n",
              "      <td>2/98-latchford barracks</td>\n",
              "      <td>mount immaney</td>\n",
              "      <td>2281</td>\n",
              "      <td>wa</td>\n",
              "      <td>19530313</td>\n",
              "      <td>4811642</td>\n",
              "    </tr>\n",
              "    <tr>\n",
              "      <th>rec-190-dup-0</th>\n",
              "      <td>darcie</td>\n",
              "      <td>turtur</td>\n",
              "      <td>10</td>\n",
              "      <td>blacket street</td>\n",
              "      <td>eureka</td>\n",
              "      <td>beverly hills</td>\n",
              "      <td>2263</td>\n",
              "      <td>nsw</td>\n",
              "      <td>NaN</td>\n",
              "      <td>2025650</td>\n",
              "    </tr>\n",
              "    <tr>\n",
              "      <th>rec-294-org</th>\n",
              "      <td>william</td>\n",
              "      <td>bishop</td>\n",
              "      <td>21</td>\n",
              "      <td>neworra place</td>\n",
              "      <td>apmnt 65</td>\n",
              "      <td>worongary</td>\n",
              "      <td>6225</td>\n",
              "      <td>qld</td>\n",
              "      <td>19490130</td>\n",
              "      <td>9773843</td>\n",
              "    </tr>\n",
              "    <tr>\n",
              "      <th>rec-206-dup-0</th>\n",
              "      <td>NaN</td>\n",
              "      <td>lombardi</td>\n",
              "      <td>36</td>\n",
              "      <td>yerralee road</td>\n",
              "      <td>leisure living vlge</td>\n",
              "      <td>carlsruhe</td>\n",
              "      <td>3149</td>\n",
              "      <td>qld</td>\n",
              "      <td>19870919</td>\n",
              "      <td>1613132</td>\n",
              "    </tr>\n",
              "    <tr>\n",
              "      <th>rec-344-org</th>\n",
              "      <td>NaN</td>\n",
              "      <td>julius</td>\n",
              "      <td>52</td>\n",
              "      <td>florey drive</td>\n",
              "      <td>north stirling downs</td>\n",
              "      <td>coolaroo</td>\n",
              "      <td>2259</td>\n",
              "      <td>qld</td>\n",
              "      <td>19630521</td>\n",
              "      <td>1797144</td>\n",
              "    </tr>\n",
              "  </tbody>\n",
              "</table>\n",
              "</div>"
            ]
          },
          "metadata": {},
          "execution_count": 9
        }
      ]
    },
    {
      "cell_type": "code",
      "metadata": {
        "colab": {
          "base_uri": "https://localhost:8080/",
          "height": 588
        },
        "id": "yj2eZ1IUyeaJ",
        "outputId": "ba603a68-693a-4a6f-9749-f9af641ab2fd"
      },
      "source": [
        "data2 = load_febrl2()\n",
        "data2.head(10)"
      ],
      "execution_count": 10,
      "outputs": [
        {
          "output_type": "execute_result",
          "data": {
            "text/plain": [
              "              given_name    surname street_number         address_1  \\\n",
              "rec_id                                                                \n",
              "rec-2778-org       sarah      bruhn            44     forbes street   \n",
              "rec-712-dup-0      jacob     lanyon             5        milne cove   \n",
              "rec-1321-org     brinley  efthimiou            35  sturdee crescent   \n",
              "rec-3004-org     aleisha     hobson            54     oliver street   \n",
              "rec-1384-org       ethan    gazzola            49    sheaffe street   \n",
              "rec-3981-org      alicia       hope           100   mansfield place   \n",
              "rec-916-org     benjamin   kolosche            78     keenan street   \n",
              "rec-1684-org    petreece     lusted            78      baseby place   \n",
              "rec-63-dup-0      olivia      white            55      duffy street   \n",
              "rec-3808-org         NaN    maynard            32     yerralee road   \n",
              "\n",
              "                      address_2              suburb postcode state  \\\n",
              "rec_id                                                               \n",
              "rec-2778-org         wintersloe        kellerberrin     4510   vic   \n",
              "rec-712-dup-0           wellwod  beaconsfield upper     2602   vic   \n",
              "rec-1321-org          tremearne         scarborough     5211   qld   \n",
              "rec-3004-org          inglewood           toowoomba     3175   qld   \n",
              "rec-1384-org         bimby vale          port pirie     3088    sa   \n",
              "rec-3981-org             sunset              byford     6061    sa   \n",
              "rec-916-org             wingara     raymond terrace     3212    sa   \n",
              "rec-1684-org                NaN       east branxton     6214    sa   \n",
              "rec-63-dup-0   shopping village          mirrabooka     2260   vic   \n",
              "rec-3808-org                NaN      altona meadows     4019   nsw   \n",
              "\n",
              "              date_of_birth soc_sec_id  \n",
              "rec_id                                  \n",
              "rec-2778-org       19300213    7535316  \n",
              "rec-712-dup-0      19080712    9497788  \n",
              "rec-1321-org       19940319    6814956  \n",
              "rec-3004-org       19290427    5967384  \n",
              "rec-1384-org       19631225    3832742  \n",
              "rec-3981-org       19421201    7934773  \n",
              "rec-916-org        19450918    5698873  \n",
              "rec-1684-org       19950620    8084076  \n",
              "rec-63-dup-0       19000106    4996142  \n",
              "rec-3808-org       19150402    5146525  "
            ],
            "text/html": [
              "<div>\n",
              "<style scoped>\n",
              "    .dataframe tbody tr th:only-of-type {\n",
              "        vertical-align: middle;\n",
              "    }\n",
              "\n",
              "    .dataframe tbody tr th {\n",
              "        vertical-align: top;\n",
              "    }\n",
              "\n",
              "    .dataframe thead th {\n",
              "        text-align: right;\n",
              "    }\n",
              "</style>\n",
              "<table border=\"1\" class=\"dataframe\">\n",
              "  <thead>\n",
              "    <tr style=\"text-align: right;\">\n",
              "      <th></th>\n",
              "      <th>given_name</th>\n",
              "      <th>surname</th>\n",
              "      <th>street_number</th>\n",
              "      <th>address_1</th>\n",
              "      <th>address_2</th>\n",
              "      <th>suburb</th>\n",
              "      <th>postcode</th>\n",
              "      <th>state</th>\n",
              "      <th>date_of_birth</th>\n",
              "      <th>soc_sec_id</th>\n",
              "    </tr>\n",
              "    <tr>\n",
              "      <th>rec_id</th>\n",
              "      <th></th>\n",
              "      <th></th>\n",
              "      <th></th>\n",
              "      <th></th>\n",
              "      <th></th>\n",
              "      <th></th>\n",
              "      <th></th>\n",
              "      <th></th>\n",
              "      <th></th>\n",
              "      <th></th>\n",
              "    </tr>\n",
              "  </thead>\n",
              "  <tbody>\n",
              "    <tr>\n",
              "      <th>rec-2778-org</th>\n",
              "      <td>sarah</td>\n",
              "      <td>bruhn</td>\n",
              "      <td>44</td>\n",
              "      <td>forbes street</td>\n",
              "      <td>wintersloe</td>\n",
              "      <td>kellerberrin</td>\n",
              "      <td>4510</td>\n",
              "      <td>vic</td>\n",
              "      <td>19300213</td>\n",
              "      <td>7535316</td>\n",
              "    </tr>\n",
              "    <tr>\n",
              "      <th>rec-712-dup-0</th>\n",
              "      <td>jacob</td>\n",
              "      <td>lanyon</td>\n",
              "      <td>5</td>\n",
              "      <td>milne cove</td>\n",
              "      <td>wellwod</td>\n",
              "      <td>beaconsfield upper</td>\n",
              "      <td>2602</td>\n",
              "      <td>vic</td>\n",
              "      <td>19080712</td>\n",
              "      <td>9497788</td>\n",
              "    </tr>\n",
              "    <tr>\n",
              "      <th>rec-1321-org</th>\n",
              "      <td>brinley</td>\n",
              "      <td>efthimiou</td>\n",
              "      <td>35</td>\n",
              "      <td>sturdee crescent</td>\n",
              "      <td>tremearne</td>\n",
              "      <td>scarborough</td>\n",
              "      <td>5211</td>\n",
              "      <td>qld</td>\n",
              "      <td>19940319</td>\n",
              "      <td>6814956</td>\n",
              "    </tr>\n",
              "    <tr>\n",
              "      <th>rec-3004-org</th>\n",
              "      <td>aleisha</td>\n",
              "      <td>hobson</td>\n",
              "      <td>54</td>\n",
              "      <td>oliver street</td>\n",
              "      <td>inglewood</td>\n",
              "      <td>toowoomba</td>\n",
              "      <td>3175</td>\n",
              "      <td>qld</td>\n",
              "      <td>19290427</td>\n",
              "      <td>5967384</td>\n",
              "    </tr>\n",
              "    <tr>\n",
              "      <th>rec-1384-org</th>\n",
              "      <td>ethan</td>\n",
              "      <td>gazzola</td>\n",
              "      <td>49</td>\n",
              "      <td>sheaffe street</td>\n",
              "      <td>bimby vale</td>\n",
              "      <td>port pirie</td>\n",
              "      <td>3088</td>\n",
              "      <td>sa</td>\n",
              "      <td>19631225</td>\n",
              "      <td>3832742</td>\n",
              "    </tr>\n",
              "    <tr>\n",
              "      <th>rec-3981-org</th>\n",
              "      <td>alicia</td>\n",
              "      <td>hope</td>\n",
              "      <td>100</td>\n",
              "      <td>mansfield place</td>\n",
              "      <td>sunset</td>\n",
              "      <td>byford</td>\n",
              "      <td>6061</td>\n",
              "      <td>sa</td>\n",
              "      <td>19421201</td>\n",
              "      <td>7934773</td>\n",
              "    </tr>\n",
              "    <tr>\n",
              "      <th>rec-916-org</th>\n",
              "      <td>benjamin</td>\n",
              "      <td>kolosche</td>\n",
              "      <td>78</td>\n",
              "      <td>keenan street</td>\n",
              "      <td>wingara</td>\n",
              "      <td>raymond terrace</td>\n",
              "      <td>3212</td>\n",
              "      <td>sa</td>\n",
              "      <td>19450918</td>\n",
              "      <td>5698873</td>\n",
              "    </tr>\n",
              "    <tr>\n",
              "      <th>rec-1684-org</th>\n",
              "      <td>petreece</td>\n",
              "      <td>lusted</td>\n",
              "      <td>78</td>\n",
              "      <td>baseby place</td>\n",
              "      <td>NaN</td>\n",
              "      <td>east branxton</td>\n",
              "      <td>6214</td>\n",
              "      <td>sa</td>\n",
              "      <td>19950620</td>\n",
              "      <td>8084076</td>\n",
              "    </tr>\n",
              "    <tr>\n",
              "      <th>rec-63-dup-0</th>\n",
              "      <td>olivia</td>\n",
              "      <td>white</td>\n",
              "      <td>55</td>\n",
              "      <td>duffy street</td>\n",
              "      <td>shopping village</td>\n",
              "      <td>mirrabooka</td>\n",
              "      <td>2260</td>\n",
              "      <td>vic</td>\n",
              "      <td>19000106</td>\n",
              "      <td>4996142</td>\n",
              "    </tr>\n",
              "    <tr>\n",
              "      <th>rec-3808-org</th>\n",
              "      <td>NaN</td>\n",
              "      <td>maynard</td>\n",
              "      <td>32</td>\n",
              "      <td>yerralee road</td>\n",
              "      <td>NaN</td>\n",
              "      <td>altona meadows</td>\n",
              "      <td>4019</td>\n",
              "      <td>nsw</td>\n",
              "      <td>19150402</td>\n",
              "      <td>5146525</td>\n",
              "    </tr>\n",
              "  </tbody>\n",
              "</table>\n",
              "</div>"
            ]
          },
          "metadata": {},
          "execution_count": 10
        }
      ]
    },
    {
      "cell_type": "code",
      "metadata": {
        "colab": {
          "base_uri": "https://localhost:8080/"
        },
        "id": "BQJfgj1Uyqtr",
        "outputId": "2477cfc6-6b83-49ea-b94e-02cb82e6a397"
      },
      "source": [
        "print(data1.shape)\n",
        "print(data2.shape)"
      ],
      "execution_count": 12,
      "outputs": [
        {
          "output_type": "stream",
          "name": "stdout",
          "text": [
            "(1000, 10)\n",
            "(5000, 10)\n"
          ]
        }
      ]
    },
    {
      "cell_type": "code",
      "metadata": {
        "colab": {
          "base_uri": "https://localhost:8080/"
        },
        "id": "7nGTO0siysvv",
        "outputId": "ed770c72-9052-46f5-dfbd-da97cd6adf0e"
      },
      "source": [
        "indexer = recordlinkage.Index()\n",
        "#indexer.block(left_on='first_name', right_on='given_name')\n",
        "indexer.block('given_name')\n",
        "pairs = indexer.index(data1, data2)\n",
        "len(pairs)"
      ],
      "execution_count": 17,
      "outputs": [
        {
          "output_type": "execute_result",
          "data": {
            "text/plain": [
              "<Index>"
            ]
          },
          "metadata": {},
          "execution_count": 17
        },
        {
          "output_type": "execute_result",
          "data": {
            "text/plain": [
              "18000"
            ]
          },
          "metadata": {},
          "execution_count": 17
        }
      ]
    },
    {
      "cell_type": "markdown",
      "metadata": {
        "id": "3KcbDE8nHm0J"
      },
      "source": [
        "The left_on and right_on parameters let you to link attributes of two different dataset providing their name in the two schemas."
      ]
    },
    {
      "cell_type": "code",
      "metadata": {
        "colab": {
          "base_uri": "https://localhost:8080/",
          "height": 255
        },
        "id": "Kxg0B08Fzurb",
        "outputId": "33f9983a-272d-4380-c6b9-e355c42f9283"
      },
      "source": [
        "compare_c1 = recordlinkage.Compare()\n",
        "\n",
        "compare_c1.exact('given_name', 'given_name', label='given_name')\n",
        "compare_c1.string('surname', 'surname', method='jarowinkler', threshold=0.85, label='surname')\n",
        "compare_c1.exact('date_of_birth', 'date_of_birth', label='date_of_birth')\n",
        "compare_c1.exact('suburb', 'suburb', label='suburb')\n",
        "compare_c1.exact('state', 'state', label='state')\n",
        "compare_c1.string('address_1', 'address_1', threshold=0.85, label='address_1')\n",
        "\n",
        "features = compare_c1.compute(pairs, data1, data2)\n",
        "features.head()"
      ],
      "execution_count": 18,
      "outputs": [
        {
          "output_type": "execute_result",
          "data": {
            "text/plain": [
              "<Compare>"
            ]
          },
          "metadata": {},
          "execution_count": 18
        },
        {
          "output_type": "execute_result",
          "data": {
            "text/plain": [
              "<Compare>"
            ]
          },
          "metadata": {},
          "execution_count": 18
        },
        {
          "output_type": "execute_result",
          "data": {
            "text/plain": [
              "<Compare>"
            ]
          },
          "metadata": {},
          "execution_count": 18
        },
        {
          "output_type": "execute_result",
          "data": {
            "text/plain": [
              "<Compare>"
            ]
          },
          "metadata": {},
          "execution_count": 18
        },
        {
          "output_type": "execute_result",
          "data": {
            "text/plain": [
              "<Compare>"
            ]
          },
          "metadata": {},
          "execution_count": 18
        },
        {
          "output_type": "execute_result",
          "data": {
            "text/plain": [
              "<Compare>"
            ]
          },
          "metadata": {},
          "execution_count": 18
        },
        {
          "output_type": "execute_result",
          "data": {
            "text/plain": [
              "                           given_name  surname  date_of_birth  suburb  state  \\\n",
              "rec_id_1    rec_id_2                                                           \n",
              "rec-122-org rec-242-org             1      0.0              0       0      0   \n",
              "            rec-320-org             1      0.0              0       0      0   \n",
              "            rec-534-dup-2           1      0.0              0       0      0   \n",
              "            rec-482-org             1      0.0              0       0      0   \n",
              "            rec-2718-org            1      0.0              0       0      0   \n",
              "\n",
              "                           address_1  \n",
              "rec_id_1    rec_id_2                  \n",
              "rec-122-org rec-242-org          0.0  \n",
              "            rec-320-org          0.0  \n",
              "            rec-534-dup-2        0.0  \n",
              "            rec-482-org          0.0  \n",
              "            rec-2718-org         0.0  "
            ],
            "text/html": [
              "<div>\n",
              "<style scoped>\n",
              "    .dataframe tbody tr th:only-of-type {\n",
              "        vertical-align: middle;\n",
              "    }\n",
              "\n",
              "    .dataframe tbody tr th {\n",
              "        vertical-align: top;\n",
              "    }\n",
              "\n",
              "    .dataframe thead th {\n",
              "        text-align: right;\n",
              "    }\n",
              "</style>\n",
              "<table border=\"1\" class=\"dataframe\">\n",
              "  <thead>\n",
              "    <tr style=\"text-align: right;\">\n",
              "      <th></th>\n",
              "      <th></th>\n",
              "      <th>given_name</th>\n",
              "      <th>surname</th>\n",
              "      <th>date_of_birth</th>\n",
              "      <th>suburb</th>\n",
              "      <th>state</th>\n",
              "      <th>address_1</th>\n",
              "    </tr>\n",
              "    <tr>\n",
              "      <th>rec_id_1</th>\n",
              "      <th>rec_id_2</th>\n",
              "      <th></th>\n",
              "      <th></th>\n",
              "      <th></th>\n",
              "      <th></th>\n",
              "      <th></th>\n",
              "      <th></th>\n",
              "    </tr>\n",
              "  </thead>\n",
              "  <tbody>\n",
              "    <tr>\n",
              "      <th rowspan=\"5\" valign=\"top\">rec-122-org</th>\n",
              "      <th>rec-242-org</th>\n",
              "      <td>1</td>\n",
              "      <td>0.0</td>\n",
              "      <td>0</td>\n",
              "      <td>0</td>\n",
              "      <td>0</td>\n",
              "      <td>0.0</td>\n",
              "    </tr>\n",
              "    <tr>\n",
              "      <th>rec-320-org</th>\n",
              "      <td>1</td>\n",
              "      <td>0.0</td>\n",
              "      <td>0</td>\n",
              "      <td>0</td>\n",
              "      <td>0</td>\n",
              "      <td>0.0</td>\n",
              "    </tr>\n",
              "    <tr>\n",
              "      <th>rec-534-dup-2</th>\n",
              "      <td>1</td>\n",
              "      <td>0.0</td>\n",
              "      <td>0</td>\n",
              "      <td>0</td>\n",
              "      <td>0</td>\n",
              "      <td>0.0</td>\n",
              "    </tr>\n",
              "    <tr>\n",
              "      <th>rec-482-org</th>\n",
              "      <td>1</td>\n",
              "      <td>0.0</td>\n",
              "      <td>0</td>\n",
              "      <td>0</td>\n",
              "      <td>0</td>\n",
              "      <td>0.0</td>\n",
              "    </tr>\n",
              "    <tr>\n",
              "      <th>rec-2718-org</th>\n",
              "      <td>1</td>\n",
              "      <td>0.0</td>\n",
              "      <td>0</td>\n",
              "      <td>0</td>\n",
              "      <td>0</td>\n",
              "      <td>0.0</td>\n",
              "    </tr>\n",
              "  </tbody>\n",
              "</table>\n",
              "</div>"
            ]
          },
          "metadata": {},
          "execution_count": 18
        }
      ]
    },
    {
      "cell_type": "code",
      "metadata": {
        "colab": {
          "base_uri": "https://localhost:8080/"
        },
        "id": "hb_seRqG0nvH",
        "outputId": "732a1c3d-0de6-488b-c6d7-e5a2368621f2"
      },
      "source": [
        "features.sum(axis=1).value_counts().sort_index(ascending=False)"
      ],
      "execution_count": 19,
      "outputs": [
        {
          "output_type": "execute_result",
          "data": {
            "text/plain": [
              "3.0       14\n",
              "2.0     4098\n",
              "1.0    13888\n",
              "dtype: int64"
            ]
          },
          "metadata": {},
          "execution_count": 19
        }
      ]
    },
    {
      "cell_type": "markdown",
      "metadata": {
        "id": "0P9IwjH205AV"
      },
      "source": [
        "## Record Linkage in Data Integration"
      ]
    },
    {
      "cell_type": "code",
      "metadata": {
        "id": "3pXMpoam04pd"
      },
      "source": [
        "hospital_accounts = pd.read_csv('./Dataset/hospital_account_info.csv')\n",
        "hospital_reimbursement = pd.read_csv('./Dataset/hospital_reimbursement.csv')"
      ],
      "execution_count": 21,
      "outputs": []
    },
    {
      "cell_type": "code",
      "metadata": {
        "colab": {
          "base_uri": "https://localhost:8080/",
          "height": 504
        },
        "id": "8BT4kJ0g2Bb3",
        "outputId": "f36882af-2560-4bce-c24b-44517f88c0bf"
      },
      "source": [
        "hospital_accounts.head()"
      ],
      "execution_count": 22,
      "outputs": [
        {
          "output_type": "execute_result",
          "data": {
            "text/plain": [
              "   Account_Num                      Facility Name                    Address  \\\n",
              "0        10605             SAGE MEMORIAL HOSPITAL  STATE ROUTE 264 SOUTH 191   \n",
              "1        24250        WOODRIDGE BEHAVIORAL CENTER       600 NORTH 7TH STREET   \n",
              "2        10341           DOUGLAS GARDENS HOSPITAL            5200 NE 2ND AVE   \n",
              "3        81101  SUNCOAST BEHAVIORAL HEALTH CENTER             4480 51ST ST W   \n",
              "4        39835           TREASURE VALLEY HOSPITAL   8800 WEST EMERALD STREET   \n",
              "\n",
              "           City State  ZIP Code County Name    Phone Number  \\\n",
              "0        GANADO    AZ     86505      APACHE  (928) 755-4541   \n",
              "1  WEST MEMPHIS    AR     72301  CRITTENDEN  (870) 394-4113   \n",
              "2         MIAMI    FL     33137  MIAMI-DADE  (305) 751-8626   \n",
              "3     BRADENTON    FL     34210     MANATEE  (941) 792-2222   \n",
              "4         BOISE    ID     83704         ADA  (208) 373-5000   \n",
              "\n",
              "               Hospital Type              Hospital Ownership  \n",
              "0  Critical Access Hospitals  Voluntary non-profit - Private  \n",
              "1                Psychiatric                     Proprietary  \n",
              "2       Acute Care Hospitals  Voluntary non-profit - Private  \n",
              "3                Psychiatric                     Proprietary  \n",
              "4       Acute Care Hospitals                     Proprietary  "
            ],
            "text/html": [
              "<div>\n",
              "<style scoped>\n",
              "    .dataframe tbody tr th:only-of-type {\n",
              "        vertical-align: middle;\n",
              "    }\n",
              "\n",
              "    .dataframe tbody tr th {\n",
              "        vertical-align: top;\n",
              "    }\n",
              "\n",
              "    .dataframe thead th {\n",
              "        text-align: right;\n",
              "    }\n",
              "</style>\n",
              "<table border=\"1\" class=\"dataframe\">\n",
              "  <thead>\n",
              "    <tr style=\"text-align: right;\">\n",
              "      <th></th>\n",
              "      <th>Account_Num</th>\n",
              "      <th>Facility Name</th>\n",
              "      <th>Address</th>\n",
              "      <th>City</th>\n",
              "      <th>State</th>\n",
              "      <th>ZIP Code</th>\n",
              "      <th>County Name</th>\n",
              "      <th>Phone Number</th>\n",
              "      <th>Hospital Type</th>\n",
              "      <th>Hospital Ownership</th>\n",
              "    </tr>\n",
              "  </thead>\n",
              "  <tbody>\n",
              "    <tr>\n",
              "      <th>0</th>\n",
              "      <td>10605</td>\n",
              "      <td>SAGE MEMORIAL HOSPITAL</td>\n",
              "      <td>STATE ROUTE 264 SOUTH 191</td>\n",
              "      <td>GANADO</td>\n",
              "      <td>AZ</td>\n",
              "      <td>86505</td>\n",
              "      <td>APACHE</td>\n",
              "      <td>(928) 755-4541</td>\n",
              "      <td>Critical Access Hospitals</td>\n",
              "      <td>Voluntary non-profit - Private</td>\n",
              "    </tr>\n",
              "    <tr>\n",
              "      <th>1</th>\n",
              "      <td>24250</td>\n",
              "      <td>WOODRIDGE BEHAVIORAL CENTER</td>\n",
              "      <td>600 NORTH 7TH STREET</td>\n",
              "      <td>WEST MEMPHIS</td>\n",
              "      <td>AR</td>\n",
              "      <td>72301</td>\n",
              "      <td>CRITTENDEN</td>\n",
              "      <td>(870) 394-4113</td>\n",
              "      <td>Psychiatric</td>\n",
              "      <td>Proprietary</td>\n",
              "    </tr>\n",
              "    <tr>\n",
              "      <th>2</th>\n",
              "      <td>10341</td>\n",
              "      <td>DOUGLAS GARDENS HOSPITAL</td>\n",
              "      <td>5200 NE 2ND AVE</td>\n",
              "      <td>MIAMI</td>\n",
              "      <td>FL</td>\n",
              "      <td>33137</td>\n",
              "      <td>MIAMI-DADE</td>\n",
              "      <td>(305) 751-8626</td>\n",
              "      <td>Acute Care Hospitals</td>\n",
              "      <td>Voluntary non-profit - Private</td>\n",
              "    </tr>\n",
              "    <tr>\n",
              "      <th>3</th>\n",
              "      <td>81101</td>\n",
              "      <td>SUNCOAST BEHAVIORAL HEALTH CENTER</td>\n",
              "      <td>4480 51ST ST W</td>\n",
              "      <td>BRADENTON</td>\n",
              "      <td>FL</td>\n",
              "      <td>34210</td>\n",
              "      <td>MANATEE</td>\n",
              "      <td>(941) 792-2222</td>\n",
              "      <td>Psychiatric</td>\n",
              "      <td>Proprietary</td>\n",
              "    </tr>\n",
              "    <tr>\n",
              "      <th>4</th>\n",
              "      <td>39835</td>\n",
              "      <td>TREASURE VALLEY HOSPITAL</td>\n",
              "      <td>8800 WEST EMERALD STREET</td>\n",
              "      <td>BOISE</td>\n",
              "      <td>ID</td>\n",
              "      <td>83704</td>\n",
              "      <td>ADA</td>\n",
              "      <td>(208) 373-5000</td>\n",
              "      <td>Acute Care Hospitals</td>\n",
              "      <td>Proprietary</td>\n",
              "    </tr>\n",
              "  </tbody>\n",
              "</table>\n",
              "</div>"
            ]
          },
          "metadata": {},
          "execution_count": 22
        }
      ]
    },
    {
      "cell_type": "code",
      "metadata": {
        "colab": {
          "base_uri": "https://localhost:8080/",
          "height": 521
        },
        "id": "h2I5vJsz2EB1",
        "outputId": "50fb3ebd-b4db-4c71-b7a4-effd3c8b4043"
      },
      "source": [
        "hospital_reimbursement.head()"
      ],
      "execution_count": 24,
      "outputs": [
        {
          "output_type": "execute_result",
          "data": {
            "text/plain": [
              "   Provider_Num                     Provider Name     Provider Street Address  \\\n",
              "0        839987  SOUTHEAST ALABAMA MEDICAL CENTER      1108 ROSS CLARK CIRCLE   \n",
              "1        519118     MARSHALL MEDICAL CENTER SOUTH  2505 U S HIGHWAY 431 NORTH   \n",
              "2        733073    ELIZA COFFEE MEMORIAL HOSPITAL          205 MARENGO STREET   \n",
              "3        201752          MIZELL MEMORIAL HOSPITAL               702 N MAIN ST   \n",
              "4        678488                 ST VINCENT'S EAST  50 MEDICAL PARK EAST DRIVE   \n",
              "\n",
              "  Provider City Provider State  Provider Zip Code  Total Discharges  \\\n",
              "0        DOTHAN             AL              36301               118   \n",
              "1          BOAZ             AL              35957                43   \n",
              "2      FLORENCE             AL              35631                73   \n",
              "3           OPP             AL              36467                12   \n",
              "4    BIRMINGHAM             AL              35235                74   \n",
              "\n",
              "   Average Covered Charges  Average Total Payments  Average Medicare Payments  \n",
              "0                 20855.61                 5026.19                    4115.52  \n",
              "1                 13289.09                 5413.63                    4490.93  \n",
              "2                 22261.60                 4922.18                    4021.79  \n",
              "3                 10901.33                 5343.50                    4284.17  \n",
              "4                 28117.95                 5947.12                    4819.53  "
            ],
            "text/html": [
              "<div>\n",
              "<style scoped>\n",
              "    .dataframe tbody tr th:only-of-type {\n",
              "        vertical-align: middle;\n",
              "    }\n",
              "\n",
              "    .dataframe tbody tr th {\n",
              "        vertical-align: top;\n",
              "    }\n",
              "\n",
              "    .dataframe thead th {\n",
              "        text-align: right;\n",
              "    }\n",
              "</style>\n",
              "<table border=\"1\" class=\"dataframe\">\n",
              "  <thead>\n",
              "    <tr style=\"text-align: right;\">\n",
              "      <th></th>\n",
              "      <th>Provider_Num</th>\n",
              "      <th>Provider Name</th>\n",
              "      <th>Provider Street Address</th>\n",
              "      <th>Provider City</th>\n",
              "      <th>Provider State</th>\n",
              "      <th>Provider Zip Code</th>\n",
              "      <th>Total Discharges</th>\n",
              "      <th>Average Covered Charges</th>\n",
              "      <th>Average Total Payments</th>\n",
              "      <th>Average Medicare Payments</th>\n",
              "    </tr>\n",
              "  </thead>\n",
              "  <tbody>\n",
              "    <tr>\n",
              "      <th>0</th>\n",
              "      <td>839987</td>\n",
              "      <td>SOUTHEAST ALABAMA MEDICAL CENTER</td>\n",
              "      <td>1108 ROSS CLARK CIRCLE</td>\n",
              "      <td>DOTHAN</td>\n",
              "      <td>AL</td>\n",
              "      <td>36301</td>\n",
              "      <td>118</td>\n",
              "      <td>20855.61</td>\n",
              "      <td>5026.19</td>\n",
              "      <td>4115.52</td>\n",
              "    </tr>\n",
              "    <tr>\n",
              "      <th>1</th>\n",
              "      <td>519118</td>\n",
              "      <td>MARSHALL MEDICAL CENTER SOUTH</td>\n",
              "      <td>2505 U S HIGHWAY 431 NORTH</td>\n",
              "      <td>BOAZ</td>\n",
              "      <td>AL</td>\n",
              "      <td>35957</td>\n",
              "      <td>43</td>\n",
              "      <td>13289.09</td>\n",
              "      <td>5413.63</td>\n",
              "      <td>4490.93</td>\n",
              "    </tr>\n",
              "    <tr>\n",
              "      <th>2</th>\n",
              "      <td>733073</td>\n",
              "      <td>ELIZA COFFEE MEMORIAL HOSPITAL</td>\n",
              "      <td>205 MARENGO STREET</td>\n",
              "      <td>FLORENCE</td>\n",
              "      <td>AL</td>\n",
              "      <td>35631</td>\n",
              "      <td>73</td>\n",
              "      <td>22261.60</td>\n",
              "      <td>4922.18</td>\n",
              "      <td>4021.79</td>\n",
              "    </tr>\n",
              "    <tr>\n",
              "      <th>3</th>\n",
              "      <td>201752</td>\n",
              "      <td>MIZELL MEMORIAL HOSPITAL</td>\n",
              "      <td>702 N MAIN ST</td>\n",
              "      <td>OPP</td>\n",
              "      <td>AL</td>\n",
              "      <td>36467</td>\n",
              "      <td>12</td>\n",
              "      <td>10901.33</td>\n",
              "      <td>5343.50</td>\n",
              "      <td>4284.17</td>\n",
              "    </tr>\n",
              "    <tr>\n",
              "      <th>4</th>\n",
              "      <td>678488</td>\n",
              "      <td>ST VINCENT'S EAST</td>\n",
              "      <td>50 MEDICAL PARK EAST DRIVE</td>\n",
              "      <td>BIRMINGHAM</td>\n",
              "      <td>AL</td>\n",
              "      <td>35235</td>\n",
              "      <td>74</td>\n",
              "      <td>28117.95</td>\n",
              "      <td>5947.12</td>\n",
              "      <td>4819.53</td>\n",
              "    </tr>\n",
              "  </tbody>\n",
              "</table>\n",
              "</div>"
            ]
          },
          "metadata": {},
          "execution_count": 24
        }
      ]
    },
    {
      "cell_type": "markdown",
      "metadata": {
        "id": "rXJ0dKc12I0M"
      },
      "source": [
        "This is a classical example of **record linkage inside a data integration process**.\n",
        "\n",
        "We have two dataset refferring to hospitals: one considering some aspect and the other other aspects, but there is a common part. Hence the difference w.r.t. the former example is that here the schemas are not fully overlapping but ony partially, i.e. they carry different information about the same objects.\n",
        "\n",
        "We will use Sorted Neighborhood method since it works better."
      ]
    },
    {
      "cell_type": "code",
      "metadata": {
        "id": "ixONTbN4HGDo"
      },
      "source": [
        "indexer = recordlinkage.SortedNeighbourhoodIndex(left_on = 'Facility Name', right_on='Provider Name', window=15)"
      ],
      "execution_count": 25,
      "outputs": []
    },
    {
      "cell_type": "markdown",
      "metadata": {
        "id": "9rNOR4VvIM2Z"
      },
      "source": [
        "Hence the dataset are sorted using the dataset's attributes we are specifing and then the merge is done inside the windows working as the normal windows approach."
      ]
    },
    {
      "cell_type": "code",
      "metadata": {
        "colab": {
          "base_uri": "https://localhost:8080/"
        },
        "id": "Xy2vpuK9H-al",
        "outputId": "16c16dbf-de89-4105-83e6-2df8d608e48a"
      },
      "source": [
        "pairs = indexer.index(hospital_accounts, hospital_reimbursement)\n",
        "print(len(pairs))"
      ],
      "execution_count": 27,
      "outputs": [
        {
          "output_type": "stream",
          "name": "stdout",
          "text": [
            "38900\n"
          ]
        }
      ]
    },
    {
      "cell_type": "markdown",
      "metadata": {
        "id": "ikxydVbBJ7JJ"
      },
      "source": [
        "Now we have to tell the sistem how the matching should be done, i.e. we have to specify the common attributes saying which atrtibute should be compared with each attribute."
      ]
    },
    {
      "cell_type": "code",
      "metadata": {
        "colab": {
          "base_uri": "https://localhost:8080/",
          "height": 224
        },
        "id": "7sgLvYGwIHj4",
        "outputId": "e7ac888c-1b64-467f-b4b1-d2ceb2d8d24c"
      },
      "source": [
        "compare_c1 = recordlinkage.Compare()\n",
        "\n",
        "compare_c1.exact('Facility Name', 'Provider Name', label='Hospital')\n",
        "compare_c1.string('Address', 'Provider Street Address', method='jarowinkler', threshold=0.85, label='Address')\n",
        "compare_c1.string('City', 'Provider City', threshold=0.85, label='City')\n",
        "compare_c1.exact('State', 'Provider State', label='State')\n",
        "compare_c1.exact('ZIP Code', 'Provider Zip Code', label='ZIP Code')\n",
        "\n",
        "features = compare_c1.compute(pairs, hospital_accounts, hospital_reimbursement)\n",
        "features.head()"
      ],
      "execution_count": 30,
      "outputs": [
        {
          "output_type": "execute_result",
          "data": {
            "text/plain": [
              "<Compare>"
            ]
          },
          "metadata": {},
          "execution_count": 30
        },
        {
          "output_type": "execute_result",
          "data": {
            "text/plain": [
              "<Compare>"
            ]
          },
          "metadata": {},
          "execution_count": 30
        },
        {
          "output_type": "execute_result",
          "data": {
            "text/plain": [
              "<Compare>"
            ]
          },
          "metadata": {},
          "execution_count": 30
        },
        {
          "output_type": "execute_result",
          "data": {
            "text/plain": [
              "<Compare>"
            ]
          },
          "metadata": {},
          "execution_count": 30
        },
        {
          "output_type": "execute_result",
          "data": {
            "text/plain": [
              "<Compare>"
            ]
          },
          "metadata": {},
          "execution_count": 30
        },
        {
          "output_type": "execute_result",
          "data": {
            "text/plain": [
              "        Hospital  Address  City  State  ZIP Code\n",
              "0 717          0      0.0   0.0      0         0\n",
              "1 516          0      0.0   0.0      0         0\n",
              "2 132          0      0.0   0.0      0         0\n",
              "4 2168         0      0.0   0.0      0         0\n",
              "6 1430         0      0.0   0.0      0         0"
            ],
            "text/html": [
              "<div>\n",
              "<style scoped>\n",
              "    .dataframe tbody tr th:only-of-type {\n",
              "        vertical-align: middle;\n",
              "    }\n",
              "\n",
              "    .dataframe tbody tr th {\n",
              "        vertical-align: top;\n",
              "    }\n",
              "\n",
              "    .dataframe thead th {\n",
              "        text-align: right;\n",
              "    }\n",
              "</style>\n",
              "<table border=\"1\" class=\"dataframe\">\n",
              "  <thead>\n",
              "    <tr style=\"text-align: right;\">\n",
              "      <th></th>\n",
              "      <th></th>\n",
              "      <th>Hospital</th>\n",
              "      <th>Address</th>\n",
              "      <th>City</th>\n",
              "      <th>State</th>\n",
              "      <th>ZIP Code</th>\n",
              "    </tr>\n",
              "  </thead>\n",
              "  <tbody>\n",
              "    <tr>\n",
              "      <th>0</th>\n",
              "      <th>717</th>\n",
              "      <td>0</td>\n",
              "      <td>0.0</td>\n",
              "      <td>0.0</td>\n",
              "      <td>0</td>\n",
              "      <td>0</td>\n",
              "    </tr>\n",
              "    <tr>\n",
              "      <th>1</th>\n",
              "      <th>516</th>\n",
              "      <td>0</td>\n",
              "      <td>0.0</td>\n",
              "      <td>0.0</td>\n",
              "      <td>0</td>\n",
              "      <td>0</td>\n",
              "    </tr>\n",
              "    <tr>\n",
              "      <th>2</th>\n",
              "      <th>132</th>\n",
              "      <td>0</td>\n",
              "      <td>0.0</td>\n",
              "      <td>0.0</td>\n",
              "      <td>0</td>\n",
              "      <td>0</td>\n",
              "    </tr>\n",
              "    <tr>\n",
              "      <th>4</th>\n",
              "      <th>2168</th>\n",
              "      <td>0</td>\n",
              "      <td>0.0</td>\n",
              "      <td>0.0</td>\n",
              "      <td>0</td>\n",
              "      <td>0</td>\n",
              "    </tr>\n",
              "    <tr>\n",
              "      <th>6</th>\n",
              "      <th>1430</th>\n",
              "      <td>0</td>\n",
              "      <td>0.0</td>\n",
              "      <td>0.0</td>\n",
              "      <td>0</td>\n",
              "      <td>0</td>\n",
              "    </tr>\n",
              "  </tbody>\n",
              "</table>\n",
              "</div>"
            ]
          },
          "metadata": {},
          "execution_count": 30
        }
      ]
    },
    {
      "cell_type": "code",
      "metadata": {
        "colab": {
          "base_uri": "https://localhost:8080/"
        },
        "id": "p5G0-m41KtEe",
        "outputId": "703573da-e609-4778-8533-613c50d708f2"
      },
      "source": [
        "features.sum(axis=1).value_counts().sort_index(ascending=False)"
      ],
      "execution_count": 31,
      "outputs": [
        {
          "output_type": "execute_result",
          "data": {
            "text/plain": [
              "5.0     2240\n",
              "4.0      129\n",
              "3.0       48\n",
              "2.0      280\n",
              "1.0     5442\n",
              "0.0    30761\n",
              "dtype: int64"
            ]
          },
          "metadata": {},
          "execution_count": 31
        }
      ]
    },
    {
      "cell_type": "markdown",
      "metadata": {
        "id": "O9jWWwFPKuwj"
      },
      "source": [
        "We can notice there is a quite high similarity sice there are a lot of tuples that has all the 5 attributes matching."
      ]
    },
    {
      "cell_type": "code",
      "metadata": {
        "colab": {
          "base_uri": "https://localhost:8080/",
          "height": 441
        },
        "id": "yhzFNlnvLA96",
        "outputId": "1edce30d-57a2-4a54-e950-d9f6a11489a8"
      },
      "source": [
        "matches = features[features.sum(axis=1) > 3]\n",
        "print(len(matches))\n",
        "matches"
      ],
      "execution_count": 36,
      "outputs": [
        {
          "output_type": "stream",
          "name": "stdout",
          "text": [
            "2240\n"
          ]
        },
        {
          "output_type": "execute_result",
          "data": {
            "text/plain": [
              "           Hospital  Address  City  State  ZIP Code\n",
              "14   1777         1      1.0   1.0      1         1\n",
              "27   1502         1      1.0   1.0      1         1\n",
              "28   779          1      1.0   1.0      1         1\n",
              "1293 1115         1      1.0   1.0      1         1\n",
              "3109 507          1      1.0   1.0      1         1\n",
              "...             ...      ...   ...    ...       ...\n",
              "5326 2400         1      1.0   1.0      1         1\n",
              "5328 65           1      1.0   1.0      1         1\n",
              "5329 2213         1      1.0   1.0      1         1\n",
              "5334 988          1      1.0   1.0      1         1\n",
              "5337 593          1      1.0   1.0      1         1\n",
              "\n",
              "[2240 rows x 5 columns]"
            ],
            "text/html": [
              "<div>\n",
              "<style scoped>\n",
              "    .dataframe tbody tr th:only-of-type {\n",
              "        vertical-align: middle;\n",
              "    }\n",
              "\n",
              "    .dataframe tbody tr th {\n",
              "        vertical-align: top;\n",
              "    }\n",
              "\n",
              "    .dataframe thead th {\n",
              "        text-align: right;\n",
              "    }\n",
              "</style>\n",
              "<table border=\"1\" class=\"dataframe\">\n",
              "  <thead>\n",
              "    <tr style=\"text-align: right;\">\n",
              "      <th></th>\n",
              "      <th></th>\n",
              "      <th>Hospital</th>\n",
              "      <th>Address</th>\n",
              "      <th>City</th>\n",
              "      <th>State</th>\n",
              "      <th>ZIP Code</th>\n",
              "    </tr>\n",
              "  </thead>\n",
              "  <tbody>\n",
              "    <tr>\n",
              "      <th>14</th>\n",
              "      <th>1777</th>\n",
              "      <td>1</td>\n",
              "      <td>1.0</td>\n",
              "      <td>1.0</td>\n",
              "      <td>1</td>\n",
              "      <td>1</td>\n",
              "    </tr>\n",
              "    <tr>\n",
              "      <th>27</th>\n",
              "      <th>1502</th>\n",
              "      <td>1</td>\n",
              "      <td>1.0</td>\n",
              "      <td>1.0</td>\n",
              "      <td>1</td>\n",
              "      <td>1</td>\n",
              "    </tr>\n",
              "    <tr>\n",
              "      <th>28</th>\n",
              "      <th>779</th>\n",
              "      <td>1</td>\n",
              "      <td>1.0</td>\n",
              "      <td>1.0</td>\n",
              "      <td>1</td>\n",
              "      <td>1</td>\n",
              "    </tr>\n",
              "    <tr>\n",
              "      <th>1293</th>\n",
              "      <th>1115</th>\n",
              "      <td>1</td>\n",
              "      <td>1.0</td>\n",
              "      <td>1.0</td>\n",
              "      <td>1</td>\n",
              "      <td>1</td>\n",
              "    </tr>\n",
              "    <tr>\n",
              "      <th>3109</th>\n",
              "      <th>507</th>\n",
              "      <td>1</td>\n",
              "      <td>1.0</td>\n",
              "      <td>1.0</td>\n",
              "      <td>1</td>\n",
              "      <td>1</td>\n",
              "    </tr>\n",
              "    <tr>\n",
              "      <th>...</th>\n",
              "      <th>...</th>\n",
              "      <td>...</td>\n",
              "      <td>...</td>\n",
              "      <td>...</td>\n",
              "      <td>...</td>\n",
              "      <td>...</td>\n",
              "    </tr>\n",
              "    <tr>\n",
              "      <th>5326</th>\n",
              "      <th>2400</th>\n",
              "      <td>1</td>\n",
              "      <td>1.0</td>\n",
              "      <td>1.0</td>\n",
              "      <td>1</td>\n",
              "      <td>1</td>\n",
              "    </tr>\n",
              "    <tr>\n",
              "      <th>5328</th>\n",
              "      <th>65</th>\n",
              "      <td>1</td>\n",
              "      <td>1.0</td>\n",
              "      <td>1.0</td>\n",
              "      <td>1</td>\n",
              "      <td>1</td>\n",
              "    </tr>\n",
              "    <tr>\n",
              "      <th>5329</th>\n",
              "      <th>2213</th>\n",
              "      <td>1</td>\n",
              "      <td>1.0</td>\n",
              "      <td>1.0</td>\n",
              "      <td>1</td>\n",
              "      <td>1</td>\n",
              "    </tr>\n",
              "    <tr>\n",
              "      <th>5334</th>\n",
              "      <th>988</th>\n",
              "      <td>1</td>\n",
              "      <td>1.0</td>\n",
              "      <td>1.0</td>\n",
              "      <td>1</td>\n",
              "      <td>1</td>\n",
              "    </tr>\n",
              "    <tr>\n",
              "      <th>5337</th>\n",
              "      <th>593</th>\n",
              "      <td>1</td>\n",
              "      <td>1.0</td>\n",
              "      <td>1.0</td>\n",
              "      <td>1</td>\n",
              "      <td>1</td>\n",
              "    </tr>\n",
              "  </tbody>\n",
              "</table>\n",
              "<p>2240 rows × 5 columns</p>\n",
              "</div>"
            ]
          },
          "metadata": {},
          "execution_count": 36
        }
      ]
    },
    {
      "cell_type": "markdown",
      "metadata": {
        "id": "YWkfdNovLddG"
      },
      "source": [
        "For these 2240 matches we can built an integrated dataset: we can put them together and retrieve the data from the two dataset creating a new richer schema."
      ]
    },
    {
      "cell_type": "markdown",
      "metadata": {
        "id": "rRtFC9dDMFw4"
      },
      "source": [
        "**From this record linkage you should perform data fusion to build the integrated schema** and all the operation needed to obtain a good integration."
      ]
    }
  ]
}