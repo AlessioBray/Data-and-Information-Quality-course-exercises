{
  "nbformat": 4,
  "nbformat_minor": 0,
  "metadata": {
    "colab": {
      "name": "Untitled9.ipynb",
      "provenance": []
    },
    "kernelspec": {
      "name": "python3",
      "display_name": "Python 3"
    },
    "language_info": {
      "name": "python"
    }
  },
  "cells": [
    {
      "cell_type": "markdown",
      "metadata": {
        "id": "uB11Fzi4ZyMG"
      },
      "source": [
        "# Exam exercises (Examples)"
      ]
    },
    {
      "cell_type": "code",
      "metadata": {
        "id": "ytCZmIdNbMso"
      },
      "source": [
        "import pandas as pd\n",
        "import numpy as np"
      ],
      "execution_count": 5,
      "outputs": []
    },
    {
      "cell_type": "markdown",
      "metadata": {
        "id": "lNnoMp3da6QZ"
      },
      "source": [
        "At the exam we will be given the characteristic of the dataset"
      ]
    },
    {
      "cell_type": "code",
      "metadata": {
        "colab": {
          "base_uri": "https://localhost:8080/"
        },
        "id": "1PonTrudbBxi",
        "outputId": "72c773b1-f77e-4c5f-b017-1b83470cf78c"
      },
      "source": [
        "!ls ./Dataset/"
      ],
      "execution_count": 2,
      "outputs": [
        {
          "output_type": "stream",
          "name": "stdout",
          "text": [
            "beers.csv\t\t   hospital_reimbursement.csv  propertyTimeliness.csv\r\n",
            "beersPoorDQ.csv\t\t   iris.csv\t\t       shampoo.csv\r\n",
            "bridges.csv\t\t   monster_com-job_sample.csv  styles.csv\r\n",
            "chess.csv\t\t   nba.csv\t\t       TechUSA.csv\r\n",
            "Datasets17112021.pdf\t   oil_spill.csv\t       weather_data_test.csv\r\n",
            "hospital_account_info.csv  property.csv\r\n"
          ]
        }
      ]
    },
    {
      "cell_type": "code",
      "metadata": {
        "colab": {
          "base_uri": "https://localhost:8080/"
        },
        "id": "xDwR4ZmqZt5b",
        "outputId": "03d238fe-ce4c-4022-d120-61e52fc6a6d1"
      },
      "source": [
        "df = pd.read_csv('./Dataset/monster_com-job_sample.csv')\n",
        "df.info()"
      ],
      "execution_count": 7,
      "outputs": [
        {
          "output_type": "stream",
          "name": "stdout",
          "text": [
            "<class 'pandas.core.frame.DataFrame'>\n",
            "RangeIndex: 22000 entries, 0 to 21999\n",
            "Data columns (total 14 columns):\n",
            " #   Column           Non-Null Count  Dtype \n",
            "---  ------           --------------  ----- \n",
            " 0   country          22000 non-null  object\n",
            " 1   country_code     22000 non-null  object\n",
            " 2   date_added       122 non-null    object\n",
            " 3   has_expired      22000 non-null  object\n",
            " 4   job_board        22000 non-null  object\n",
            " 5   job_description  22000 non-null  object\n",
            " 6   job_title        22000 non-null  object\n",
            " 7   job_type         20372 non-null  object\n",
            " 8   location         22000 non-null  object\n",
            " 9   organization     15133 non-null  object\n",
            " 10  page_url         22000 non-null  object\n",
            " 11  salary           3446 non-null   object\n",
            " 12  sector           16806 non-null  object\n",
            " 13  uniq_id          22000 non-null  object\n",
            "dtypes: object(14)\n",
            "memory usage: 2.3+ MB\n"
          ]
        }
      ]
    },
    {
      "cell_type": "markdown",
      "metadata": {
        "id": "IxgGNh6jbThu"
      },
      "source": [
        "We can see:\n",
        "\n",
        "* How many values we have\n",
        "* How many non null values each column has.\n",
        "* The type of the column"
      ]
    },
    {
      "cell_type": "code",
      "metadata": {
        "colab": {
          "base_uri": "https://localhost:8080/",
          "height": 521
        },
        "id": "Fp217DFKbt5F",
        "outputId": "76d1dc15-0c75-4d56-d424-57201ac1b19b"
      },
      "source": [
        "df.head()"
      ],
      "execution_count": 9,
      "outputs": [
        {
          "output_type": "execute_result",
          "data": {
            "text/plain": [
              "                    country country_code date_added has_expired  \\\n",
              "0  United States of America           US        NaN          No   \n",
              "1  United States of America           US        NaN          No   \n",
              "2  United States of America           US        NaN          No   \n",
              "3  United States of America           US        NaN          No   \n",
              "4  United States of America           US        NaN          No   \n",
              "\n",
              "          job_board                                    job_description  \\\n",
              "0  jobs.monster.com  TeamSoft is seeing an IT Support Specialist to...   \n",
              "1  jobs.monster.com  The Wisconsin State Journal is seeking a flexi...   \n",
              "2  jobs.monster.com  Report this job About the Job DePuy Synthes Co...   \n",
              "3  jobs.monster.com  Why Join Altec? If you’re considering a career...   \n",
              "4  jobs.monster.com  Position ID#  76162 # Positions  1 State  CT C...   \n",
              "\n",
              "                                           job_title             job_type  \\\n",
              "0               IT Support Technician Job in Madison   Full Time Employee   \n",
              "1            Business Reporter/Editor Job in Madison            Full Time   \n",
              "2  Johnson & Johnson Family of Companies Job Appl...  Full Time, Employee   \n",
              "3                    Engineer - Quality Job in Dixon            Full Time   \n",
              "4       Shift Supervisor - Part-Time Job in Camphill   Full Time Employee   \n",
              "\n",
              "                                            location  \\\n",
              "0                                  Madison, WI 53702   \n",
              "1                                  Madison, WI 53708   \n",
              "2  DePuy Synthes Companies is a member of Johnson...   \n",
              "3                                          Dixon, CA   \n",
              "4                                       Camphill, PA   \n",
              "\n",
              "                      organization  \\\n",
              "0                              NaN   \n",
              "1          Printing and Publishing   \n",
              "2  Personal and Household Services   \n",
              "3                 Altec Industries   \n",
              "4                           Retail   \n",
              "\n",
              "                                            page_url salary  \\\n",
              "0  http://jobview.monster.com/it-support-technici...    NaN   \n",
              "1  http://jobview.monster.com/business-reporter-e...    NaN   \n",
              "2  http://jobview.monster.com/senior-training-lea...    NaN   \n",
              "3  http://jobview.monster.com/engineer-quality-jo...    NaN   \n",
              "4  http://jobview.monster.com/shift-supervisor-pa...    NaN   \n",
              "\n",
              "                       sector                           uniq_id  \n",
              "0     IT/Software Development  11d599f229a80023d2f40e7c52cd941e  \n",
              "1                         NaN  e4cbb126dabf22159aff90223243ff2a  \n",
              "2                         NaN  839106b353877fa3d896ffb9c1fe01c0  \n",
              "3   Experienced (Non-Manager)  58435fcab804439efdcaa7ecca0fd783  \n",
              "4  Project/Program Management  64d0272dc8496abfd9523a8df63c184c  "
            ],
            "text/html": [
              "<div>\n",
              "<style scoped>\n",
              "    .dataframe tbody tr th:only-of-type {\n",
              "        vertical-align: middle;\n",
              "    }\n",
              "\n",
              "    .dataframe tbody tr th {\n",
              "        vertical-align: top;\n",
              "    }\n",
              "\n",
              "    .dataframe thead th {\n",
              "        text-align: right;\n",
              "    }\n",
              "</style>\n",
              "<table border=\"1\" class=\"dataframe\">\n",
              "  <thead>\n",
              "    <tr style=\"text-align: right;\">\n",
              "      <th></th>\n",
              "      <th>country</th>\n",
              "      <th>country_code</th>\n",
              "      <th>date_added</th>\n",
              "      <th>has_expired</th>\n",
              "      <th>job_board</th>\n",
              "      <th>job_description</th>\n",
              "      <th>job_title</th>\n",
              "      <th>job_type</th>\n",
              "      <th>location</th>\n",
              "      <th>organization</th>\n",
              "      <th>page_url</th>\n",
              "      <th>salary</th>\n",
              "      <th>sector</th>\n",
              "      <th>uniq_id</th>\n",
              "    </tr>\n",
              "  </thead>\n",
              "  <tbody>\n",
              "    <tr>\n",
              "      <th>0</th>\n",
              "      <td>United States of America</td>\n",
              "      <td>US</td>\n",
              "      <td>NaN</td>\n",
              "      <td>No</td>\n",
              "      <td>jobs.monster.com</td>\n",
              "      <td>TeamSoft is seeing an IT Support Specialist to...</td>\n",
              "      <td>IT Support Technician Job in Madison</td>\n",
              "      <td>Full Time Employee</td>\n",
              "      <td>Madison, WI 53702</td>\n",
              "      <td>NaN</td>\n",
              "      <td>http://jobview.monster.com/it-support-technici...</td>\n",
              "      <td>NaN</td>\n",
              "      <td>IT/Software Development</td>\n",
              "      <td>11d599f229a80023d2f40e7c52cd941e</td>\n",
              "    </tr>\n",
              "    <tr>\n",
              "      <th>1</th>\n",
              "      <td>United States of America</td>\n",
              "      <td>US</td>\n",
              "      <td>NaN</td>\n",
              "      <td>No</td>\n",
              "      <td>jobs.monster.com</td>\n",
              "      <td>The Wisconsin State Journal is seeking a flexi...</td>\n",
              "      <td>Business Reporter/Editor Job in Madison</td>\n",
              "      <td>Full Time</td>\n",
              "      <td>Madison, WI 53708</td>\n",
              "      <td>Printing and Publishing</td>\n",
              "      <td>http://jobview.monster.com/business-reporter-e...</td>\n",
              "      <td>NaN</td>\n",
              "      <td>NaN</td>\n",
              "      <td>e4cbb126dabf22159aff90223243ff2a</td>\n",
              "    </tr>\n",
              "    <tr>\n",
              "      <th>2</th>\n",
              "      <td>United States of America</td>\n",
              "      <td>US</td>\n",
              "      <td>NaN</td>\n",
              "      <td>No</td>\n",
              "      <td>jobs.monster.com</td>\n",
              "      <td>Report this job About the Job DePuy Synthes Co...</td>\n",
              "      <td>Johnson &amp; Johnson Family of Companies Job Appl...</td>\n",
              "      <td>Full Time, Employee</td>\n",
              "      <td>DePuy Synthes Companies is a member of Johnson...</td>\n",
              "      <td>Personal and Household Services</td>\n",
              "      <td>http://jobview.monster.com/senior-training-lea...</td>\n",
              "      <td>NaN</td>\n",
              "      <td>NaN</td>\n",
              "      <td>839106b353877fa3d896ffb9c1fe01c0</td>\n",
              "    </tr>\n",
              "    <tr>\n",
              "      <th>3</th>\n",
              "      <td>United States of America</td>\n",
              "      <td>US</td>\n",
              "      <td>NaN</td>\n",
              "      <td>No</td>\n",
              "      <td>jobs.monster.com</td>\n",
              "      <td>Why Join Altec? If you’re considering a career...</td>\n",
              "      <td>Engineer - Quality Job in Dixon</td>\n",
              "      <td>Full Time</td>\n",
              "      <td>Dixon, CA</td>\n",
              "      <td>Altec Industries</td>\n",
              "      <td>http://jobview.monster.com/engineer-quality-jo...</td>\n",
              "      <td>NaN</td>\n",
              "      <td>Experienced (Non-Manager)</td>\n",
              "      <td>58435fcab804439efdcaa7ecca0fd783</td>\n",
              "    </tr>\n",
              "    <tr>\n",
              "      <th>4</th>\n",
              "      <td>United States of America</td>\n",
              "      <td>US</td>\n",
              "      <td>NaN</td>\n",
              "      <td>No</td>\n",
              "      <td>jobs.monster.com</td>\n",
              "      <td>Position ID#  76162 # Positions  1 State  CT C...</td>\n",
              "      <td>Shift Supervisor - Part-Time Job in Camphill</td>\n",
              "      <td>Full Time Employee</td>\n",
              "      <td>Camphill, PA</td>\n",
              "      <td>Retail</td>\n",
              "      <td>http://jobview.monster.com/shift-supervisor-pa...</td>\n",
              "      <td>NaN</td>\n",
              "      <td>Project/Program Management</td>\n",
              "      <td>64d0272dc8496abfd9523a8df63c184c</td>\n",
              "    </tr>\n",
              "  </tbody>\n",
              "</table>\n",
              "</div>"
            ]
          },
          "metadata": {},
          "execution_count": 9
        }
      ]
    },
    {
      "cell_type": "code",
      "metadata": {
        "colab": {
          "base_uri": "https://localhost:8080/",
          "height": 247
        },
        "id": "IhG-H3L9bltr",
        "outputId": "9a3bc2f9-a8ff-44b0-ac1c-733b84be181b"
      },
      "source": [
        "df.describe()"
      ],
      "execution_count": 8,
      "outputs": [
        {
          "output_type": "execute_result",
          "data": {
            "text/plain": [
              "                         country country_code date_added has_expired  \\\n",
              "count                      22000        22000        122       22000   \n",
              "unique                         1            1         78           1   \n",
              "top     United States of America           US  9/22/2016          No   \n",
              "freq                       22000        22000          6       22000   \n",
              "\n",
              "               job_board                                    job_description  \\\n",
              "count              22000                                              22000   \n",
              "unique                 1                                              18744   \n",
              "top     jobs.monster.com  12N Horizontal Construction Engineers Job Desc...   \n",
              "freq               22000                                                104   \n",
              "\n",
              "       job_title   job_type    location         organization  \\\n",
              "count      22000      20372       22000                15133   \n",
              "unique     18759         39        8423                  738   \n",
              "top      Monster  Full Time  Dallas, TX  Healthcare Services   \n",
              "freq         318       6757         646                 1919   \n",
              "\n",
              "                                                 page_url  \\\n",
              "count                                               22000   \n",
              "unique                                              22000   \n",
              "top     http://jobview.monster.com/enterprise-architec...   \n",
              "freq                                                    1   \n",
              "\n",
              "                                salary                     sector  \\\n",
              "count                             3446                      16806   \n",
              "unique                            1737                        163   \n",
              "top     40,000.00 - 100,000.00 $ /year  Experienced (Non-Manager)   \n",
              "freq                                50                       4594   \n",
              "\n",
              "                                 uniq_id  \n",
              "count                              22000  \n",
              "unique                             22000  \n",
              "top     87678aef26e758b6519103bd76460887  \n",
              "freq                                   1  "
            ],
            "text/html": [
              "<div>\n",
              "<style scoped>\n",
              "    .dataframe tbody tr th:only-of-type {\n",
              "        vertical-align: middle;\n",
              "    }\n",
              "\n",
              "    .dataframe tbody tr th {\n",
              "        vertical-align: top;\n",
              "    }\n",
              "\n",
              "    .dataframe thead th {\n",
              "        text-align: right;\n",
              "    }\n",
              "</style>\n",
              "<table border=\"1\" class=\"dataframe\">\n",
              "  <thead>\n",
              "    <tr style=\"text-align: right;\">\n",
              "      <th></th>\n",
              "      <th>country</th>\n",
              "      <th>country_code</th>\n",
              "      <th>date_added</th>\n",
              "      <th>has_expired</th>\n",
              "      <th>job_board</th>\n",
              "      <th>job_description</th>\n",
              "      <th>job_title</th>\n",
              "      <th>job_type</th>\n",
              "      <th>location</th>\n",
              "      <th>organization</th>\n",
              "      <th>page_url</th>\n",
              "      <th>salary</th>\n",
              "      <th>sector</th>\n",
              "      <th>uniq_id</th>\n",
              "    </tr>\n",
              "  </thead>\n",
              "  <tbody>\n",
              "    <tr>\n",
              "      <th>count</th>\n",
              "      <td>22000</td>\n",
              "      <td>22000</td>\n",
              "      <td>122</td>\n",
              "      <td>22000</td>\n",
              "      <td>22000</td>\n",
              "      <td>22000</td>\n",
              "      <td>22000</td>\n",
              "      <td>20372</td>\n",
              "      <td>22000</td>\n",
              "      <td>15133</td>\n",
              "      <td>22000</td>\n",
              "      <td>3446</td>\n",
              "      <td>16806</td>\n",
              "      <td>22000</td>\n",
              "    </tr>\n",
              "    <tr>\n",
              "      <th>unique</th>\n",
              "      <td>1</td>\n",
              "      <td>1</td>\n",
              "      <td>78</td>\n",
              "      <td>1</td>\n",
              "      <td>1</td>\n",
              "      <td>18744</td>\n",
              "      <td>18759</td>\n",
              "      <td>39</td>\n",
              "      <td>8423</td>\n",
              "      <td>738</td>\n",
              "      <td>22000</td>\n",
              "      <td>1737</td>\n",
              "      <td>163</td>\n",
              "      <td>22000</td>\n",
              "    </tr>\n",
              "    <tr>\n",
              "      <th>top</th>\n",
              "      <td>United States of America</td>\n",
              "      <td>US</td>\n",
              "      <td>9/22/2016</td>\n",
              "      <td>No</td>\n",
              "      <td>jobs.monster.com</td>\n",
              "      <td>12N Horizontal Construction Engineers Job Desc...</td>\n",
              "      <td>Monster</td>\n",
              "      <td>Full Time</td>\n",
              "      <td>Dallas, TX</td>\n",
              "      <td>Healthcare Services</td>\n",
              "      <td>http://jobview.monster.com/enterprise-architec...</td>\n",
              "      <td>40,000.00 - 100,000.00 $ /year</td>\n",
              "      <td>Experienced (Non-Manager)</td>\n",
              "      <td>87678aef26e758b6519103bd76460887</td>\n",
              "    </tr>\n",
              "    <tr>\n",
              "      <th>freq</th>\n",
              "      <td>22000</td>\n",
              "      <td>22000</td>\n",
              "      <td>6</td>\n",
              "      <td>22000</td>\n",
              "      <td>22000</td>\n",
              "      <td>104</td>\n",
              "      <td>318</td>\n",
              "      <td>6757</td>\n",
              "      <td>646</td>\n",
              "      <td>1919</td>\n",
              "      <td>1</td>\n",
              "      <td>50</td>\n",
              "      <td>4594</td>\n",
              "      <td>1</td>\n",
              "    </tr>\n",
              "  </tbody>\n",
              "</table>\n",
              "</div>"
            ]
          },
          "metadata": {},
          "execution_count": 8
        }
      ]
    },
    {
      "cell_type": "markdown",
      "metadata": {
        "id": "2e3qBaKrbog0"
      },
      "source": [
        "Since we have strings values the description gives:\n",
        "\n",
        "* the count\n",
        "* the number of unique values in the columns\n",
        "* the most frequent value\n",
        "* the number of times the most frequent row appears"
      ]
    },
    {
      "cell_type": "markdown",
      "metadata": {
        "id": "xWPeoACKcQ3d"
      },
      "source": [
        "Try to detect the problems of this dataset listing the possible improvement actions, i.e. the data preparation action we would use.\n",
        "\n",
        "1. General Data Preparation actions for any analytics\n",
        "2. For Machine Learning analysis"
      ]
    }
  ]
}