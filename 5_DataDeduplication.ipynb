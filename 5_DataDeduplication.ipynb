{
  "nbformat": 4,
  "nbformat_minor": 0,
  "metadata": {
    "colab": {
      "name": "5_DataDeduplication.ipynb",
      "provenance": [],
      "collapsed_sections": [
        "Fl63iytuECuX",
        "L-61GkO-MSeY",
        "59s24NFGQJSM",
        "NuBtADMHfHy5",
        "dRJk1UzzhpCF"
      ]
    },
    "kernelspec": {
      "name": "python3",
      "display_name": "Python 3"
    },
    "language_info": {
      "name": "python"
    }
  },
  "cells": [
    {
      "cell_type": "code",
      "metadata": {
        "id": "iCfwc2rPNZuL"
      },
      "source": [
        "from IPython.core.interactiveshell import InteractiveShell\n",
        "InteractiveShell.ast_node_interactivity = 'all'"
      ],
      "execution_count": 1,
      "outputs": []
    },
    {
      "cell_type": "markdown",
      "metadata": {
        "id": "QAauw4DhGg1y"
      },
      "source": [
        "# Fifth Exercise Session"
      ]
    },
    {
      "cell_type": "code",
      "metadata": {
        "id": "mRt8u13KGfgh"
      },
      "source": [
        "import pandas as  pd\n",
        "import numpy as np"
      ],
      "execution_count": 2,
      "outputs": []
    },
    {
      "cell_type": "markdown",
      "metadata": {
        "id": "SxahzJYVD-jw"
      },
      "source": [
        "## Similarity measures"
      ]
    },
    {
      "cell_type": "markdown",
      "metadata": {
        "id": "zH1FJY6EZU8d"
      },
      "source": [
        "The following similarity functions are used to find duplicates."
      ]
    },
    {
      "cell_type": "markdown",
      "metadata": {
        "id": "JYQMRRG6QOIM"
      },
      "source": [
        "### String-based similarity functions"
      ]
    },
    {
      "cell_type": "markdown",
      "metadata": {
        "id": "Fl63iytuECuX"
      },
      "source": [
        "#### Levenstein similarity distances"
      ]
    },
    {
      "cell_type": "markdown",
      "metadata": {
        "id": "Yb4QDF1OFhLH"
      },
      "source": [
        "Compares two words character by character"
      ]
    },
    {
      "cell_type": "code",
      "metadata": {
        "id": "BYSGAZAvNbaV"
      },
      "source": [
        "def LD(s, t):\n",
        "  if s == \"\":\n",
        "    return len(t)\n",
        "  if t == \"\":\n",
        "    return len(s)\n",
        "  if s[-1] == t[-1]:\n",
        "    cost = 0\n",
        "  else:\n",
        "    cost = 1\n",
        "  \n",
        "  res = min([LD(s[:-1], t)+1,\n",
        "             LD(s, t[:-1])+1,\n",
        "             LD(s[:-1], t[:-1]) + cost])\n",
        "  return res"
      ],
      "execution_count": 3,
      "outputs": []
    },
    {
      "cell_type": "code",
      "metadata": {
        "colab": {
          "base_uri": "https://localhost:8080/"
        },
        "id": "71zlsCh_ITDN",
        "outputId": "63006cdc-c888-4aa9-9333-f5d3b194552e"
      },
      "source": [
        "s = \"Maria\"\n",
        "t = \"Mariella\"\n",
        "distance = LD(s,t)\n",
        "distance"
      ],
      "execution_count": 4,
      "outputs": [
        {
          "output_type": "execute_result",
          "data": {
            "text/plain": [
              "3"
            ]
          },
          "metadata": {},
          "execution_count": 4
        }
      ]
    },
    {
      "cell_type": "markdown",
      "metadata": {
        "id": "Dpz5-1omIT4Y"
      },
      "source": [
        "Aligning the words we obtain \"Mari---a\" for Maria and \"Mari---a\" for Mariella since the common letters must be aligned. Hence to go from Maria to Mariella you have to do 3 insertion (or 3 deletion from Mariella to Maria)."
      ]
    },
    {
      "cell_type": "markdown",
      "metadata": {
        "id": "N3krleOGJDqm"
      },
      "source": [
        "This is not a similarity but a distance, the number of operation to change one word in the other."
      ]
    },
    {
      "cell_type": "markdown",
      "metadata": {
        "id": "8UPxcflIJQHm"
      },
      "source": [
        "The similarity is defined as\n",
        "\n",
        "$1 - \\frac{LD(s1, s2)}{max(|s1|, |s2|)}$"
      ]
    },
    {
      "cell_type": "code",
      "metadata": {
        "colab": {
          "base_uri": "https://localhost:8080/"
        },
        "id": "z84jOJEwJKzR",
        "outputId": "f9614747-5eba-4a85-89e8-8929afe1f862"
      },
      "source": [
        "max_len = max(len(s), len(t))\n",
        "similarity = 1 - (distance/max_len)\n",
        "similarity"
      ],
      "execution_count": 5,
      "outputs": [
        {
          "output_type": "execute_result",
          "data": {
            "text/plain": [
              "0.625"
            ]
          },
          "metadata": {},
          "execution_count": 5
        }
      ]
    },
    {
      "cell_type": "markdown",
      "metadata": {
        "id": "Iei9UtMXKMor"
      },
      "source": [
        "We can use a library to implement the Leveinstein distance"
      ]
    },
    {
      "cell_type": "code",
      "metadata": {
        "colab": {
          "base_uri": "https://localhost:8080/"
        },
        "id": "2TUa8TGqKRLW",
        "outputId": "5b08ca27-bccf-49c7-95b9-10331a7e5186"
      },
      "source": [
        "!pip install Levenshtein\n",
        "import Levenshtein as lev"
      ],
      "execution_count": 6,
      "outputs": [
        {
          "output_type": "stream",
          "name": "stdout",
          "text": [
            "Requirement already satisfied: Levenshtein in /home/alessio/anaconda3/envs/DataQuality/lib/python3.8/site-packages (0.16.0)\r\n",
            "Requirement already satisfied: rapidfuzz<1.9,>=1.8.2 in /home/alessio/anaconda3/envs/DataQuality/lib/python3.8/site-packages (from Levenshtein) (1.8.3)\r\n"
          ]
        }
      ]
    },
    {
      "cell_type": "code",
      "metadata": {
        "colab": {
          "base_uri": "https://localhost:8080/"
        },
        "id": "DMtrgWfkKitt",
        "outputId": "d3ccc34c-8e3e-486c-c3da-22db8c655f97"
      },
      "source": [
        "distance = lev.distance(s, t)\n",
        "distance"
      ],
      "execution_count": 7,
      "outputs": [
        {
          "output_type": "execute_result",
          "data": {
            "text/plain": [
              "3"
            ]
          },
          "metadata": {},
          "execution_count": 7
        }
      ]
    },
    {
      "cell_type": "code",
      "metadata": {
        "colab": {
          "base_uri": "https://localhost:8080/"
        },
        "id": "dZ8iRjHHKmqD",
        "outputId": "18e938ac-8891-47a7-b82c-169207a1833d"
      },
      "source": [
        "ratio = lev.ratio(s, t)\n",
        "ratio"
      ],
      "execution_count": 8,
      "outputs": [
        {
          "output_type": "execute_result",
          "data": {
            "text/plain": [
              "0.7692307692307692"
            ]
          },
          "metadata": {},
          "execution_count": 8
        }
      ]
    },
    {
      "cell_type": "markdown",
      "metadata": {
        "id": "5IfQo7lhKtQz"
      },
      "source": [
        "The similarity value is different. Checking on the internet  seems that the formula is the same but it gives different results. The problems may come from some strange computation inside the ratio function."
      ]
    },
    {
      "cell_type": "markdown",
      "metadata": {
        "id": "L-61GkO-MSeY"
      },
      "source": [
        "#### Jaro-winkler"
      ]
    },
    {
      "cell_type": "code",
      "metadata": {
        "colab": {
          "base_uri": "https://localhost:8080/"
        },
        "id": "ryED2Ib1MWzc",
        "outputId": "6e341f43-e917-4c88-94ca-d822e92c17ef"
      },
      "source": [
        "!pip install jaro-winkler\n",
        "import jaro"
      ],
      "execution_count": 9,
      "outputs": [
        {
          "output_type": "stream",
          "name": "stdout",
          "text": [
            "Requirement already satisfied: jaro-winkler in /home/alessio/anaconda3/envs/DataQuality/lib/python3.8/site-packages (2.0.0)\r\n"
          ]
        }
      ]
    },
    {
      "cell_type": "code",
      "metadata": {
        "colab": {
          "base_uri": "https://localhost:8080/"
        },
        "id": "8fg0aTugMehT",
        "outputId": "c20a4624-d342-46b9-aa6e-6d902d5ff85a"
      },
      "source": [
        "jaro.jaro_winkler_metric('Maria', 'Mariella')"
      ],
      "execution_count": 10,
      "outputs": [
        {
          "output_type": "execute_result",
          "data": {
            "text/plain": [
              "0.925"
            ]
          },
          "metadata": {},
          "execution_count": 10
        }
      ]
    },
    {
      "cell_type": "markdown",
      "metadata": {
        "id": "saqzeis3Myt5"
      },
      "source": [
        "The similarity is high since the common letter are already in the same order, so there is no need of trnasposition to obtain the same order of the common letters.\n",
        "\n",
        "Even if they have a different length this does not have an impact on the measure, what counts is only te order of the common character."
      ]
    },
    {
      "cell_type": "markdown",
      "metadata": {
        "id": "y5hjDlQxNOzj"
      },
      "source": [
        "#### Soundex"
      ]
    },
    {
      "cell_type": "markdown",
      "metadata": {
        "id": "xLE-sQCqNeTb"
      },
      "source": [
        "Do not use the library called soundex since it has some problems, use instead:"
      ]
    },
    {
      "cell_type": "code",
      "metadata": {
        "colab": {
          "base_uri": "https://localhost:8080/"
        },
        "id": "qCt3EKVCNPIR",
        "outputId": "8d344559-9760-4219-8fa9-da5b402e06f3"
      },
      "source": [
        "!pip install pyphonetics\n",
        "import pyphonetics as pyph"
      ],
      "execution_count": 11,
      "outputs": [
        {
          "output_type": "stream",
          "name": "stdout",
          "text": [
            "Requirement already satisfied: pyphonetics in /home/alessio/anaconda3/envs/DataQuality/lib/python3.8/site-packages (0.5.3)\r\n",
            "Requirement already satisfied: unidecode<2,>=1 in /home/alessio/anaconda3/envs/DataQuality/lib/python3.8/site-packages (from pyphonetics) (1.3.2)\r\n"
          ]
        }
      ]
    },
    {
      "cell_type": "code",
      "metadata": {
        "colab": {
          "base_uri": "https://localhost:8080/"
        },
        "id": "Z8lbolh1NxMM",
        "outputId": "8596c125-3343-43d7-de6b-685576973c12"
      },
      "source": [
        "soundex = pyph.Soundex()\n",
        "print(soundex.phonetics('Maria'))\n",
        "print(soundex.phonetics('Mariella'))"
      ],
      "execution_count": 12,
      "outputs": [
        {
          "output_type": "stream",
          "name": "stdout",
          "text": [
            "M600\n",
            "M640\n"
          ]
        }
      ]
    },
    {
      "cell_type": "markdown",
      "metadata": {
        "id": "6KR2vK4-ODpU"
      },
      "source": [
        "The code is different since it is created picking the first letter of the word and then considering the first 3 consonant to define three numbers according to a fixed mapping from consonant to number."
      ]
    },
    {
      "cell_type": "code",
      "metadata": {
        "colab": {
          "base_uri": "https://localhost:8080/"
        },
        "id": "knib2qLvN8O9",
        "outputId": "877e8d17-e9bb-48bf-8b83-e77510effee4"
      },
      "source": [
        "soundex.sounds_like('Maria', 'Mariella')"
      ],
      "execution_count": 13,
      "outputs": [
        {
          "output_type": "execute_result",
          "data": {
            "text/plain": [
              "False"
            ]
          },
          "metadata": {},
          "execution_count": 13
        }
      ]
    },
    {
      "cell_type": "markdown",
      "metadata": {
        "id": "tZtpZLzQObv6"
      },
      "source": [
        "This function return true if the two words have the same sound i.e. the same soundex code and false otherwise."
      ]
    },
    {
      "cell_type": "code",
      "metadata": {
        "colab": {
          "base_uri": "https://localhost:8080/"
        },
        "id": "1-xpBcw9OmvK",
        "outputId": "03bc07c7-7bcb-4e90-f74d-52a32e032ba9"
      },
      "source": [
        "print(soundex.sounds_like('London', 'Londonnnn'))\n",
        "print(soundex.sounds_like('London', 'Londonttt'))"
      ],
      "execution_count": 14,
      "outputs": [
        {
          "output_type": "stream",
          "name": "stdout",
          "text": [
            "True\n",
            "True\n"
          ]
        }
      ]
    },
    {
      "cell_type": "markdown",
      "metadata": {
        "id": "eezJ6ylIOzVS"
      },
      "source": [
        "Is true since the soundex code does not consider doubles and more than 3 consonant."
      ]
    },
    {
      "cell_type": "markdown",
      "metadata": {
        "id": "yNjOfSt7PKHz"
      },
      "source": [
        "When we have different soundex code we can compute the similarity comparing the two soundex codes. The sounds_like() function is too strict, we want to know if they are similar, not necessarily equal."
      ]
    },
    {
      "cell_type": "code",
      "metadata": {
        "colab": {
          "base_uri": "https://localhost:8080/"
        },
        "id": "qHTZvdhxPgaL",
        "outputId": "774a81a5-2244-426e-995a-321193694110"
      },
      "source": [
        "soundex.distance('Maria', 'Mariella', metric = 'levenshtein')"
      ],
      "execution_count": 15,
      "outputs": [
        {
          "output_type": "execute_result",
          "data": {
            "text/plain": [
              "1"
            ]
          },
          "metadata": {},
          "execution_count": 15
        }
      ]
    },
    {
      "cell_type": "markdown",
      "metadata": {
        "id": "acKn8-C7PpmI"
      },
      "source": [
        "The latter returned the distance between the two soundex code (in particular the levenshtein one, but different metrics can be specified).\n",
        "\n",
        "This is useful for real application where you may want to compare the codes, understanding how close they are."
      ]
    },
    {
      "cell_type": "markdown",
      "metadata": {
        "id": "59s24NFGQJSM"
      },
      "source": [
        "### Item-based similarity functions"
      ]
    },
    {
      "cell_type": "markdown",
      "metadata": {
        "id": "qbiMSV91QZ_N"
      },
      "source": [
        "#### Jaccard"
      ]
    },
    {
      "cell_type": "markdown",
      "metadata": {
        "id": "BTeodV2fQexI"
      },
      "source": [
        "$\\frac{|A \\cap B|}{|A \\cup B}|$"
      ]
    },
    {
      "cell_type": "code",
      "metadata": {
        "id": "woo2QTlVP16K"
      },
      "source": [
        "a = [0, 1, 2, 5, 6, 8, 9]\n",
        "b = [0, 2, 3, 4, 5, 7, 9]"
      ],
      "execution_count": 16,
      "outputs": []
    },
    {
      "cell_type": "code",
      "metadata": {
        "id": "F_X5jkcyRGcZ"
      },
      "source": [
        "def jaccard(list1, list2):\n",
        "  instersection_len = len(list(set(list1).intersection(list2)))\n",
        "  union_len = len(list1) + len(list2) - instersection_len\n",
        "  return float(instersection_len / union_len)"
      ],
      "execution_count": 17,
      "outputs": []
    },
    {
      "cell_type": "code",
      "metadata": {
        "colab": {
          "base_uri": "https://localhost:8080/"
        },
        "id": "KUZRoeI5Rqe2",
        "outputId": "dd0af3da-0266-49a1-fbbe-5ad61627b247"
      },
      "source": [
        "jaccard(a, b)"
      ],
      "execution_count": 18,
      "outputs": [
        {
          "output_type": "execute_result",
          "data": {
            "text/plain": [
              "0.4"
            ]
          },
          "metadata": {},
          "execution_count": 18
        }
      ]
    },
    {
      "cell_type": "markdown",
      "metadata": {
        "id": "2zTzQDGzRurg"
      },
      "source": [
        "The computation of the distance is easy since it consider the list as a bag of words considering the common elements in the two normalized by the whole set of words.\n",
        "\n",
        "Jaccard distance is useful to compare two documents, seen as two bag of words:"
      ]
    },
    {
      "cell_type": "code",
      "metadata": {
        "colab": {
          "base_uri": "https://localhost:8080/"
        },
        "id": "mRwz5wZkSIlv",
        "outputId": "8deafc20-29de-4067-c0bc-cf49cf4d43c3"
      },
      "source": [
        "doc1 = {'data', 'are', 'valuable', 'assets', 'of', 'the', 'company'}\n",
        "doc2 = {'data', 'are', 'assets'}\n",
        "jaccard(doc1, doc2)"
      ],
      "execution_count": 19,
      "outputs": [
        {
          "output_type": "execute_result",
          "data": {
            "text/plain": [
              "0.42857142857142855"
            ]
          },
          "metadata": {},
          "execution_count": 19
        }
      ]
    },
    {
      "cell_type": "markdown",
      "metadata": {
        "id": "Oh4NLPKTQbrm"
      },
      "source": [
        "#### TF-IDF"
      ]
    },
    {
      "cell_type": "markdown",
      "metadata": {
        "id": "Dp9NFcDYS0YM"
      },
      "source": [
        "It is used more frequently than Jaccard to compare text."
      ]
    },
    {
      "cell_type": "markdown",
      "metadata": {
        "id": "p84NBk2ES8at"
      },
      "source": [
        "The words are modeled as vector and then are compared. \n",
        "\n",
        "Furthermore, it gives more weight to frequent words inside a text but also decrease the weight of words really common in the union of the documents."
      ]
    },
    {
      "cell_type": "code",
      "metadata": {
        "id": "n5LG8ICOQeHg"
      },
      "source": [
        "corpus = ['Data are valuable assets of the company',\n",
        "          'Data are assets',\n",
        "          'Data quality is important for a company',\n",
        "          'Data Quality is important for data scientists',\n",
        "          'Data are valuable products of the company'\n",
        "         ]"
      ],
      "execution_count": 20,
      "outputs": []
    },
    {
      "cell_type": "code",
      "metadata": {
        "id": "dZxzPg89Tp2x"
      },
      "source": [
        "from sklearn.metrics.pairwise import cosine_similarity\n",
        "from sklearn.feature_extraction.text import TfidfVectorizer"
      ],
      "execution_count": 21,
      "outputs": []
    },
    {
      "cell_type": "code",
      "metadata": {
        "id": "R3004II0T16M"
      },
      "source": [
        "tfidf_vectorizer = TfidfVectorizer()"
      ],
      "execution_count": 22,
      "outputs": []
    },
    {
      "cell_type": "markdown",
      "metadata": {
        "id": "W-O999EXUUTy"
      },
      "source": [
        "Then the different vectors must be computed. They are stored into a matrix"
      ]
    },
    {
      "cell_type": "code",
      "metadata": {
        "id": "bsOtf0f5T6t2"
      },
      "source": [
        "tfidf_matrix = tfidf_vectorizer.fit_transform(corpus)"
      ],
      "execution_count": 23,
      "outputs": []
    },
    {
      "cell_type": "markdown",
      "metadata": {
        "id": "lLAoCLtSVL2O"
      },
      "source": [
        "Then the cosine similarity can be used to find the similarity between the different vectors that represent the different texts in the corpus."
      ]
    },
    {
      "cell_type": "code",
      "metadata": {
        "colab": {
          "base_uri": "https://localhost:8080/"
        },
        "id": "b0vx5rGAUIcQ",
        "outputId": "72897e95-0e47-4cc2-bc19-564306d0d373"
      },
      "source": [
        "cosine_sim = cosine_similarity(tfidf_matrix, tfidf_matrix)\n",
        "cosine_sim"
      ],
      "execution_count": 24,
      "outputs": [
        {
          "output_type": "execute_result",
          "data": {
            "text/plain": [
              "array([[1.        , 0.59652436, 0.19322415, 0.11072936, 0.78925825],\n",
              "       [0.59652436, 1.        , 0.10886738, 0.18562421, 0.29050797],\n",
              "       [0.19322415, 0.10886738, 1.        , 0.79495102, 0.18476652],\n",
              "       [0.11072936, 0.18562421, 0.79495102, 1.        , 0.10588262],\n",
              "       [0.78925825, 0.29050797, 0.18476652, 0.10588262, 1.        ]])"
            ]
          },
          "metadata": {},
          "execution_count": 24
        }
      ]
    },
    {
      "cell_type": "markdown",
      "metadata": {
        "id": "oiuqz7wVVXB6"
      },
      "source": [
        "Each row and column correspond to a text of the corpus: it concide with the index inside the corpus vector (indeed on the diagonal there are only 1 since each element is equal to itself)."
      ]
    },
    {
      "cell_type": "markdown",
      "metadata": {
        "id": "pUNA4xjmZSZ6"
      },
      "source": [
        "## Deduplication Detection"
      ]
    },
    {
      "cell_type": "code",
      "metadata": {
        "id": "NSkJQuVEVVny"
      },
      "source": [
        "data = pd.read_csv('./Dataset/iris.csv')"
      ],
      "execution_count": 51,
      "outputs": []
    },
    {
      "cell_type": "markdown",
      "metadata": {
        "id": "4NXa-cmJaIOR"
      },
      "source": [
        "We already have seen how to find the **exact** tuple duplicates of the dataset."
      ]
    },
    {
      "cell_type": "code",
      "metadata": {
        "colab": {
          "base_uri": "https://localhost:8080/"
        },
        "id": "ZTsbo9u8aFZd",
        "outputId": "8beb874a-14f1-4dd5-9269-311807816242"
      },
      "source": [
        "data.duplicated()"
      ],
      "execution_count": 52,
      "outputs": [
        {
          "output_type": "execute_result",
          "data": {
            "text/plain": [
              "0      False\n",
              "1      False\n",
              "2      False\n",
              "3      False\n",
              "4      False\n",
              "       ...  \n",
              "145    False\n",
              "146    False\n",
              "147    False\n",
              "148    False\n",
              "149    False\n",
              "Length: 150, dtype: bool"
            ]
          },
          "metadata": {},
          "execution_count": 52
        }
      ]
    },
    {
      "cell_type": "code",
      "metadata": {
        "colab": {
          "base_uri": "https://localhost:8080/"
        },
        "id": "7-zDPDzbaYts",
        "outputId": "3b7c01ff-93e9-4357-dabb-8d19b650a7d2"
      },
      "source": [
        "print(data.duplicated().any())\n",
        "print(data.duplicated().sum())"
      ],
      "execution_count": 53,
      "outputs": [
        {
          "output_type": "stream",
          "name": "stdout",
          "text": [
            "True\n",
            "1\n"
          ]
        }
      ]
    },
    {
      "cell_type": "code",
      "metadata": {
        "colab": {
          "base_uri": "https://localhost:8080/",
          "height": 81
        },
        "id": "i6UIKk5JadO3",
        "outputId": "dd38f972-341d-44e2-93c8-95f7b26fe3c5"
      },
      "source": [
        "data[data.duplicated()]"
      ],
      "execution_count": 54,
      "outputs": [
        {
          "output_type": "execute_result",
          "data": {
            "text/plain": [
              "     sepal.length  sepal.width  petal.length  petal.width    variety\n",
              "142           5.8          2.7           5.1          1.9  Virginica"
            ],
            "text/html": [
              "<div>\n",
              "<style scoped>\n",
              "    .dataframe tbody tr th:only-of-type {\n",
              "        vertical-align: middle;\n",
              "    }\n",
              "\n",
              "    .dataframe tbody tr th {\n",
              "        vertical-align: top;\n",
              "    }\n",
              "\n",
              "    .dataframe thead th {\n",
              "        text-align: right;\n",
              "    }\n",
              "</style>\n",
              "<table border=\"1\" class=\"dataframe\">\n",
              "  <thead>\n",
              "    <tr style=\"text-align: right;\">\n",
              "      <th></th>\n",
              "      <th>sepal.length</th>\n",
              "      <th>sepal.width</th>\n",
              "      <th>petal.length</th>\n",
              "      <th>petal.width</th>\n",
              "      <th>variety</th>\n",
              "    </tr>\n",
              "  </thead>\n",
              "  <tbody>\n",
              "    <tr>\n",
              "      <th>142</th>\n",
              "      <td>5.8</td>\n",
              "      <td>2.7</td>\n",
              "      <td>5.1</td>\n",
              "      <td>1.9</td>\n",
              "      <td>Virginica</td>\n",
              "    </tr>\n",
              "  </tbody>\n",
              "</table>\n",
              "</div>"
            ]
          },
          "metadata": {},
          "execution_count": 54
        }
      ]
    },
    {
      "cell_type": "markdown",
      "metadata": {
        "id": "odMh_1BNa2g2"
      },
      "source": [
        "If we want to drop it we can do"
      ]
    },
    {
      "cell_type": "code",
      "metadata": {
        "id": "zUVF8-PPa5aG"
      },
      "source": [
        "data = data.drop_duplicates()"
      ],
      "execution_count": 55,
      "outputs": []
    },
    {
      "cell_type": "code",
      "metadata": {
        "colab": {
          "base_uri": "https://localhost:8080/"
        },
        "id": "tGGQVu1ga8np",
        "outputId": "7bd233d1-c807-464f-f986-a5b2e6e7819b"
      },
      "source": [
        "data.duplicated().any()"
      ],
      "execution_count": 56,
      "outputs": [
        {
          "output_type": "execute_result",
          "data": {
            "text/plain": [
              "False"
            ]
          },
          "metadata": {},
          "execution_count": 56
        }
      ]
    },
    {
      "cell_type": "markdown",
      "metadata": {
        "id": "AYLZvrM0bKUu"
      },
      "source": [
        "Most of the times duplicates are not **exactly** matching but they are **similar**. Hence we have to use techniques such as data deduplication (single source) or recorlinkage/object identification (two sources). "
      ]
    },
    {
      "cell_type": "markdown",
      "metadata": {
        "id": "iK-TglPVbjod"
      },
      "source": [
        "### Data Deduplication"
      ]
    },
    {
      "cell_type": "markdown",
      "metadata": {
        "id": "D0IKiw_Yczvi"
      },
      "source": [
        "This techniques involve data deduplication accross two sources."
      ]
    },
    {
      "cell_type": "code",
      "metadata": {
        "colab": {
          "base_uri": "https://localhost:8080/"
        },
        "id": "vAME_tyBboeo",
        "outputId": "2e330fbb-7622-4dc4-9140-51a229ed68ba"
      },
      "source": [
        "!pip install recordlinkage\n",
        "import recordlinkage\n",
        "from recordlinkage.datasets import load_febrl1 # there are other dataset that have an increased volume"
      ],
      "execution_count": 57,
      "outputs": [
        {
          "output_type": "stream",
          "name": "stdout",
          "text": [
            "Requirement already satisfied: recordlinkage in /home/alessio/anaconda3/envs/DataQuality/lib/python3.8/site-packages (0.14)\r\n",
            "Requirement already satisfied: joblib in /home/alessio/anaconda3/envs/DataQuality/lib/python3.8/site-packages (from recordlinkage) (1.0.1)\r\n",
            "Requirement already satisfied: pandas>=0.23 in /home/alessio/anaconda3/envs/DataQuality/lib/python3.8/site-packages (from recordlinkage) (1.2.4)\r\n",
            "Requirement already satisfied: scikit-learn>=0.19.0 in /home/alessio/anaconda3/envs/DataQuality/lib/python3.8/site-packages (from recordlinkage) (0.24.1)\r\n",
            "Requirement already satisfied: numpy>=1.13.0 in /home/alessio/anaconda3/envs/DataQuality/lib/python3.8/site-packages (from recordlinkage) (1.20.1)\r\n",
            "Requirement already satisfied: jellyfish>=0.5.4 in /home/alessio/anaconda3/envs/DataQuality/lib/python3.8/site-packages (from recordlinkage) (0.8.9)\r\n",
            "Requirement already satisfied: scipy>=1 in /home/alessio/anaconda3/envs/DataQuality/lib/python3.8/site-packages (from recordlinkage) (1.6.2)\r\n",
            "Requirement already satisfied: python-dateutil>=2.7.3 in /home/alessio/anaconda3/envs/DataQuality/lib/python3.8/site-packages (from pandas>=0.23->recordlinkage) (2.8.1)\r\n",
            "Requirement already satisfied: pytz>=2017.3 in /home/alessio/anaconda3/envs/DataQuality/lib/python3.8/site-packages (from pandas>=0.23->recordlinkage) (2021.1)\n",
            "Requirement already satisfied: six>=1.5 in /home/alessio/anaconda3/envs/DataQuality/lib/python3.8/site-packages (from python-dateutil>=2.7.3->pandas>=0.23->recordlinkage) (1.15.0)\n",
            "Requirement already satisfied: threadpoolctl>=2.0.0 in /home/alessio/anaconda3/envs/DataQuality/lib/python3.8/site-packages (from scikit-learn>=0.19.0->recordlinkage) (2.1.0)\n"
          ]
        }
      ]
    },
    {
      "cell_type": "code",
      "metadata": {
        "colab": {
          "base_uri": "https://localhost:8080/",
          "height": 623
        },
        "id": "kZqSm_3Xb2m6",
        "outputId": "6e204440-c6e3-4363-e846-ee30be37ea90"
      },
      "source": [
        "data1 = load_febrl1()\n",
        "data1.head(10)"
      ],
      "execution_count": 58,
      "outputs": [
        {
          "output_type": "execute_result",
          "data": {
            "text/plain": [
              "              given_name     surname street_number          address_1  \\\n",
              "rec_id                                                                  \n",
              "rec-223-org          NaN      waller             6   tullaroop street   \n",
              "rec-122-org      lachlan       berry            69      giblin street   \n",
              "rec-373-org       deakin  sondergeld            48  goldfinch circuit   \n",
              "rec-10-dup-0       kayla  harrington           NaN     maltby circuit   \n",
              "rec-227-org         luke      purdon            23       ramsay place   \n",
              "rec-6-dup-0          NaN   trevorrow            16       dumas street   \n",
              "rec-190-dup-0     darcie      turtur            10     blacket street   \n",
              "rec-294-org      william      bishop            21      neworra place   \n",
              "rec-206-dup-0        NaN    lombardi            36      yerralee road   \n",
              "rec-344-org          NaN      julius            52       florey drive   \n",
              "\n",
              "                             address_2         suburb postcode state  \\\n",
              "rec_id                                                                 \n",
              "rec-223-org                   willaroo       st james     4011    wa   \n",
              "rec-122-org                  killarney        bittern     4814   qld   \n",
              "rec-373-org                    kooltuo     canterbury     2776   vic   \n",
              "rec-10-dup-0                   coaling       coolaroo     3465   nsw   \n",
              "rec-227-org                     mirani        garbutt     2260   vic   \n",
              "rec-6-dup-0    2/98-latchford barracks  mount immaney     2281    wa   \n",
              "rec-190-dup-0                   eureka  beverly hills     2263   nsw   \n",
              "rec-294-org                   apmnt 65      worongary     6225   qld   \n",
              "rec-206-dup-0      leisure living vlge      carlsruhe     3149   qld   \n",
              "rec-344-org       north stirling downs       coolaroo     2259   qld   \n",
              "\n",
              "              date_of_birth soc_sec_id  \n",
              "rec_id                                  \n",
              "rec-223-org        19081209    6988048  \n",
              "rec-122-org        19990219    7364009  \n",
              "rec-373-org        19600210    2635962  \n",
              "rec-10-dup-0       19150612    9004242  \n",
              "rec-227-org        19831024    8099933  \n",
              "rec-6-dup-0        19530313    4811642  \n",
              "rec-190-dup-0           NaN    2025650  \n",
              "rec-294-org        19490130    9773843  \n",
              "rec-206-dup-0      19870919    1613132  \n",
              "rec-344-org        19630521    1797144  "
            ],
            "text/html": [
              "<div>\n",
              "<style scoped>\n",
              "    .dataframe tbody tr th:only-of-type {\n",
              "        vertical-align: middle;\n",
              "    }\n",
              "\n",
              "    .dataframe tbody tr th {\n",
              "        vertical-align: top;\n",
              "    }\n",
              "\n",
              "    .dataframe thead th {\n",
              "        text-align: right;\n",
              "    }\n",
              "</style>\n",
              "<table border=\"1\" class=\"dataframe\">\n",
              "  <thead>\n",
              "    <tr style=\"text-align: right;\">\n",
              "      <th></th>\n",
              "      <th>given_name</th>\n",
              "      <th>surname</th>\n",
              "      <th>street_number</th>\n",
              "      <th>address_1</th>\n",
              "      <th>address_2</th>\n",
              "      <th>suburb</th>\n",
              "      <th>postcode</th>\n",
              "      <th>state</th>\n",
              "      <th>date_of_birth</th>\n",
              "      <th>soc_sec_id</th>\n",
              "    </tr>\n",
              "    <tr>\n",
              "      <th>rec_id</th>\n",
              "      <th></th>\n",
              "      <th></th>\n",
              "      <th></th>\n",
              "      <th></th>\n",
              "      <th></th>\n",
              "      <th></th>\n",
              "      <th></th>\n",
              "      <th></th>\n",
              "      <th></th>\n",
              "      <th></th>\n",
              "    </tr>\n",
              "  </thead>\n",
              "  <tbody>\n",
              "    <tr>\n",
              "      <th>rec-223-org</th>\n",
              "      <td>NaN</td>\n",
              "      <td>waller</td>\n",
              "      <td>6</td>\n",
              "      <td>tullaroop street</td>\n",
              "      <td>willaroo</td>\n",
              "      <td>st james</td>\n",
              "      <td>4011</td>\n",
              "      <td>wa</td>\n",
              "      <td>19081209</td>\n",
              "      <td>6988048</td>\n",
              "    </tr>\n",
              "    <tr>\n",
              "      <th>rec-122-org</th>\n",
              "      <td>lachlan</td>\n",
              "      <td>berry</td>\n",
              "      <td>69</td>\n",
              "      <td>giblin street</td>\n",
              "      <td>killarney</td>\n",
              "      <td>bittern</td>\n",
              "      <td>4814</td>\n",
              "      <td>qld</td>\n",
              "      <td>19990219</td>\n",
              "      <td>7364009</td>\n",
              "    </tr>\n",
              "    <tr>\n",
              "      <th>rec-373-org</th>\n",
              "      <td>deakin</td>\n",
              "      <td>sondergeld</td>\n",
              "      <td>48</td>\n",
              "      <td>goldfinch circuit</td>\n",
              "      <td>kooltuo</td>\n",
              "      <td>canterbury</td>\n",
              "      <td>2776</td>\n",
              "      <td>vic</td>\n",
              "      <td>19600210</td>\n",
              "      <td>2635962</td>\n",
              "    </tr>\n",
              "    <tr>\n",
              "      <th>rec-10-dup-0</th>\n",
              "      <td>kayla</td>\n",
              "      <td>harrington</td>\n",
              "      <td>NaN</td>\n",
              "      <td>maltby circuit</td>\n",
              "      <td>coaling</td>\n",
              "      <td>coolaroo</td>\n",
              "      <td>3465</td>\n",
              "      <td>nsw</td>\n",
              "      <td>19150612</td>\n",
              "      <td>9004242</td>\n",
              "    </tr>\n",
              "    <tr>\n",
              "      <th>rec-227-org</th>\n",
              "      <td>luke</td>\n",
              "      <td>purdon</td>\n",
              "      <td>23</td>\n",
              "      <td>ramsay place</td>\n",
              "      <td>mirani</td>\n",
              "      <td>garbutt</td>\n",
              "      <td>2260</td>\n",
              "      <td>vic</td>\n",
              "      <td>19831024</td>\n",
              "      <td>8099933</td>\n",
              "    </tr>\n",
              "    <tr>\n",
              "      <th>rec-6-dup-0</th>\n",
              "      <td>NaN</td>\n",
              "      <td>trevorrow</td>\n",
              "      <td>16</td>\n",
              "      <td>dumas street</td>\n",
              "      <td>2/98-latchford barracks</td>\n",
              "      <td>mount immaney</td>\n",
              "      <td>2281</td>\n",
              "      <td>wa</td>\n",
              "      <td>19530313</td>\n",
              "      <td>4811642</td>\n",
              "    </tr>\n",
              "    <tr>\n",
              "      <th>rec-190-dup-0</th>\n",
              "      <td>darcie</td>\n",
              "      <td>turtur</td>\n",
              "      <td>10</td>\n",
              "      <td>blacket street</td>\n",
              "      <td>eureka</td>\n",
              "      <td>beverly hills</td>\n",
              "      <td>2263</td>\n",
              "      <td>nsw</td>\n",
              "      <td>NaN</td>\n",
              "      <td>2025650</td>\n",
              "    </tr>\n",
              "    <tr>\n",
              "      <th>rec-294-org</th>\n",
              "      <td>william</td>\n",
              "      <td>bishop</td>\n",
              "      <td>21</td>\n",
              "      <td>neworra place</td>\n",
              "      <td>apmnt 65</td>\n",
              "      <td>worongary</td>\n",
              "      <td>6225</td>\n",
              "      <td>qld</td>\n",
              "      <td>19490130</td>\n",
              "      <td>9773843</td>\n",
              "    </tr>\n",
              "    <tr>\n",
              "      <th>rec-206-dup-0</th>\n",
              "      <td>NaN</td>\n",
              "      <td>lombardi</td>\n",
              "      <td>36</td>\n",
              "      <td>yerralee road</td>\n",
              "      <td>leisure living vlge</td>\n",
              "      <td>carlsruhe</td>\n",
              "      <td>3149</td>\n",
              "      <td>qld</td>\n",
              "      <td>19870919</td>\n",
              "      <td>1613132</td>\n",
              "    </tr>\n",
              "    <tr>\n",
              "      <th>rec-344-org</th>\n",
              "      <td>NaN</td>\n",
              "      <td>julius</td>\n",
              "      <td>52</td>\n",
              "      <td>florey drive</td>\n",
              "      <td>north stirling downs</td>\n",
              "      <td>coolaroo</td>\n",
              "      <td>2259</td>\n",
              "      <td>qld</td>\n",
              "      <td>19630521</td>\n",
              "      <td>1797144</td>\n",
              "    </tr>\n",
              "  </tbody>\n",
              "</table>\n",
              "</div>"
            ]
          },
          "metadata": {},
          "execution_count": 58
        }
      ]
    },
    {
      "cell_type": "code",
      "metadata": {
        "colab": {
          "base_uri": "https://localhost:8080/"
        },
        "id": "zr3Qm1Aocm24",
        "outputId": "f9e72550-6e4b-4130-c5fe-766f977170e9"
      },
      "source": [
        "data1.shape"
      ],
      "execution_count": 61,
      "outputs": [
        {
          "output_type": "execute_result",
          "data": {
            "text/plain": [
              "(1000, 10)"
            ]
          },
          "metadata": {},
          "execution_count": 61
        }
      ]
    },
    {
      "cell_type": "code",
      "metadata": {
        "colab": {
          "base_uri": "https://localhost:8080/"
        },
        "id": "MS2Fmsq6ckVo",
        "outputId": "75f888c6-393b-48e6-d9ae-db2d21eed3ac"
      },
      "source": [
        "data1.duplicated().any()"
      ],
      "execution_count": 62,
      "outputs": [
        {
          "output_type": "execute_result",
          "data": {
            "text/plain": [
              "False"
            ]
          },
          "metadata": {},
          "execution_count": 62
        }
      ]
    },
    {
      "cell_type": "markdown",
      "metadata": {
        "id": "Capz9-3YdHYK"
      },
      "source": [
        "There are not **exact** duplicates."
      ]
    },
    {
      "cell_type": "markdown",
      "metadata": {
        "id": "IjBooIp1dNVy"
      },
      "source": [
        "The first thing we have to do is to build the set of tuple pairs to compare (in the package is called indexing)"
      ]
    },
    {
      "cell_type": "code",
      "metadata": {
        "colab": {
          "base_uri": "https://localhost:8080/"
        },
        "id": "xLDXHXN2dbTK",
        "outputId": "e884f3ce-1684-4049-ce2a-13944b599c40"
      },
      "source": [
        "indexer = recordlinkage.Index()\n",
        "indexer.full() # considering all the possible pairs (=> WARNING A full index can result in large number of record pairs.)\n",
        "candidate_links = indexer.index(data1)"
      ],
      "execution_count": 63,
      "outputs": [
        {
          "output_type": "stream",
          "name": "stdout",
          "text": [
            "WARNING:recordlinkage:indexing - performance warning - A full index can result in large number of record pairs.\n"
          ]
        },
        {
          "output_type": "execute_result",
          "data": {
            "text/plain": [
              "<Index>"
            ]
          },
          "metadata": {},
          "execution_count": 63
        }
      ]
    },
    {
      "cell_type": "markdown",
      "metadata": {
        "id": "E1LoT9mTdvHh"
      },
      "source": [
        "The possible record pairs are: $\\frac{1000^2 - 1000}{2} = 499500$ since we consider all the combinations ($1000^2$) but not the ones between the same record ($-1000$), considering that the comparison between two record should not be considered two times since it is symmetric ($/2$)."
      ]
    },
    {
      "cell_type": "code",
      "metadata": {
        "colab": {
          "base_uri": "https://localhost:8080/"
        },
        "id": "ROyYDvvEeirA",
        "outputId": "bc385719-e08d-454d-ce7c-2a20ef53a445"
      },
      "source": [
        "print(len(candidate_links))"
      ],
      "execution_count": 64,
      "outputs": [
        {
          "output_type": "stream",
          "name": "stdout",
          "text": [
            "499500\n"
          ]
        }
      ]
    },
    {
      "cell_type": "markdown",
      "metadata": {
        "id": "vX7gypusevYc"
      },
      "source": [
        "How we can minimize the number of comparison i.e. to minimize the number of candidate links?\n",
        "\n",
        "*   Blocking\n",
        "*   Sorted Neighborhood (sliding window)\n",
        "\n"
      ]
    },
    {
      "cell_type": "markdown",
      "metadata": {
        "id": "NuBtADMHfHy5"
      },
      "source": [
        "#### Comparison set: Blocking"
      ]
    },
    {
      "cell_type": "markdown",
      "metadata": {
        "id": "fs5q6gPnfMs9"
      },
      "source": [
        "Do not consider the record that surely do not match, and this can be done considering blocks of tuples that agree on the value of an attribute.\n",
        "\n",
        "Let's consider block considering the first name "
      ]
    },
    {
      "cell_type": "code",
      "metadata": {
        "colab": {
          "base_uri": "https://localhost:8080/"
        },
        "id": "j0sjK58Meqyh",
        "outputId": "4eef5d30-fda0-4f4d-a609-fc1d888121ae"
      },
      "source": [
        "indexer = recordlinkage.Index()\n",
        "indexer.block('given_name')\n",
        "candidate_links = indexer.index(data1)"
      ],
      "execution_count": 121,
      "outputs": [
        {
          "output_type": "execute_result",
          "data": {
            "text/plain": [
              "<Index>"
            ]
          },
          "metadata": {},
          "execution_count": 121
        }
      ]
    },
    {
      "cell_type": "code",
      "metadata": {
        "colab": {
          "base_uri": "https://localhost:8080/"
        },
        "id": "N_hBuAhjgWZg",
        "outputId": "0a3335aa-30c5-44be-e853-7962e3c4a508"
      },
      "source": [
        "print(len(candidate_links))"
      ],
      "execution_count": 122,
      "outputs": [
        {
          "output_type": "stream",
          "name": "stdout",
          "text": [
            "2082\n"
          ]
        }
      ]
    },
    {
      "cell_type": "code",
      "metadata": {
        "colab": {
          "base_uri": "https://localhost:8080/"
        },
        "id": "Z2stPm5vgqgX",
        "outputId": "a5aade99-d1d4-4170-8155-847b568f3209"
      },
      "source": [
        "indexer = recordlinkage.Index()\n",
        "indexer.block('surname')\n",
        "candidate_links = indexer.index(data1)"
      ],
      "execution_count": 123,
      "outputs": [
        {
          "output_type": "execute_result",
          "data": {
            "text/plain": [
              "<Index>"
            ]
          },
          "metadata": {},
          "execution_count": 123
        }
      ]
    },
    {
      "cell_type": "code",
      "metadata": {
        "colab": {
          "base_uri": "https://localhost:8080/"
        },
        "id": "g4Zmwxlsgtq2",
        "outputId": "c3448b68-a332-41d3-bdaf-55f6d7c2926a"
      },
      "source": [
        "print(len(candidate_links))"
      ],
      "execution_count": 124,
      "outputs": [
        {
          "output_type": "stream",
          "name": "stdout",
          "text": [
            "1707\n"
          ]
        }
      ]
    },
    {
      "cell_type": "markdown",
      "metadata": {
        "id": "_2s6Os39gwCq"
      },
      "source": [
        "Considering the blocking using the surname we obtain less candidate link since the surname is discriminating more than the name."
      ]
    },
    {
      "cell_type": "code",
      "metadata": {
        "colab": {
          "base_uri": "https://localhost:8080/"
        },
        "id": "qrdVX6aRhArt",
        "outputId": "372c8cf2-4a4b-4755-c903-a6a8675d870b"
      },
      "source": [
        "indexer = recordlinkage.Index()\n",
        "indexer.block('given_name', 'surname')\n",
        "candidate_links = indexer.index(data1)"
      ],
      "execution_count": 125,
      "outputs": [
        {
          "output_type": "execute_result",
          "data": {
            "text/plain": [
              "<Index>"
            ]
          },
          "metadata": {},
          "execution_count": 125
        }
      ]
    },
    {
      "cell_type": "code",
      "metadata": {
        "colab": {
          "base_uri": "https://localhost:8080/"
        },
        "id": "abjjevnwhGlG",
        "outputId": "776fe24d-66b1-49c2-ecd3-c4bee21780bf"
      },
      "source": [
        "print(len(candidate_links))"
      ],
      "execution_count": 126,
      "outputs": [
        {
          "output_type": "stream",
          "name": "stdout",
          "text": [
            "197\n"
          ]
        }
      ]
    },
    {
      "cell_type": "markdown",
      "metadata": {
        "id": "19Kyx7IqhM9L"
      },
      "source": [
        "Considering the blocking using both name and  surname we obtain even less candidate links."
      ]
    },
    {
      "cell_type": "markdown",
      "metadata": {
        "id": "kpJ9rjAtgZlW"
      },
      "source": [
        "The **disdvantage** is that is not possible to compare tuples in twoo different blocks, so there can be problems in the identification of all the duplicates."
      ]
    },
    {
      "cell_type": "code",
      "metadata": {
        "id": "e9qcH8LehsIE"
      },
      "source": [
        "#indexer = recordlinkage.BlockIndex(on='given_name')"
      ],
      "execution_count": 127,
      "outputs": []
    },
    {
      "cell_type": "markdown",
      "metadata": {
        "id": "dRJk1UzzhpCF"
      },
      "source": [
        "#### Comparison set: Sorted Neighborhood"
      ]
    },
    {
      "cell_type": "code",
      "metadata": {
        "id": "_ghjgxjohwvd"
      },
      "source": [
        "indexer = recordlinkage.SortedNeighbourhoodIndex('given_name', window = 9)\n",
        "candidate_links = indexer.index(data1)"
      ],
      "execution_count": 128,
      "outputs": []
    },
    {
      "cell_type": "code",
      "metadata": {
        "colab": {
          "base_uri": "https://localhost:8080/"
        },
        "id": "VnfBgxkhiBJF",
        "outputId": "7f7036bd-2803-46a0-f37d-4fc575802271"
      },
      "source": [
        "print(len(candidate_links))"
      ],
      "execution_count": 129,
      "outputs": [
        {
          "output_type": "stream",
          "name": "stdout",
          "text": [
            "11447\n"
          ]
        }
      ]
    },
    {
      "cell_type": "markdown",
      "metadata": {
        "id": "612l3v1liJ71"
      },
      "source": [
        "Increasing the window length we expect the candidate link to increase since you can do more comparisons.\n",
        "\n",
        "Instead decreasing the window length we expect the candidate link to decrease since you can do more comparisons."
      ]
    },
    {
      "cell_type": "code",
      "metadata": {
        "id": "Jw3-ifstiNls"
      },
      "source": [
        "indexer = recordlinkage.SortedNeighbourhoodIndex('given_name', window = 15)\n",
        "candidate_links = indexer.index(data1)"
      ],
      "execution_count": 130,
      "outputs": []
    },
    {
      "cell_type": "code",
      "metadata": {
        "colab": {
          "base_uri": "https://localhost:8080/"
        },
        "id": "65yQA7C7iOzg",
        "outputId": "b62e8559-5be1-4231-ff9f-61317885a7f8"
      },
      "source": [
        "print(len(candidate_links))"
      ],
      "execution_count": 131,
      "outputs": [
        {
          "output_type": "stream",
          "name": "stdout",
          "text": [
            "19036\n"
          ]
        }
      ]
    },
    {
      "cell_type": "markdown",
      "metadata": {
        "id": "2T8gKV07i4ud"
      },
      "source": [
        "Usually to define the length of the window we look for the number of comparison that we want to do and try to match them."
      ]
    },
    {
      "cell_type": "markdown",
      "metadata": {
        "id": "9Z4gVPLSjWTZ"
      },
      "source": [
        "### Comparison"
      ]
    },
    {
      "cell_type": "code",
      "metadata": {
        "id": "25cxq6THjlFb"
      },
      "source": [
        "compare_cl = recordlinkage.Compare()"
      ],
      "execution_count": 132,
      "outputs": []
    },
    {
      "cell_type": "code",
      "metadata": {
        "colab": {
          "base_uri": "https://localhost:8080/"
        },
        "id": "0bofp2-yjkdm",
        "outputId": "30b90d3c-e449-4da2-a6f7-e6eeb670d209"
      },
      "source": [
        "compare_cl.exact('given_name', 'given_name', label = 'given_name') # repeat the attribute since the function is able to work with 2 different datasets"
      ],
      "execution_count": 133,
      "outputs": [
        {
          "output_type": "execute_result",
          "data": {
            "text/plain": [
              "<Compare>"
            ]
          },
          "metadata": {},
          "execution_count": 133
        }
      ]
    },
    {
      "cell_type": "markdown",
      "metadata": {
        "id": "Fsv3G03AkDQi"
      },
      "source": [
        "There are function to evaluate similarity of different types of data (e.g. strings, dates,...)"
      ]
    },
    {
      "cell_type": "code",
      "metadata": {
        "colab": {
          "base_uri": "https://localhost:8080/"
        },
        "id": "u0YCqrUMj-65",
        "outputId": "518f4514-5195-499e-f611-25c4456a5171"
      },
      "source": [
        "compare_cl.string('surname', 'surname', method='jarowinkler', threshold=0.85, label='surname')"
      ],
      "execution_count": 134,
      "outputs": [
        {
          "output_type": "execute_result",
          "data": {
            "text/plain": [
              "<Compare>"
            ]
          },
          "metadata": {},
          "execution_count": 134
        }
      ]
    },
    {
      "cell_type": "code",
      "metadata": {
        "colab": {
          "base_uri": "https://localhost:8080/"
        },
        "id": "O91rahfvkcOF",
        "outputId": "c28f5889-06e4-40bb-801a-d5e92b5cae4b"
      },
      "source": [
        "compare_cl.exact('date_of_birth', 'date_of_birth', label = 'date_of_birth')"
      ],
      "execution_count": 135,
      "outputs": [
        {
          "output_type": "execute_result",
          "data": {
            "text/plain": [
              "<Compare>"
            ]
          },
          "metadata": {},
          "execution_count": 135
        }
      ]
    },
    {
      "cell_type": "code",
      "metadata": {
        "colab": {
          "base_uri": "https://localhost:8080/"
        },
        "id": "JAGVcfkakpUt",
        "outputId": "1b2d0ba1-2a3f-445a-cfcf-2ac7b3f82c8e"
      },
      "source": [
        "compare_cl.exact('suburb', 'suburb', label = 'suburb')"
      ],
      "execution_count": 136,
      "outputs": [
        {
          "output_type": "execute_result",
          "data": {
            "text/plain": [
              "<Compare>"
            ]
          },
          "metadata": {},
          "execution_count": 136
        }
      ]
    },
    {
      "cell_type": "code",
      "metadata": {
        "colab": {
          "base_uri": "https://localhost:8080/"
        },
        "id": "EqeHPEKZlYeD",
        "outputId": "6e7e6237-476e-4df0-a0e9-b1b89b3591f7"
      },
      "source": [
        "compare_cl.exact('state', 'state', label = 'state')"
      ],
      "execution_count": 137,
      "outputs": [
        {
          "output_type": "execute_result",
          "data": {
            "text/plain": [
              "<Compare>"
            ]
          },
          "metadata": {},
          "execution_count": 137
        }
      ]
    },
    {
      "cell_type": "code",
      "metadata": {
        "colab": {
          "base_uri": "https://localhost:8080/"
        },
        "id": "ynT_sZ_TktFe",
        "outputId": "cdbf54b7-6279-4c19-f256-24744a08d7a7"
      },
      "source": [
        "compare_cl.string('address_1', 'address_1', threshold=0.85, label='address_1')"
      ],
      "execution_count": 138,
      "outputs": [
        {
          "output_type": "execute_result",
          "data": {
            "text/plain": [
              "<Compare>"
            ]
          },
          "metadata": {},
          "execution_count": 138
        }
      ]
    },
    {
      "cell_type": "code",
      "metadata": {
        "colab": {
          "base_uri": "https://localhost:8080/",
          "height": 708
        },
        "id": "8ETFt6PQk7GV",
        "outputId": "27430ef5-79bb-4cf5-85ad-aaadbcd31368"
      },
      "source": [
        "features = compare_cl.compute(candidate_links, data1)\n",
        "features.head(20)\n",
        "\n",
        "## ATTENTION: the result is a little different from the one otained by the prof. \n",
        "## Everything was copied correctly "
      ],
      "execution_count": 139,
      "outputs": [
        {
          "output_type": "execute_result",
          "data": {
            "text/plain": [
              "                             given_name  surname  date_of_birth  suburb  \\\n",
              "rec_id_1      rec_id_2                                                    \n",
              "rec-469-dup-0 rec-7-org               0      0.0              0       0   \n",
              "rec-373-dup-0 rec-94-org              0      0.0              0       0   \n",
              "              rec-94-dup-0            0      0.0              0       0   \n",
              "rec-10-org    rec-285-org             0      0.0              0       0   \n",
              "rec-342-org   rec-285-org             0      0.0              0       0   \n",
              "rec-342-dup-0 rec-285-org             0      0.0              0       0   \n",
              "rec-472-org   rec-321-dup-0           0      0.0              0       0   \n",
              "rec-330-org   rec-321-dup-0           0      0.0              0       0   \n",
              "rec-474-org   rec-386-dup-0           0      0.0              0       0   \n",
              "              rec-386-org             0      0.0              0       0   \n",
              "rec-26-org    rec-335-org             0      0.0              0       0   \n",
              "              rec-335-dup-0           0      0.0              0       0   \n",
              "              rec-316-dup-0           0      0.0              0       0   \n",
              "              rec-316-org             0      0.0              0       0   \n",
              "rec-81-org    rec-335-org             0      0.0              0       0   \n",
              "              rec-335-dup-0           0      0.0              0       0   \n",
              "              rec-316-dup-0           0      0.0              0       0   \n",
              "              rec-316-org             0      0.0              0       0   \n",
              "rec-385-dup-0 rec-67-org              0      0.0              0       0   \n",
              "              rec-284-dup-0           0      0.0              0       0   \n",
              "\n",
              "                             state  address_1  \n",
              "rec_id_1      rec_id_2                         \n",
              "rec-469-dup-0 rec-7-org          0        0.0  \n",
              "rec-373-dup-0 rec-94-org         0        0.0  \n",
              "              rec-94-dup-0       0        0.0  \n",
              "rec-10-org    rec-285-org        0        0.0  \n",
              "rec-342-org   rec-285-org        0        0.0  \n",
              "rec-342-dup-0 rec-285-org        0        0.0  \n",
              "rec-472-org   rec-321-dup-0      0        0.0  \n",
              "rec-330-org   rec-321-dup-0      0        0.0  \n",
              "rec-474-org   rec-386-dup-0      1        0.0  \n",
              "              rec-386-org        1        0.0  \n",
              "rec-26-org    rec-335-org        0        0.0  \n",
              "              rec-335-dup-0      0        0.0  \n",
              "              rec-316-dup-0      0        0.0  \n",
              "              rec-316-org        0        0.0  \n",
              "rec-81-org    rec-335-org        1        0.0  \n",
              "              rec-335-dup-0      1        0.0  \n",
              "              rec-316-dup-0      0        0.0  \n",
              "              rec-316-org        0        0.0  \n",
              "rec-385-dup-0 rec-67-org         0        0.0  \n",
              "              rec-284-dup-0      0        0.0  "
            ],
            "text/html": [
              "<div>\n",
              "<style scoped>\n",
              "    .dataframe tbody tr th:only-of-type {\n",
              "        vertical-align: middle;\n",
              "    }\n",
              "\n",
              "    .dataframe tbody tr th {\n",
              "        vertical-align: top;\n",
              "    }\n",
              "\n",
              "    .dataframe thead th {\n",
              "        text-align: right;\n",
              "    }\n",
              "</style>\n",
              "<table border=\"1\" class=\"dataframe\">\n",
              "  <thead>\n",
              "    <tr style=\"text-align: right;\">\n",
              "      <th></th>\n",
              "      <th></th>\n",
              "      <th>given_name</th>\n",
              "      <th>surname</th>\n",
              "      <th>date_of_birth</th>\n",
              "      <th>suburb</th>\n",
              "      <th>state</th>\n",
              "      <th>address_1</th>\n",
              "    </tr>\n",
              "    <tr>\n",
              "      <th>rec_id_1</th>\n",
              "      <th>rec_id_2</th>\n",
              "      <th></th>\n",
              "      <th></th>\n",
              "      <th></th>\n",
              "      <th></th>\n",
              "      <th></th>\n",
              "      <th></th>\n",
              "    </tr>\n",
              "  </thead>\n",
              "  <tbody>\n",
              "    <tr>\n",
              "      <th>rec-469-dup-0</th>\n",
              "      <th>rec-7-org</th>\n",
              "      <td>0</td>\n",
              "      <td>0.0</td>\n",
              "      <td>0</td>\n",
              "      <td>0</td>\n",
              "      <td>0</td>\n",
              "      <td>0.0</td>\n",
              "    </tr>\n",
              "    <tr>\n",
              "      <th rowspan=\"2\" valign=\"top\">rec-373-dup-0</th>\n",
              "      <th>rec-94-org</th>\n",
              "      <td>0</td>\n",
              "      <td>0.0</td>\n",
              "      <td>0</td>\n",
              "      <td>0</td>\n",
              "      <td>0</td>\n",
              "      <td>0.0</td>\n",
              "    </tr>\n",
              "    <tr>\n",
              "      <th>rec-94-dup-0</th>\n",
              "      <td>0</td>\n",
              "      <td>0.0</td>\n",
              "      <td>0</td>\n",
              "      <td>0</td>\n",
              "      <td>0</td>\n",
              "      <td>0.0</td>\n",
              "    </tr>\n",
              "    <tr>\n",
              "      <th>rec-10-org</th>\n",
              "      <th>rec-285-org</th>\n",
              "      <td>0</td>\n",
              "      <td>0.0</td>\n",
              "      <td>0</td>\n",
              "      <td>0</td>\n",
              "      <td>0</td>\n",
              "      <td>0.0</td>\n",
              "    </tr>\n",
              "    <tr>\n",
              "      <th>rec-342-org</th>\n",
              "      <th>rec-285-org</th>\n",
              "      <td>0</td>\n",
              "      <td>0.0</td>\n",
              "      <td>0</td>\n",
              "      <td>0</td>\n",
              "      <td>0</td>\n",
              "      <td>0.0</td>\n",
              "    </tr>\n",
              "    <tr>\n",
              "      <th>rec-342-dup-0</th>\n",
              "      <th>rec-285-org</th>\n",
              "      <td>0</td>\n",
              "      <td>0.0</td>\n",
              "      <td>0</td>\n",
              "      <td>0</td>\n",
              "      <td>0</td>\n",
              "      <td>0.0</td>\n",
              "    </tr>\n",
              "    <tr>\n",
              "      <th>rec-472-org</th>\n",
              "      <th>rec-321-dup-0</th>\n",
              "      <td>0</td>\n",
              "      <td>0.0</td>\n",
              "      <td>0</td>\n",
              "      <td>0</td>\n",
              "      <td>0</td>\n",
              "      <td>0.0</td>\n",
              "    </tr>\n",
              "    <tr>\n",
              "      <th>rec-330-org</th>\n",
              "      <th>rec-321-dup-0</th>\n",
              "      <td>0</td>\n",
              "      <td>0.0</td>\n",
              "      <td>0</td>\n",
              "      <td>0</td>\n",
              "      <td>0</td>\n",
              "      <td>0.0</td>\n",
              "    </tr>\n",
              "    <tr>\n",
              "      <th rowspan=\"2\" valign=\"top\">rec-474-org</th>\n",
              "      <th>rec-386-dup-0</th>\n",
              "      <td>0</td>\n",
              "      <td>0.0</td>\n",
              "      <td>0</td>\n",
              "      <td>0</td>\n",
              "      <td>1</td>\n",
              "      <td>0.0</td>\n",
              "    </tr>\n",
              "    <tr>\n",
              "      <th>rec-386-org</th>\n",
              "      <td>0</td>\n",
              "      <td>0.0</td>\n",
              "      <td>0</td>\n",
              "      <td>0</td>\n",
              "      <td>1</td>\n",
              "      <td>0.0</td>\n",
              "    </tr>\n",
              "    <tr>\n",
              "      <th rowspan=\"4\" valign=\"top\">rec-26-org</th>\n",
              "      <th>rec-335-org</th>\n",
              "      <td>0</td>\n",
              "      <td>0.0</td>\n",
              "      <td>0</td>\n",
              "      <td>0</td>\n",
              "      <td>0</td>\n",
              "      <td>0.0</td>\n",
              "    </tr>\n",
              "    <tr>\n",
              "      <th>rec-335-dup-0</th>\n",
              "      <td>0</td>\n",
              "      <td>0.0</td>\n",
              "      <td>0</td>\n",
              "      <td>0</td>\n",
              "      <td>0</td>\n",
              "      <td>0.0</td>\n",
              "    </tr>\n",
              "    <tr>\n",
              "      <th>rec-316-dup-0</th>\n",
              "      <td>0</td>\n",
              "      <td>0.0</td>\n",
              "      <td>0</td>\n",
              "      <td>0</td>\n",
              "      <td>0</td>\n",
              "      <td>0.0</td>\n",
              "    </tr>\n",
              "    <tr>\n",
              "      <th>rec-316-org</th>\n",
              "      <td>0</td>\n",
              "      <td>0.0</td>\n",
              "      <td>0</td>\n",
              "      <td>0</td>\n",
              "      <td>0</td>\n",
              "      <td>0.0</td>\n",
              "    </tr>\n",
              "    <tr>\n",
              "      <th rowspan=\"4\" valign=\"top\">rec-81-org</th>\n",
              "      <th>rec-335-org</th>\n",
              "      <td>0</td>\n",
              "      <td>0.0</td>\n",
              "      <td>0</td>\n",
              "      <td>0</td>\n",
              "      <td>1</td>\n",
              "      <td>0.0</td>\n",
              "    </tr>\n",
              "    <tr>\n",
              "      <th>rec-335-dup-0</th>\n",
              "      <td>0</td>\n",
              "      <td>0.0</td>\n",
              "      <td>0</td>\n",
              "      <td>0</td>\n",
              "      <td>1</td>\n",
              "      <td>0.0</td>\n",
              "    </tr>\n",
              "    <tr>\n",
              "      <th>rec-316-dup-0</th>\n",
              "      <td>0</td>\n",
              "      <td>0.0</td>\n",
              "      <td>0</td>\n",
              "      <td>0</td>\n",
              "      <td>0</td>\n",
              "      <td>0.0</td>\n",
              "    </tr>\n",
              "    <tr>\n",
              "      <th>rec-316-org</th>\n",
              "      <td>0</td>\n",
              "      <td>0.0</td>\n",
              "      <td>0</td>\n",
              "      <td>0</td>\n",
              "      <td>0</td>\n",
              "      <td>0.0</td>\n",
              "    </tr>\n",
              "    <tr>\n",
              "      <th rowspan=\"2\" valign=\"top\">rec-385-dup-0</th>\n",
              "      <th>rec-67-org</th>\n",
              "      <td>0</td>\n",
              "      <td>0.0</td>\n",
              "      <td>0</td>\n",
              "      <td>0</td>\n",
              "      <td>0</td>\n",
              "      <td>0.0</td>\n",
              "    </tr>\n",
              "    <tr>\n",
              "      <th>rec-284-dup-0</th>\n",
              "      <td>0</td>\n",
              "      <td>0.0</td>\n",
              "      <td>0</td>\n",
              "      <td>0</td>\n",
              "      <td>0</td>\n",
              "      <td>0.0</td>\n",
              "    </tr>\n",
              "  </tbody>\n",
              "</table>\n",
              "</div>"
            ]
          },
          "metadata": {},
          "execution_count": 139
        }
      ]
    },
    {
      "cell_type": "markdown",
      "metadata": {
        "id": "0K4lpSAJjT-Z"
      },
      "source": [
        "The zeros and the one tell us if the tuples satisfy the comparison function or not. "
      ]
    },
    {
      "cell_type": "code",
      "metadata": {
        "colab": {
          "base_uri": "https://localhost:8080/",
          "height": 300
        },
        "id": "hBg-2TeJmEiq",
        "outputId": "9fa28145-6ac5-4bbc-b422-56cbd7de4893"
      },
      "source": [
        "features.describe()"
      ],
      "execution_count": 140,
      "outputs": [
        {
          "output_type": "execute_result",
          "data": {
            "text/plain": [
              "         given_name       surname  date_of_birth        suburb         state  \\\n",
              "count  19036.000000  19036.000000   19036.000000  19036.000000  19036.000000   \n",
              "mean       0.109372      0.021486       0.017756      0.014604      0.248056   \n",
              "std        0.312113      0.145000       0.132066      0.119964      0.431896   \n",
              "min        0.000000      0.000000       0.000000      0.000000      0.000000   \n",
              "25%        0.000000      0.000000       0.000000      0.000000      0.000000   \n",
              "50%        0.000000      0.000000       0.000000      0.000000      0.000000   \n",
              "75%        0.000000      0.000000       0.000000      0.000000      0.000000   \n",
              "max        1.000000      1.000000       1.000000      1.000000      1.000000   \n",
              "\n",
              "          address_1  \n",
              "count  19036.000000  \n",
              "mean       0.017493  \n",
              "std        0.131103  \n",
              "min        0.000000  \n",
              "25%        0.000000  \n",
              "50%        0.000000  \n",
              "75%        0.000000  \n",
              "max        1.000000  "
            ],
            "text/html": [
              "<div>\n",
              "<style scoped>\n",
              "    .dataframe tbody tr th:only-of-type {\n",
              "        vertical-align: middle;\n",
              "    }\n",
              "\n",
              "    .dataframe tbody tr th {\n",
              "        vertical-align: top;\n",
              "    }\n",
              "\n",
              "    .dataframe thead th {\n",
              "        text-align: right;\n",
              "    }\n",
              "</style>\n",
              "<table border=\"1\" class=\"dataframe\">\n",
              "  <thead>\n",
              "    <tr style=\"text-align: right;\">\n",
              "      <th></th>\n",
              "      <th>given_name</th>\n",
              "      <th>surname</th>\n",
              "      <th>date_of_birth</th>\n",
              "      <th>suburb</th>\n",
              "      <th>state</th>\n",
              "      <th>address_1</th>\n",
              "    </tr>\n",
              "  </thead>\n",
              "  <tbody>\n",
              "    <tr>\n",
              "      <th>count</th>\n",
              "      <td>19036.000000</td>\n",
              "      <td>19036.000000</td>\n",
              "      <td>19036.000000</td>\n",
              "      <td>19036.000000</td>\n",
              "      <td>19036.000000</td>\n",
              "      <td>19036.000000</td>\n",
              "    </tr>\n",
              "    <tr>\n",
              "      <th>mean</th>\n",
              "      <td>0.109372</td>\n",
              "      <td>0.021486</td>\n",
              "      <td>0.017756</td>\n",
              "      <td>0.014604</td>\n",
              "      <td>0.248056</td>\n",
              "      <td>0.017493</td>\n",
              "    </tr>\n",
              "    <tr>\n",
              "      <th>std</th>\n",
              "      <td>0.312113</td>\n",
              "      <td>0.145000</td>\n",
              "      <td>0.132066</td>\n",
              "      <td>0.119964</td>\n",
              "      <td>0.431896</td>\n",
              "      <td>0.131103</td>\n",
              "    </tr>\n",
              "    <tr>\n",
              "      <th>min</th>\n",
              "      <td>0.000000</td>\n",
              "      <td>0.000000</td>\n",
              "      <td>0.000000</td>\n",
              "      <td>0.000000</td>\n",
              "      <td>0.000000</td>\n",
              "      <td>0.000000</td>\n",
              "    </tr>\n",
              "    <tr>\n",
              "      <th>25%</th>\n",
              "      <td>0.000000</td>\n",
              "      <td>0.000000</td>\n",
              "      <td>0.000000</td>\n",
              "      <td>0.000000</td>\n",
              "      <td>0.000000</td>\n",
              "      <td>0.000000</td>\n",
              "    </tr>\n",
              "    <tr>\n",
              "      <th>50%</th>\n",
              "      <td>0.000000</td>\n",
              "      <td>0.000000</td>\n",
              "      <td>0.000000</td>\n",
              "      <td>0.000000</td>\n",
              "      <td>0.000000</td>\n",
              "      <td>0.000000</td>\n",
              "    </tr>\n",
              "    <tr>\n",
              "      <th>75%</th>\n",
              "      <td>0.000000</td>\n",
              "      <td>0.000000</td>\n",
              "      <td>0.000000</td>\n",
              "      <td>0.000000</td>\n",
              "      <td>0.000000</td>\n",
              "      <td>0.000000</td>\n",
              "    </tr>\n",
              "    <tr>\n",
              "      <th>max</th>\n",
              "      <td>1.000000</td>\n",
              "      <td>1.000000</td>\n",
              "      <td>1.000000</td>\n",
              "      <td>1.000000</td>\n",
              "      <td>1.000000</td>\n",
              "      <td>1.000000</td>\n",
              "    </tr>\n",
              "  </tbody>\n",
              "</table>\n",
              "</div>"
            ]
          },
          "metadata": {},
          "execution_count": 140
        }
      ]
    },
    {
      "cell_type": "markdown",
      "metadata": {
        "id": "ebwTW8ZNmXGx"
      },
      "source": [
        "With the latter function we could see, looking at the count row, where the matching of the comperison are."
      ]
    },
    {
      "cell_type": "markdown",
      "metadata": {
        "id": "dpPpCf_UnIqU"
      },
      "source": [
        "We can count the sum of boolean values to know if there are some matches or not:"
      ]
    },
    {
      "cell_type": "code",
      "metadata": {
        "colab": {
          "base_uri": "https://localhost:8080/"
        },
        "id": "XP_TEBKcmnP_",
        "outputId": "9a3aaed1-77c7-4553-d8d3-cdbcfa8749da"
      },
      "source": [
        "features.sum(axis=1).value_counts().sort_index(ascending=False)"
      ],
      "execution_count": 141,
      "outputs": [
        {
          "output_type": "execute_result",
          "data": {
            "text/plain": [
              "6.0      142\n",
              "5.0      167\n",
              "4.0       55\n",
              "3.0       15\n",
              "2.0      396\n",
              "1.0     5418\n",
              "0.0    12843\n",
              "dtype: int64"
            ]
          },
          "metadata": {},
          "execution_count": 141
        }
      ]
    },
    {
      "cell_type": "markdown",
      "metadata": {
        "id": "7iywZYlqnRS_"
      },
      "source": [
        "Hence in the dataset we have 142 comparisons that has a row, in the feature matrix, full of 1, so they are clearly duplicates"
      ]
    },
    {
      "cell_type": "code",
      "metadata": {
        "colab": {
          "base_uri": "https://localhost:8080/"
        },
        "id": "iddUjKe9n3Vj",
        "outputId": "5c24d0df-3ab2-4ce3-baf2-17811cfbb529"
      },
      "source": [
        "matches = features[features.sum(axis=1) > 4]\n",
        "len(matches)"
      ],
      "execution_count": 143,
      "outputs": [
        {
          "output_type": "execute_result",
          "data": {
            "text/plain": [
              "309"
            ]
          },
          "metadata": {},
          "execution_count": 143
        }
      ]
    },
    {
      "cell_type": "code",
      "metadata": {
        "colab": {
          "base_uri": "https://localhost:8080/",
          "height": 238
        },
        "id": "YA2ANA-roEoW",
        "outputId": "505dbfd4-9aca-492b-fc40-eb50f5cf08ec"
      },
      "source": [
        "matches.head()"
      ],
      "execution_count": 144,
      "outputs": [
        {
          "output_type": "execute_result",
          "data": {
            "text/plain": [
              "                            given_name  surname  date_of_birth  suburb  state  \\\n",
              "rec_id_1      rec_id_2                                                          \n",
              "rec-285-dup-0 rec-285-org            0      1.0              1       1      1   \n",
              "rec-491-dup-0 rec-491-org            0      1.0              1       1      1   \n",
              "rec-439-dup-0 rec-439-org            0      1.0              1       1      1   \n",
              "rec-71-org    rec-71-dup-0           0      1.0              1       1      1   \n",
              "rec-423-dup-0 rec-423-org            0      1.0              1       1      1   \n",
              "\n",
              "                            address_1  \n",
              "rec_id_1      rec_id_2                 \n",
              "rec-285-dup-0 rec-285-org         1.0  \n",
              "rec-491-dup-0 rec-491-org         1.0  \n",
              "rec-439-dup-0 rec-439-org         1.0  \n",
              "rec-71-org    rec-71-dup-0        1.0  \n",
              "rec-423-dup-0 rec-423-org         1.0  "
            ],
            "text/html": [
              "<div>\n",
              "<style scoped>\n",
              "    .dataframe tbody tr th:only-of-type {\n",
              "        vertical-align: middle;\n",
              "    }\n",
              "\n",
              "    .dataframe tbody tr th {\n",
              "        vertical-align: top;\n",
              "    }\n",
              "\n",
              "    .dataframe thead th {\n",
              "        text-align: right;\n",
              "    }\n",
              "</style>\n",
              "<table border=\"1\" class=\"dataframe\">\n",
              "  <thead>\n",
              "    <tr style=\"text-align: right;\">\n",
              "      <th></th>\n",
              "      <th></th>\n",
              "      <th>given_name</th>\n",
              "      <th>surname</th>\n",
              "      <th>date_of_birth</th>\n",
              "      <th>suburb</th>\n",
              "      <th>state</th>\n",
              "      <th>address_1</th>\n",
              "    </tr>\n",
              "    <tr>\n",
              "      <th>rec_id_1</th>\n",
              "      <th>rec_id_2</th>\n",
              "      <th></th>\n",
              "      <th></th>\n",
              "      <th></th>\n",
              "      <th></th>\n",
              "      <th></th>\n",
              "      <th></th>\n",
              "    </tr>\n",
              "  </thead>\n",
              "  <tbody>\n",
              "    <tr>\n",
              "      <th>rec-285-dup-0</th>\n",
              "      <th>rec-285-org</th>\n",
              "      <td>0</td>\n",
              "      <td>1.0</td>\n",
              "      <td>1</td>\n",
              "      <td>1</td>\n",
              "      <td>1</td>\n",
              "      <td>1.0</td>\n",
              "    </tr>\n",
              "    <tr>\n",
              "      <th>rec-491-dup-0</th>\n",
              "      <th>rec-491-org</th>\n",
              "      <td>0</td>\n",
              "      <td>1.0</td>\n",
              "      <td>1</td>\n",
              "      <td>1</td>\n",
              "      <td>1</td>\n",
              "      <td>1.0</td>\n",
              "    </tr>\n",
              "    <tr>\n",
              "      <th>rec-439-dup-0</th>\n",
              "      <th>rec-439-org</th>\n",
              "      <td>0</td>\n",
              "      <td>1.0</td>\n",
              "      <td>1</td>\n",
              "      <td>1</td>\n",
              "      <td>1</td>\n",
              "      <td>1.0</td>\n",
              "    </tr>\n",
              "    <tr>\n",
              "      <th>rec-71-org</th>\n",
              "      <th>rec-71-dup-0</th>\n",
              "      <td>0</td>\n",
              "      <td>1.0</td>\n",
              "      <td>1</td>\n",
              "      <td>1</td>\n",
              "      <td>1</td>\n",
              "      <td>1.0</td>\n",
              "    </tr>\n",
              "    <tr>\n",
              "      <th>rec-423-dup-0</th>\n",
              "      <th>rec-423-org</th>\n",
              "      <td>0</td>\n",
              "      <td>1.0</td>\n",
              "      <td>1</td>\n",
              "      <td>1</td>\n",
              "      <td>1</td>\n",
              "      <td>1.0</td>\n",
              "    </tr>\n",
              "  </tbody>\n",
              "</table>\n",
              "</div>"
            ]
          },
          "metadata": {},
          "execution_count": 144
        }
      ]
    },
    {
      "cell_type": "markdown",
      "metadata": {
        "id": "vgwncP_coa33"
      },
      "source": [
        "Which is the list of recors that are likely to be duplicates."
      ]
    },
    {
      "cell_type": "markdown",
      "metadata": {
        "id": "dVDSW6-rol8f"
      },
      "source": [
        "Hence this is a method to detect if the tuples are duplicated through the similarity measures. Is possible to define a similarity measure on all the attributes."
      ]
    }
  ]
}